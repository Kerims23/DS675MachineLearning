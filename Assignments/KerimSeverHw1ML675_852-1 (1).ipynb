{
  "nbformat": 4,
  "nbformat_minor": 0,
  "metadata": {
    "colab": {
      "provenance": []
    },
    "kernelspec": {
      "display_name": "Python 3",
      "language": "python",
      "name": "python3"
    },
    "language_info": {
      "codemirror_mode": {
        "name": "ipython",
        "version": 3
      },
      "file_extension": ".py",
      "mimetype": "text/x-python",
      "name": "python",
      "nbconvert_exporter": "python",
      "pygments_lexer": "ipython3",
      "version": "3.8.5"
    }
  },
  "cells": [
    {
      "cell_type": "markdown",
      "metadata": {
        "id": "Tajfsk_7JY3E"
      },
      "source": [
        "**Note to grader:** Each question consists of parts, e.g. Q1(i), Q1(ii), etc. Each part must be graded on scale of 0-4 scale, following the standard NJIT convention (A: 4, B+: 3.5, B: 3, C+: 2.5, C: 2, D: 1, F: 0).\n",
        "\n",
        "This review assignment is worth proportionally less than the others (40% of the weight of the Assignments 2-6). For Canvas to apply the weighting properly, the total score for this assignment must be re-scaled to 40."
      ]
    },
    {
      "cell_type": "markdown",
      "metadata": {
        "id": "e8SKy70z2osa"
      },
      "source": [
        "----\n",
        "\n",
        "<i>General instructions for this and future notebooks:</i>\n",
        "1. To run a cell and move to the next cell: Hold down <strong>Shift</strong> and press <strong>Enter</strong>.\n",
        "2. To run a cell and stay in the same cell: Hold down <b>Ctrl</b> and press <b>Enter</b>.\n",
        "3. Use the arrow up and down to navigate or do it manually as you prefer.\n",
        "4. Escape from typing a cell: Hit <b>Esc</b>.\n",
        "\n",
        "---------\n",
        "\n",
        "<b>Note: </b>\n",
        "\n",
        "> You must run/evaluate all cells. <b>Order of cell execution is important.</b>\n",
        "\n",
        "\n",
        "\n",
        "> You must work directly out of a copy of the assignment notebook given to you, in the exact order.\n"
      ]
    },
    {
      "cell_type": "code",
      "metadata": {
        "id": "I-sfBXk9AkfN"
      },
      "source": [
        "# Grader's area\n",
        "\n",
        "import numpy as np\n",
        "\n",
        "# This assignment contains 5 exercises each with at most 3 parts.\n",
        "# We initialize a 6x4 array M, containing zeros.\n",
        "# The grade for question i, part j, will be recorded in M[i,j].\n",
        "# Then the total grade can be easily computed in the last grader's area.\n",
        "\n",
        "maxScore = 0\n",
        "M = np.zeros((6,4))"
      ],
      "execution_count": null,
      "outputs": []
    },
    {
      "cell_type": "markdown",
      "metadata": {
        "id": "ly4laI7pfGJO"
      },
      "source": [
        "# **Assignment 1**\n",
        "The first assignment walks you through some elements of Python/Numpy. It is meant mostly to familiarize you with Jupyter notebooks. It includes cells for demonstration, leading to clearly-marked cells for questions.\n",
        "\n"
      ]
    },
    {
      "cell_type": "markdown",
      "metadata": {
        "id": "8owP8xk_yi6h"
      },
      "source": [
        "-----------------------"
      ]
    },
    {
      "cell_type": "markdown",
      "metadata": {
        "id": "r_tl0TKffGJP"
      },
      "source": [
        "### **Part 1: NumPy walk-through**\n",
        "\n",
        "Let's look at matrix A and how it is presented in Numpy:\n",
        "\\begin{equation*}\n",
        "A =\n",
        "\\begin{pmatrix}\n",
        "1 & 2 & 3 \\\\\n",
        "4 & 5 & 6 \\\\\n",
        "7 & 8 & 9\n",
        "\\end{pmatrix}\n",
        "\\end{equation*}"
      ]
    },
    {
      "cell_type": "code",
      "metadata": {
        "id": "ik4Gngp2fGJQ",
        "colab": {
          "base_uri": "https://localhost:8080/"
        },
        "outputId": "9fbe06f4-fb74-45b6-82a6-1c43bca1964f"
      },
      "source": [
        "import numpy as np\n",
        "\n",
        "# here the notation np.X invokes a function X from module np\n",
        "#    where np is an alias for numpy as note in line-1 above.\n",
        "\n",
        "A = np.array([[1,2,3],[4,5,6],[7,8,9]], dtype = float)\n",
        "print('This is how matrix A will be presented in Numpy:\\n\\n {}\\n'.format(A))\n",
        "\n",
        "# Example of describing A\n",
        "print('We just create a {}'.format(type(A)))\n",
        "print('Our template has shape as {} with total size of {}'.format(A.shape, A.size))\n",
        "print('The total dimension of A is {}'.format(A.ndim))\n",
        "\n",
        "# Multi-line print out\n",
        "print('''The data types of elements of A are {},\n",
        "        which consumes {} bytes'''.format(A.dtype, A.nbytes))"
      ],
      "execution_count": null,
      "outputs": [
        {
          "output_type": "stream",
          "name": "stdout",
          "text": [
            "This is how matrix A will be presented in Numpy:\n",
            "\n",
            " [[1. 2. 3.]\n",
            " [4. 5. 6.]\n",
            " [7. 8. 9.]]\n",
            "\n",
            "We just create a <class 'numpy.ndarray'>\n",
            "Our template has shape as (3, 3) with total size of 9\n",
            "The total dimension of A is 2\n",
            "The data types of elements of A are float64,\n",
            "        which consumes 72 bytes\n"
          ]
        }
      ]
    },
    {
      "cell_type": "code",
      "metadata": {
        "id": "oqhQyAZTfGJV",
        "colab": {
          "base_uri": "https://localhost:8080/"
        },
        "outputId": "bdd55c40-3c77-44dc-d3d3-fafc13a13cb8"
      },
      "source": [
        "# create a copy of A with integer type\n",
        "A_copy = np.array(A, dtype=np.int32)\n",
        "print(f'This is the matrix: {A_copy}')\n",
        "print(f'Byte size: {A_copy.nbytes}')\n",
        "print(f'This is the datatype of the matrix: {A_copy.dtype}')"
      ],
      "execution_count": null,
      "outputs": [
        {
          "output_type": "stream",
          "name": "stdout",
          "text": [
            "This is the matrix: [[1 2 3]\n",
            " [4 5 6]\n",
            " [7 8 9]]\n",
            "Byte size: 36\n",
            "This is the datatype of the matrix: int32\n"
          ]
        }
      ]
    },
    {
      "cell_type": "markdown",
      "metadata": {
        "id": "2XxgGLoIfGJY"
      },
      "source": [
        "#### NumPy array operations"
      ]
    },
    {
      "cell_type": "code",
      "metadata": {
        "id": "scImnsyJfGJY",
        "colab": {
          "base_uri": "https://localhost:8080/"
        },
        "outputId": "c464c143-0bca-44d0-c4bc-e28ecc705414"
      },
      "source": [
        "# Turn a python list to numpy array\n",
        "checking_acct = [10.1, 2.3, -3, 100]\n",
        "checking_acct_array = np.asarray(checking_acct)\n",
        "type(checking_acct_array)\n",
        "\n",
        "print(checking_acct)\n",
        "print(checking_acct_array)\n",
        "B = np.reshape(checking_acct, (2, 2))\n",
        "print(f'This is the list in a matrix: \\n {B}')"
      ],
      "execution_count": null,
      "outputs": [
        {
          "output_type": "stream",
          "name": "stdout",
          "text": [
            "[10.1, 2.3, -3, 100]\n",
            "[ 10.1   2.3  -3.  100. ]\n",
            "This is the list in a matrix: \n",
            " [[ 10.1   2.3]\n",
            " [ -3.  100. ]]\n"
          ]
        }
      ]
    },
    {
      "cell_type": "code",
      "metadata": {
        "id": "mHPmhzdOfGJb",
        "colab": {
          "base_uri": "https://localhost:8080/"
        },
        "outputId": "dc575e9e-18ac-4be4-cf83-5b046bfc46f8"
      },
      "source": [
        "# adding $2 to each deposit/withdrawal transaction\n",
        "checking_acct_array + 2"
      ],
      "execution_count": null,
      "outputs": [
        {
          "output_type": "execute_result",
          "data": {
            "text/plain": [
              "array([ 12.1,   4.3,  -1. , 102. ])"
            ]
          },
          "metadata": {},
          "execution_count": 10
        }
      ]
    },
    {
      "cell_type": "code",
      "metadata": {
        "id": "RQAbwx5gfGJe",
        "colab": {
          "base_uri": "https://localhost:8080/"
        },
        "outputId": "628d3e76-9311-4273-fa0c-524fea560570"
      },
      "source": [
        "# subtract $0.5 from each transaction\n",
        "checking_acct_array - 0.5"
      ],
      "execution_count": null,
      "outputs": [
        {
          "output_type": "execute_result",
          "data": {
            "text/plain": [
              "array([ 9.6,  1.8, -3.5, 99.5])"
            ]
          },
          "metadata": {},
          "execution_count": 11
        }
      ]
    },
    {
      "cell_type": "code",
      "metadata": {
        "id": "UaMikHWpfGJg",
        "colab": {
          "base_uri": "https://localhost:8080/"
        },
        "outputId": "3f011f99-6bf2-43bb-c792-5c26874292c2"
      },
      "source": [
        "# double it up\n",
        "checking_acct_array * 2"
      ],
      "execution_count": null,
      "outputs": [
        {
          "output_type": "execute_result",
          "data": {
            "text/plain": [
              "array([ 20.2,   4.6,  -6. , 200. ])"
            ]
          },
          "metadata": {},
          "execution_count": 12
        }
      ]
    },
    {
      "cell_type": "code",
      "metadata": {
        "id": "Viiu3ePUfGJi",
        "colab": {
          "base_uri": "https://localhost:8080/"
        },
        "outputId": "05397693-b685-425b-a90e-24cb00a5cf80"
      },
      "source": [
        "# divide the amounts by 3\n",
        "checking_acct_array / 3"
      ],
      "execution_count": null,
      "outputs": [
        {
          "output_type": "execute_result",
          "data": {
            "text/plain": [
              "array([ 3.36666667,  0.76666667, -1.        , 33.33333333])"
            ]
          },
          "metadata": {},
          "execution_count": 13
        }
      ]
    },
    {
      "cell_type": "markdown",
      "metadata": {
        "id": "oGZMC38NfGJl"
      },
      "source": [
        "Note: You can't do the above operation with list. You will have to iterate the list's elements. For example:"
      ]
    },
    {
      "cell_type": "code",
      "metadata": {
        "id": "u6EM8P58fGJl",
        "colab": {
          "base_uri": "https://localhost:8080/"
        },
        "outputId": "b611992b-5e05-41c1-c17a-7839dfa53091"
      },
      "source": [
        "# to add $2 to each transaction with checking_acct, we must use list comprehension.\n",
        "[x + 2 for x in checking_acct]"
      ],
      "execution_count": null,
      "outputs": [
        {
          "output_type": "execute_result",
          "data": {
            "text/plain": [
              "[12.1, 4.3, -1, 102]"
            ]
          },
          "metadata": {},
          "execution_count": 14
        }
      ]
    },
    {
      "cell_type": "code",
      "metadata": {
        "id": "eYGHGQRhfGJo",
        "colab": {
          "base_uri": "https://localhost:8080/"
        },
        "outputId": "5cf1f693-b15d-411a-a20d-ca274bd53a38"
      },
      "source": [
        "# create a one-dimensional array containing 10 ones\n",
        "np.ones(10)"
      ],
      "execution_count": null,
      "outputs": [
        {
          "output_type": "execute_result",
          "data": {
            "text/plain": [
              "array([1., 1., 1., 1., 1., 1., 1., 1., 1., 1.])"
            ]
          },
          "metadata": {},
          "execution_count": 15
        }
      ]
    },
    {
      "cell_type": "code",
      "metadata": {
        "id": "zU9DzeFtfGJr",
        "colab": {
          "base_uri": "https://localhost:8080/"
        },
        "outputId": "74464a4d-7da1-4046-b0da-a4e6887a6d32"
      },
      "source": [
        "# create an identity matrix\n",
        "np.identity(4)"
      ],
      "execution_count": null,
      "outputs": [
        {
          "output_type": "execute_result",
          "data": {
            "text/plain": [
              "array([[1., 0., 0., 0.],\n",
              "       [0., 1., 0., 0.],\n",
              "       [0., 0., 1., 0.],\n",
              "       [0., 0., 0., 1.]])"
            ]
          },
          "metadata": {},
          "execution_count": 16
        }
      ]
    },
    {
      "cell_type": "code",
      "metadata": {
        "id": "bzyiFkjpfGJt",
        "colab": {
          "base_uri": "https://localhost:8080/"
        },
        "outputId": "bf80ffd7-3fb9-4851-fbbf-c4a932ffa664"
      },
      "source": [
        "# create an array size 1 x 9 including only even numbers starting from 2\n",
        "x = np.arange(2,20,2)\n",
        "x"
      ],
      "execution_count": null,
      "outputs": [
        {
          "output_type": "execute_result",
          "data": {
            "text/plain": [
              "array([ 2,  4,  6,  8, 10, 12, 14, 16, 18])"
            ]
          },
          "metadata": {},
          "execution_count": 17
        }
      ]
    },
    {
      "cell_type": "code",
      "metadata": {
        "id": "Fi7yU_v3fGJw",
        "colab": {
          "base_uri": "https://localhost:8080/"
        },
        "outputId": "801f9d26-d679-4f7e-fa14-87ab16701cf1"
      },
      "source": [
        "# reshape x to size 3 x 3 we get the following matrix\n",
        "\n",
        "# Variables in Python (an numpy) are objects.\n",
        "# Each object contains data (like x does), but it is also associated\n",
        "# with methods, i.e. python functions that can apply to it.\n",
        "# When we apply such an operation, we use the notation x.fname, like\n",
        "# below.\n",
        "\n",
        "x = x.reshape(3,3)\n",
        "x"
      ],
      "execution_count": null,
      "outputs": [
        {
          "output_type": "execute_result",
          "data": {
            "text/plain": [
              "array([[ 2,  4,  6],\n",
              "       [ 8, 10, 12],\n",
              "       [14, 16, 18]])"
            ]
          },
          "metadata": {},
          "execution_count": 18
        }
      ]
    },
    {
      "cell_type": "code",
      "metadata": {
        "id": "lhwnA49lfGJy"
      },
      "source": [
        "# transpose x\n",
        "y = x.T"
      ],
      "execution_count": null,
      "outputs": []
    },
    {
      "cell_type": "code",
      "metadata": {
        "id": "-34yj_jDfGJ0",
        "colab": {
          "base_uri": "https://localhost:8080/"
        },
        "outputId": "e941a8d7-b8bb-4d6f-e8e2-6a1c22627e0c"
      },
      "source": [
        "# compare two arrays\n",
        "x == y"
      ],
      "execution_count": null,
      "outputs": [
        {
          "output_type": "execute_result",
          "data": {
            "text/plain": [
              "array([[ True, False, False],\n",
              "       [False,  True, False],\n",
              "       [False, False,  True]])"
            ]
          },
          "metadata": {},
          "execution_count": 20
        }
      ]
    },
    {
      "cell_type": "code",
      "metadata": {
        "id": "Akbw9C1PfGJ2",
        "colab": {
          "base_uri": "https://localhost:8080/"
        },
        "outputId": "595e4ba5-63b7-4b95-944e-b206d2db9bd7"
      },
      "source": [
        "x == y.T"
      ],
      "execution_count": null,
      "outputs": [
        {
          "output_type": "execute_result",
          "data": {
            "text/plain": [
              "array([[ True,  True,  True],\n",
              "       [ True,  True,  True],\n",
              "       [ True,  True,  True]])"
            ]
          },
          "metadata": {},
          "execution_count": 21
        }
      ]
    },
    {
      "cell_type": "code",
      "metadata": {
        "id": "PjbS0Y8zfGJ5",
        "colab": {
          "base_uri": "https://localhost:8080/"
        },
        "outputId": "c78ef5e7-13bd-4df6-aeb9-23275126faf3"
      },
      "source": [
        "np.array_equal(x,y.T)"
      ],
      "execution_count": null,
      "outputs": [
        {
          "output_type": "execute_result",
          "data": {
            "text/plain": [
              "True"
            ]
          },
          "metadata": {},
          "execution_count": 22
        }
      ]
    },
    {
      "cell_type": "code",
      "metadata": {
        "id": "vC29JsRAfGJ7",
        "colab": {
          "base_uri": "https://localhost:8080/"
        },
        "outputId": "0c7ada9c-e27e-404b-ea08-8fe19278271f"
      },
      "source": [
        "x < y"
      ],
      "execution_count": null,
      "outputs": [
        {
          "output_type": "execute_result",
          "data": {
            "text/plain": [
              "array([[False,  True,  True],\n",
              "       [False, False,  True],\n",
              "       [False, False, False]])"
            ]
          },
          "metadata": {},
          "execution_count": 23
        }
      ]
    },
    {
      "cell_type": "code",
      "metadata": {
        "id": "9CumfUaRfGJ9",
        "colab": {
          "base_uri": "https://localhost:8080/"
        },
        "outputId": "eaf27bb5-51a1-4b6e-8bc9-a424290892b6"
      },
      "source": [
        "c = np.ones((3,3))\n",
        "c"
      ],
      "execution_count": null,
      "outputs": [
        {
          "output_type": "execute_result",
          "data": {
            "text/plain": [
              "array([[1., 1., 1.],\n",
              "       [1., 1., 1.],\n",
              "       [1., 1., 1.]])"
            ]
          },
          "metadata": {},
          "execution_count": 24
        }
      ]
    },
    {
      "cell_type": "code",
      "metadata": {
        "id": "8sXMycSpfGJ_",
        "colab": {
          "base_uri": "https://localhost:8080/"
        },
        "outputId": "bb4bb16b-ab49-4615-9ea6-45be971ab3f1"
      },
      "source": [
        "# matrix squaring\n",
        "np.dot(c,c)\n",
        "\n",
        "# or\n",
        "np.matmul(c,c)"
      ],
      "execution_count": null,
      "outputs": [
        {
          "output_type": "execute_result",
          "data": {
            "text/plain": [
              "array([[3., 3., 3.],\n",
              "       [3., 3., 3.],\n",
              "       [3., 3., 3.]])"
            ]
          },
          "metadata": {},
          "execution_count": 25
        }
      ]
    },
    {
      "cell_type": "code",
      "metadata": {
        "id": "phRTWOZwfGKB",
        "colab": {
          "base_uri": "https://localhost:8080/"
        },
        "outputId": "dac3b4cf-a8e3-45ad-b5e0-57fdbcb02320"
      },
      "source": [
        "# stacking/merging two multidimensional arrays\n",
        "x = np.arange(10).reshape(2,5)\n",
        "y = np.arange(15).reshape(3,5)\n",
        "xy = np.vstack((x,y))\n",
        "xy"
      ],
      "execution_count": null,
      "outputs": [
        {
          "output_type": "execute_result",
          "data": {
            "text/plain": [
              "array([[ 0,  1,  2,  3,  4],\n",
              "       [ 5,  6,  7,  8,  9],\n",
              "       [ 0,  1,  2,  3,  4],\n",
              "       [ 5,  6,  7,  8,  9],\n",
              "       [10, 11, 12, 13, 14]])"
            ]
          },
          "metadata": {},
          "execution_count": 26
        }
      ]
    },
    {
      "cell_type": "code",
      "metadata": {
        "id": "pwX_qhk4fGKD",
        "colab": {
          "base_uri": "https://localhost:8080/"
        },
        "outputId": "307fe091-c7a9-44bf-d6bf-b12dd0c0f673"
      },
      "source": [
        "x = np.arange(10).reshape(5,2)\n",
        "y = np.arange(15).reshape(5,3)\n",
        "xy = np.hstack((x,y))\n",
        "xy"
      ],
      "execution_count": null,
      "outputs": [
        {
          "output_type": "execute_result",
          "data": {
            "text/plain": [
              "array([[ 0,  1,  0,  1,  2],\n",
              "       [ 2,  3,  3,  4,  5],\n",
              "       [ 4,  5,  6,  7,  8],\n",
              "       [ 6,  7,  9, 10, 11],\n",
              "       [ 8,  9, 12, 13, 14]])"
            ]
          },
          "metadata": {},
          "execution_count": 27
        }
      ]
    },
    {
      "cell_type": "code",
      "metadata": {
        "id": "YCiyIn78fGKF"
      },
      "source": [
        "# checking statistics for xy\n",
        "from scipy import stats\n",
        "#stats.describe()"
      ],
      "execution_count": 91,
      "outputs": []
    },
    {
      "cell_type": "code",
      "metadata": {
        "id": "jhXIOt8dfGKH",
        "colab": {
          "base_uri": "https://localhost:8080/"
        },
        "outputId": "d18063ab-2a57-4f7e-ec35-6e2b7d0c1b5f"
      },
      "source": [
        "# generate 20 random records, each has 3 features represented by some random number\n",
        "x = np.random.rand(20,3)\n",
        "\n",
        "# check statistics by feature for these records\n",
        "n, min_max, mean, var, skew, kurt = stats.describe(x)\n",
        "\n",
        "# observe the gather statistics\n",
        "print('''x:\\n {}\\n\\n,n:\\n {}\\n\\n, min_max:\\n {}\\n\\n, mean:\\n {}\\n\\n\n",
        ", var:\\n {}\\n\\n, skew:\\n {}\\n\\n, kurt:\\n {}\\n\\n'''.format(x, n, min_max, mean, var, skew, kurt))"
      ],
      "execution_count": null,
      "outputs": [
        {
          "output_type": "stream",
          "name": "stdout",
          "text": [
            "x:\n",
            " [[0.58606105 0.0693591  0.89120584]\n",
            " [0.84231453 0.1869906  0.46485842]\n",
            " [0.38851617 0.10339835 0.03145512]\n",
            " [0.6570385  0.92429977 0.23545185]\n",
            " [0.2023764  0.13490879 0.42531818]\n",
            " [0.05523288 0.2379115  0.83718345]\n",
            " [0.57075783 0.68939838 0.56860634]\n",
            " [0.24308513 0.42167782 0.09564084]\n",
            " [0.93980758 0.01039984 0.77628454]\n",
            " [0.41962687 0.88940174 0.93638604]\n",
            " [0.88000966 0.71686613 0.09862955]\n",
            " [0.2347349  0.46842888 0.32408002]\n",
            " [0.2096846  0.52757924 0.55399232]\n",
            " [0.01758416 0.67457433 0.63666857]\n",
            " [0.85115159 0.86321083 0.10712334]\n",
            " [0.94155045 0.71153686 0.68777389]\n",
            " [0.39969379 0.96026433 0.85799008]\n",
            " [0.98748264 0.78273787 0.90481259]\n",
            " [0.02185067 0.44992481 0.36390066]\n",
            " [0.20706922 0.96005828 0.24284576]]\n",
            "\n",
            ",n:\n",
            " 20\n",
            "\n",
            ", min_max:\n",
            " (array([0.01758416, 0.01039984, 0.03145512]), array([0.98748264, 0.96026433, 0.93638604]))\n",
            "\n",
            ", mean:\n",
            " [0.48278143 0.53914637 0.50201037]\n",
            "\n",
            "\n",
            ", var:\n",
            " [0.11185458 0.10459529 0.09357355]\n",
            "\n",
            ", skew:\n",
            " [ 0.16738901 -0.25467034 -0.04655392]\n",
            "\n",
            ", kurt:\n",
            " [-1.38789889 -1.32538243 -1.36245571]\n",
            "\n",
            "\n"
          ]
        }
      ]
    },
    {
      "cell_type": "markdown",
      "metadata": {
        "id": "6icgEByffGKK"
      },
      "source": [
        "#### Slice and dice matrix\n",
        "\n",
        "Take out 2 elements in the 1st row, 2nd column, and 3rd row, 3rd column of matrix A from above:\n",
        "\n",
        "$\\begin{equation*}\n",
        "A =\n",
        "\\begin{pmatrix}\n",
        "1 & 2 & 3 \\\\\n",
        "4 & 5 & 6 \\\\\n",
        "7 & 8 & 9\n",
        "\\end{pmatrix}\n",
        "\\end{equation*}\n",
        "$"
      ]
    },
    {
      "cell_type": "code",
      "metadata": {
        "id": "7R8ypS2zfGKN",
        "colab": {
          "base_uri": "https://localhost:8080/"
        },
        "outputId": "110df30b-1595-4117-e035-29c75322a2cd"
      },
      "source": [
        "# numpy is indexed from 0. Slice by row and then by column\n",
        "A[[0,2],[1,2]]"
      ],
      "execution_count": null,
      "outputs": [
        {
          "output_type": "execute_result",
          "data": {
            "text/plain": [
              "array([2., 9.])"
            ]
          },
          "metadata": {},
          "execution_count": 17
        }
      ]
    },
    {
      "cell_type": "markdown",
      "metadata": {
        "id": "BfRzbPUXfGKQ"
      },
      "source": [
        "#### Resize and reshape matrix\n",
        "The matrix will be truncated or element values will be repeated if the reshape causes the matrix to change size."
      ]
    },
    {
      "cell_type": "code",
      "metadata": {
        "id": "_YNyARm1fGKQ",
        "colab": {
          "base_uri": "https://localhost:8080/"
        },
        "outputId": "a59c9fd5-739e-4dff-c2db-1aa29fc5736a"
      },
      "source": [
        "x = (np.arange(9)+1).reshape(3,3)\n",
        "print(x)\n",
        "print('\\nresize smaller\\n {}'.format(np.resize(x,(2,2))))\n",
        "print('\\nresize bigger\\n {}'.format(np.resize(x,(4,4))))"
      ],
      "execution_count": null,
      "outputs": [
        {
          "output_type": "stream",
          "name": "stdout",
          "text": [
            "[[1 2 3]\n",
            " [4 5 6]\n",
            " [7 8 9]]\n",
            "\n",
            "resize smaller\n",
            " [[1 2]\n",
            " [3 4]]\n",
            "\n",
            "resize bigger\n",
            " [[1 2 3 4]\n",
            " [5 6 7 8]\n",
            " [9 1 2 3]\n",
            " [4 5 6 7]]\n"
          ]
        }
      ]
    },
    {
      "cell_type": "markdown",
      "metadata": {
        "id": "bdtCXeGxfGKS"
      },
      "source": [
        "#### Multiplying two matrices\n",
        "An 1-dimensional array is treated as a vector."
      ]
    },
    {
      "cell_type": "code",
      "metadata": {
        "id": "YOFS8ioofGKT",
        "colab": {
          "base_uri": "https://localhost:8080/"
        },
        "outputId": "c96be2c1-ccc0-456a-e289-0f0f001ad8c1"
      },
      "source": [
        "# a vector/array y\n",
        "y = np.arange(4)\n",
        "y"
      ],
      "execution_count": null,
      "outputs": [
        {
          "output_type": "execute_result",
          "data": {
            "text/plain": [
              "array([0, 1, 2, 3])"
            ]
          },
          "metadata": {},
          "execution_count": 32
        }
      ]
    },
    {
      "cell_type": "code",
      "metadata": {
        "id": "mEWuYjlxfGKV",
        "colab": {
          "base_uri": "https://localhost:8080/"
        },
        "outputId": "1b55c018-982c-43bf-dfdc-5c728751ec5f"
      },
      "source": [
        "# a matrix of ones\n",
        "x = np.ones(16).reshape(4,4)\n",
        "x"
      ],
      "execution_count": null,
      "outputs": [
        {
          "output_type": "execute_result",
          "data": {
            "text/plain": [
              "array([[1., 1., 1., 1.],\n",
              "       [1., 1., 1., 1.],\n",
              "       [1., 1., 1., 1.],\n",
              "       [1., 1., 1., 1.]])"
            ]
          },
          "metadata": {},
          "execution_count": 33
        }
      ]
    },
    {
      "cell_type": "code",
      "metadata": {
        "id": "d0707PxPfGKX",
        "colab": {
          "base_uri": "https://localhost:8080/"
        },
        "outputId": "91289413-33b0-43eb-c61a-c72ac9f4a74d"
      },
      "source": [
        "x*y"
      ],
      "execution_count": null,
      "outputs": [
        {
          "output_type": "execute_result",
          "data": {
            "text/plain": [
              "array([[0., 1., 2., 3.],\n",
              "       [0., 1., 2., 3.],\n",
              "       [0., 1., 2., 3.],\n",
              "       [0., 1., 2., 3.]])"
            ]
          },
          "metadata": {},
          "execution_count": 34
        }
      ]
    },
    {
      "cell_type": "code",
      "metadata": {
        "id": "EJPYn6rEfGKZ",
        "colab": {
          "base_uri": "https://localhost:8080/"
        },
        "outputId": "30ef94ca-2a73-4800-f2e4-3dd81b6951e8"
      },
      "source": [
        "x*y.T   # interpreted as x*(y.T)"
      ],
      "execution_count": null,
      "outputs": [
        {
          "output_type": "execute_result",
          "data": {
            "text/plain": [
              "array([[0., 1., 2., 3.],\n",
              "       [0., 1., 2., 3.],\n",
              "       [0., 1., 2., 3.],\n",
              "       [0., 1., 2., 3.]])"
            ]
          },
          "metadata": {},
          "execution_count": 35
        }
      ]
    },
    {
      "cell_type": "code",
      "metadata": {
        "id": "Tsl6MbI2fGKc",
        "colab": {
          "base_uri": "https://localhost:8080/"
        },
        "outputId": "a877d0f2-8213-4b34-9e70-a4badf57b3b9"
      },
      "source": [
        "y*x"
      ],
      "execution_count": null,
      "outputs": [
        {
          "output_type": "execute_result",
          "data": {
            "text/plain": [
              "array([[0., 1., 2., 3.],\n",
              "       [0., 1., 2., 3.],\n",
              "       [0., 1., 2., 3.],\n",
              "       [0., 1., 2., 3.]])"
            ]
          },
          "metadata": {},
          "execution_count": 36
        }
      ]
    },
    {
      "cell_type": "code",
      "metadata": {
        "id": "fNTRR8DwfGKe",
        "colab": {
          "base_uri": "https://localhost:8080/"
        },
        "outputId": "59382b07-4b53-45d0-e6dc-a104c84cf283"
      },
      "source": [
        "y.T*x"
      ],
      "execution_count": null,
      "outputs": [
        {
          "output_type": "execute_result",
          "data": {
            "text/plain": [
              "array([[0., 1., 2., 3.],\n",
              "       [0., 1., 2., 3.],\n",
              "       [0., 1., 2., 3.],\n",
              "       [0., 1., 2., 3.]])"
            ]
          },
          "metadata": {},
          "execution_count": 37
        }
      ]
    },
    {
      "cell_type": "code",
      "metadata": {
        "id": "vi5kt5OufGKg",
        "colab": {
          "base_uri": "https://localhost:8080/"
        },
        "outputId": "ffe6efb8-38ea-4189-f4e8-4c78b202c3de"
      },
      "source": [
        "x = np.arange(4).reshape(2,2)\n",
        "y1 = np.arange(2)\n",
        "y2 = np.arange(2).reshape(1,2) # in numpy this is the same as y1\n",
        "print('x:\\n{}\\n'.format(x))\n",
        "print('y1:\\n{}\\n'.format(y1))\n",
        "print('y2:\\n{}\\n'.format(y2))"
      ],
      "execution_count": null,
      "outputs": [
        {
          "output_type": "stream",
          "name": "stdout",
          "text": [
            "x:\n",
            "[[0 1]\n",
            " [2 3]]\n",
            "\n",
            "y1:\n",
            "[0 1]\n",
            "\n",
            "y2:\n",
            "[[0 1]]\n",
            "\n"
          ]
        }
      ]
    },
    {
      "cell_type": "code",
      "metadata": {
        "id": "-1k0CFOIfGKi",
        "colab": {
          "base_uri": "https://localhost:8080/"
        },
        "outputId": "b34403cb-014d-4fac-eb1b-2929588a548a"
      },
      "source": [
        "x*y1"
      ],
      "execution_count": null,
      "outputs": [
        {
          "output_type": "execute_result",
          "data": {
            "text/plain": [
              "array([[0, 1],\n",
              "       [0, 3]])"
            ]
          },
          "metadata": {},
          "execution_count": 39
        }
      ]
    },
    {
      "cell_type": "code",
      "metadata": {
        "id": "EW90NQ6nfGKk",
        "colab": {
          "base_uri": "https://localhost:8080/"
        },
        "outputId": "576e38c0-0fb8-450e-c73c-0c16b5c36b16"
      },
      "source": [
        "x*y2"
      ],
      "execution_count": null,
      "outputs": [
        {
          "output_type": "execute_result",
          "data": {
            "text/plain": [
              "array([[0, 1],\n",
              "       [0, 3]])"
            ]
          },
          "metadata": {},
          "execution_count": 40
        }
      ]
    },
    {
      "cell_type": "code",
      "metadata": {
        "id": "ban5G53YfGKm",
        "colab": {
          "base_uri": "https://localhost:8080/"
        },
        "outputId": "8dc8a4b7-eac9-49a7-9796-d871fe785a2b"
      },
      "source": [
        "# generate two matrices\n",
        "a = np.arange(10).reshape(2,5)\n",
        "b = np.arange(15).reshape(5,3)\n",
        "print(a)\n",
        "print()\n",
        "print(b)"
      ],
      "execution_count": null,
      "outputs": [
        {
          "output_type": "stream",
          "name": "stdout",
          "text": [
            "[[0 1 2 3 4]\n",
            " [5 6 7 8 9]]\n",
            "\n",
            "[[ 0  1  2]\n",
            " [ 3  4  5]\n",
            " [ 6  7  8]\n",
            " [ 9 10 11]\n",
            " [12 13 14]]\n"
          ]
        }
      ]
    },
    {
      "cell_type": "code",
      "metadata": {
        "id": "iXVjcn_ffGKp",
        "colab": {
          "base_uri": "https://localhost:8080/"
        },
        "outputId": "171dbaf3-3a9f-48b3-8d63-033f454db510"
      },
      "source": [
        "# check if operation dot is equal to operation matmul\n",
        "np.array_equal(np.dot(a,b),np.matmul(a,b))"
      ],
      "execution_count": null,
      "outputs": [
        {
          "output_type": "execute_result",
          "data": {
            "text/plain": [
              "True"
            ]
          },
          "metadata": {},
          "execution_count": 42
        }
      ]
    },
    {
      "cell_type": "code",
      "metadata": {
        "id": "M31vWN03fGKs",
        "colab": {
          "base_uri": "https://localhost:8080/"
        },
        "outputId": "cb36c1d7-26f5-4371-9b2a-8766e6052146"
      },
      "source": [
        "# multiply a by b\n",
        "np.matmul(a,b)"
      ],
      "execution_count": null,
      "outputs": [
        {
          "output_type": "execute_result",
          "data": {
            "text/plain": [
              "array([[ 90, 100, 110],\n",
              "       [240, 275, 310]])"
            ]
          },
          "metadata": {},
          "execution_count": 43
        }
      ]
    },
    {
      "cell_type": "code",
      "metadata": {
        "id": "4jhyA0VYfGKv",
        "colab": {
          "base_uri": "https://localhost:8080/"
        },
        "outputId": "258e4739-6218-4414-a752-857a0a148f00"
      },
      "source": [
        "# another way to multiply a by b\n",
        "a@b"
      ],
      "execution_count": null,
      "outputs": [
        {
          "output_type": "execute_result",
          "data": {
            "text/plain": [
              "array([[ 90, 100, 110],\n",
              "       [240, 275, 310]])"
            ]
          },
          "metadata": {},
          "execution_count": 44
        }
      ]
    },
    {
      "cell_type": "code",
      "metadata": {
        "id": "HbJu-_fLfGK0",
        "colab": {
          "base_uri": "https://localhost:8080/"
        },
        "outputId": "9a76eaa9-a3ac-4573-fbf5-c1a6955318c1"
      },
      "source": [
        "a = np.arange(9).reshape(3,3)\n",
        "b = np.arange(3)\n",
        "print('{}\\n\\n{}'.format(a,b))"
      ],
      "execution_count": null,
      "outputs": [
        {
          "output_type": "stream",
          "name": "stdout",
          "text": [
            "[[0 1 2]\n",
            " [3 4 5]\n",
            " [6 7 8]]\n",
            "\n",
            "[0 1 2]\n"
          ]
        }
      ]
    },
    {
      "cell_type": "code",
      "metadata": {
        "id": "2Cxjq5WFfGK4",
        "colab": {
          "base_uri": "https://localhost:8080/"
        },
        "outputId": "969e06c0-af58-408a-a4eb-3af576f6d33b"
      },
      "source": [
        "# inner product of 2 vectors\n",
        "np.inner(a,b)"
      ],
      "execution_count": null,
      "outputs": [
        {
          "output_type": "execute_result",
          "data": {
            "text/plain": [
              "array([ 5, 14, 23])"
            ]
          },
          "metadata": {},
          "execution_count": 46
        }
      ]
    },
    {
      "cell_type": "code",
      "metadata": {
        "id": "AuSfLhm2fGK8",
        "colab": {
          "base_uri": "https://localhost:8080/"
        },
        "outputId": "25115eab-913b-4b6c-c930-0b5630fc9f25"
      },
      "source": [
        "# outer product of 2 vectors\n",
        "np.outer(a,b)"
      ],
      "execution_count": null,
      "outputs": [
        {
          "output_type": "execute_result",
          "data": {
            "text/plain": [
              "array([[ 0,  0,  0],\n",
              "       [ 0,  1,  2],\n",
              "       [ 0,  2,  4],\n",
              "       [ 0,  3,  6],\n",
              "       [ 0,  4,  8],\n",
              "       [ 0,  5, 10],\n",
              "       [ 0,  6, 12],\n",
              "       [ 0,  7, 14],\n",
              "       [ 0,  8, 16]])"
            ]
          },
          "metadata": {},
          "execution_count": 47
        }
      ]
    },
    {
      "cell_type": "markdown",
      "metadata": {
        "id": "bQda4F4EfGK_"
      },
      "source": [
        "#### Solving linear equations\n",
        "An example: Solve three linear equations with 3 unknowns as follows:<br>\n",
        "$x_1 + 2x_2 + 3x_3 = 10$<br>\n",
        "$4x_1 + 4x_2 + 5x_3=4$<br>\n",
        "$3x_1 + 8x_2 + 9x_3 = 3$<br>\n",
        "\n",
        "We have a linear equation to solve as in the form $Ax = B$, where\n",
        "\\begin{equation*}\n",
        "A =\n",
        "\\begin{pmatrix}\n",
        "1 & 2 & 3 \\\\\n",
        "4 & 4 & 5 \\\\\n",
        "3 & 8 & 9\n",
        "\\end{pmatrix}\n",
        ",\n",
        "B =\n",
        "\\begin{pmatrix}\n",
        "10 \\\\\n",
        "4 \\\\\n",
        "3\n",
        "\\end{pmatrix}\n",
        ",\n",
        "x =\n",
        "\\begin{pmatrix}\n",
        "x_1 \\\\\n",
        "x_2 \\\\\n",
        "x_3\n",
        "\\end{pmatrix}\n",
        "\\end{equation*}\n",
        "\n",
        "<br>\n",
        "In simple cases with small matrices, we can do $x = A^{-1}B$."
      ]
    },
    {
      "cell_type": "code",
      "metadata": {
        "id": "PLS1GVLMfGLA",
        "colab": {
          "base_uri": "https://localhost:8080/"
        },
        "outputId": "b6b96df1-f009-43ce-8d8f-a48bf0fa6542"
      },
      "source": [
        "A = np.array([[1,2,3],[4,4,5],[3,8,9]])\n",
        "B = np.array([10,4,3])\n",
        "A_inv = np.linalg.inv(A)\n",
        "A_inv"
      ],
      "execution_count": null,
      "outputs": [
        {
          "output_type": "execute_result",
          "data": {
            "text/plain": [
              "array([[-2.85714286e-01,  4.28571429e-01, -1.42857143e-01],\n",
              "       [-1.50000000e+00, -6.66133815e-17,  5.00000000e-01],\n",
              "       [ 1.42857143e+00, -1.42857143e-01, -2.85714286e-01]])"
            ]
          },
          "metadata": {},
          "execution_count": 48
        }
      ]
    },
    {
      "cell_type": "code",
      "metadata": {
        "id": "2_Rev7MEfGLC"
      },
      "source": [
        "x = np.dot(A_inv, B)"
      ],
      "execution_count": null,
      "outputs": []
    },
    {
      "cell_type": "code",
      "metadata": {
        "id": "e-oPmxrSfGLF",
        "colab": {
          "base_uri": "https://localhost:8080/"
        },
        "outputId": "d025c5d1-e884-4133-c6f6-450a8f876662"
      },
      "source": [
        "# check results with allclose() function)\n",
        "np.allclose(np.dot(A,x),B)"
      ],
      "execution_count": null,
      "outputs": [
        {
          "output_type": "execute_result",
          "data": {
            "text/plain": [
              "True"
            ]
          },
          "metadata": {},
          "execution_count": 50
        }
      ]
    },
    {
      "cell_type": "markdown",
      "metadata": {
        "id": "Vbt-t8rpEP7R"
      },
      "source": [
        "-----"
      ]
    },
    {
      "cell_type": "markdown",
      "metadata": {
        "id": "77y-VVzxfGLH"
      },
      "source": [
        "\n",
        "## <font color='#008DFF'> **Question 1**\n",
        "\n",
        "Write code for solving four linear equations with 4 unknowns as follows:<br>\n",
        "$x_1 + 2x_2 + 3x_3 + 5x_4 = 10$<br>\n",
        "$4x_1 + 4x_2 + 5x_3 + 3x_4=4$<br>\n",
        "$3x_1 + 8x_2 + 9x_3 + x_4= 3$<br>\n",
        "$x_1 + x_2 + 3x_3 = 7$<br><br>\n",
        "\n",
        "Afterwards, check results with allclose( ) function, and print out x.\n",
        "\n",
        "<b>Expected result</b><br>x = array([-1.17857143, -3.875     ,  4.01785714,  1.375     ])\n"
      ]
    },
    {
      "cell_type": "code",
      "metadata": {
        "id": "A0wIhEbW04b7",
        "colab": {
          "base_uri": "https://localhost:8080/"
        },
        "outputId": "b58ffad9-2cf6-4f45-d75e-27daa282db94"
      },
      "source": [
        "# your code here\n",
        "import numpy as np\n",
        "A = np.array([[1,2,3,5],[4,4,5,3],[3,8,9,1],[1,1,3,0]])\n",
        "B = np.array([10,4,3,7])\n",
        "A_inv = np.linalg.inv(A)\n",
        "print(A_inv)\n"
      ],
      "execution_count": 73,
      "outputs": [
        {
          "output_type": "stream",
          "name": "stdout",
          "text": [
            "[[-2.26190476e-01  4.28571429e-01 -1.54761905e-01 -2.38095238e-02]\n",
            " [-4.16666667e-02  0.00000000e+00  2.08333333e-01 -5.83333333e-01]\n",
            " [ 8.92857143e-02 -1.42857143e-01 -1.78571429e-02  5.35714286e-01]\n",
            " [ 2.08333333e-01  8.67361738e-18 -4.16666667e-02 -8.33333333e-02]]\n"
          ]
        }
      ]
    },
    {
      "cell_type": "code",
      "source": [
        "x = np.dot(A_inv, B)\n",
        "print(x)"
      ],
      "metadata": {
        "id": "WjzSZr2rYBL8",
        "outputId": "171649aa-5624-4a30-9d45-3307cd8cc62a",
        "colab": {
          "base_uri": "https://localhost:8080/"
        }
      },
      "execution_count": 74,
      "outputs": [
        {
          "output_type": "stream",
          "name": "stdout",
          "text": [
            "[-1.17857143 -3.875       4.01785714  1.375     ]\n"
          ]
        }
      ]
    },
    {
      "cell_type": "code",
      "source": [
        "np.allclose(np.dot(A,x),B)"
      ],
      "metadata": {
        "id": "OP5A7iPkYBYK",
        "outputId": "54eb853c-7dab-4083-a4b2-6394f19c1005",
        "colab": {
          "base_uri": "https://localhost:8080/"
        }
      },
      "execution_count": 75,
      "outputs": [
        {
          "output_type": "execute_result",
          "data": {
            "text/plain": [
              "True"
            ]
          },
          "metadata": {},
          "execution_count": 75
        }
      ]
    },
    {
      "cell_type": "code",
      "source": [
        "# Grader's area\n",
        "#\n",
        "# Here we have only part, so this grade is assigned in M[1,1]\n",
        "# assign the grade and then uncomment the following\n",
        "\n",
        "# M[1,1] =\n",
        "\n",
        "maxScore = maxScore +4;"
      ],
      "metadata": {
        "id": "77c5jSREdt9K"
      },
      "execution_count": null,
      "outputs": []
    },
    {
      "cell_type": "markdown",
      "source": [
        "-----------------\n",
        "-----------------\n",
        "-----------------\n",
        "-----------------"
      ],
      "metadata": {
        "id": "DKD1e5IvkXJz"
      }
    },
    {
      "cell_type": "markdown",
      "metadata": {
        "id": "hH8NLj_UfGLK"
      },
      "source": [
        "## **Part 2: Exploring some data**"
      ]
    },
    {
      "cell_type": "markdown",
      "source": [
        "In this exercise we will be using the 'Boston Housing' dataset. This is an infamous dataset, due to one of its data attributes being the percentage of Black inhabitants of a given town. This dataset has now been removed from official distributions of certain tools (including scikit-learn), but it is still around to remind us how human learned bias can enter Machine Learning pipelines and have unintended (or in some cases, horribly intended) consequences."
      ],
      "metadata": {
        "id": "Wq8IS0kDeOLz"
      }
    },
    {
      "cell_type": "code",
      "metadata": {
        "id": "yJ9yDB9ufGLL",
        "colab": {
          "base_uri": "https://localhost:8080/"
        },
        "outputId": "0c8d91f8-6793-4a26-b6ea-83dfbd61ad25"
      },
      "source": [
        "# Boston Housing dataset is no longer available in scikit-learn as of version 1.2\n",
        "# Reading directly using the source URL, with the description omitted.\n",
        "# For more information, view the original source file.\n",
        "\n",
        "# Deprecated scikit-learn 1.1 version:\n",
        "#\n",
        "# from sklearn.datasets import load_boston\n",
        "# ds = load_boston()\n",
        "# samples, label, feature_names = ds.data, ds.target, ds.feature_names\n",
        "# print(samples.shape)\n",
        "# print(feature_names)\n",
        "\n",
        "import pandas as pd\n",
        "import numpy as np\n",
        "\n",
        "data_url = \"http://lib.stat.cmu.edu/datasets/boston\"\n",
        "ds = pd.read_csv(data_url, sep=\"\\s+\", skiprows=22, header=None)\n",
        "samples = np.hstack([ds.values[::2, :], ds.values[1::2, :2]])\n",
        "label = ds.values[1::2, 2]\n",
        "print(ds)"
      ],
      "execution_count": 76,
      "outputs": [
        {
          "output_type": "stream",
          "name": "stdout",
          "text": [
            "             0      1      2    3      4      5     6       7    8      9   \\\n",
            "0       0.00632  18.00   2.31  0.0  0.538  6.575  65.2  4.0900  1.0  296.0   \n",
            "1     396.90000   4.98  24.00  NaN    NaN    NaN   NaN     NaN  NaN    NaN   \n",
            "2       0.02731   0.00   7.07  0.0  0.469  6.421  78.9  4.9671  2.0  242.0   \n",
            "3     396.90000   9.14  21.60  NaN    NaN    NaN   NaN     NaN  NaN    NaN   \n",
            "4       0.02729   0.00   7.07  0.0  0.469  7.185  61.1  4.9671  2.0  242.0   \n",
            "...         ...    ...    ...  ...    ...    ...   ...     ...  ...    ...   \n",
            "1007  396.90000   5.64  23.90  NaN    NaN    NaN   NaN     NaN  NaN    NaN   \n",
            "1008    0.10959   0.00  11.93  0.0  0.573  6.794  89.3  2.3889  1.0  273.0   \n",
            "1009  393.45000   6.48  22.00  NaN    NaN    NaN   NaN     NaN  NaN    NaN   \n",
            "1010    0.04741   0.00  11.93  0.0  0.573  6.030  80.8  2.5050  1.0  273.0   \n",
            "1011  396.90000   7.88  11.90  NaN    NaN    NaN   NaN     NaN  NaN    NaN   \n",
            "\n",
            "        10  \n",
            "0     15.3  \n",
            "1      NaN  \n",
            "2     17.8  \n",
            "3      NaN  \n",
            "4     17.8  \n",
            "...    ...  \n",
            "1007   NaN  \n",
            "1008  21.0  \n",
            "1009   NaN  \n",
            "1010  21.0  \n",
            "1011   NaN  \n",
            "\n",
            "[1012 rows x 11 columns]\n"
          ]
        }
      ]
    },
    {
      "cell_type": "code",
      "metadata": {
        "id": "635Xsy-CfGLO",
        "colab": {
          "base_uri": "https://localhost:8080/"
        },
        "outputId": "06902e6d-c583-432a-f958-f7c098bca3fb"
      },
      "source": [
        "# Data description\n",
        "\n",
        "# Deprecated scikit-learn 1.1 version:\n",
        "#\n",
        "# print(ds.DESCR)\n",
        "\n",
        "import requests\n",
        "\n",
        "lines = requests.get(data_url).text.splitlines()\n",
        "for i, line in enumerate(lines[:22]):\n",
        "    print(line)"
      ],
      "execution_count": 77,
      "outputs": [
        {
          "output_type": "stream",
          "name": "stdout",
          "text": [
            " The Boston house-price data of Harrison, D. and Rubinfeld, D.L. 'Hedonic\n",
            " prices and the demand for clean air', J. Environ. Economics & Management,\n",
            " vol.5, 81-102, 1978.   Used in Belsley, Kuh & Welsch, 'Regression diagnostics\n",
            " ...', Wiley, 1980.   N.B. Various transformations are used in the table on\n",
            " pages 244-261 of the latter.\n",
            "\n",
            " Variables in order:\n",
            " CRIM     per capita crime rate by town\n",
            " ZN       proportion of residential land zoned for lots over 25,000 sq.ft.\n",
            " INDUS    proportion of non-retail business acres per town\n",
            " CHAS     Charles River dummy variable (= 1 if tract bounds river; 0 otherwise)\n",
            " NOX      nitric oxides concentration (parts per 10 million)\n",
            " RM       average number of rooms per dwelling\n",
            " AGE      proportion of owner-occupied units built prior to 1940\n",
            " DIS      weighted distances to five Boston employment centres\n",
            " RAD      index of accessibility to radial highways\n",
            " TAX      full-value property-tax rate per $10,000\n",
            " PTRATIO  pupil-teacher ratio by town\n",
            " B        1000(Bk - 0.63)^2 where Bk is the proportion of blacks by town\n",
            " LSTAT    % lower status of the population\n",
            " MEDV     Median value of owner-occupied homes in $1000's\n",
            "\n"
          ]
        }
      ]
    },
    {
      "cell_type": "code",
      "metadata": {
        "id": "rR8jIWSafGLR",
        "colab": {
          "base_uri": "https://localhost:8080/"
        },
        "outputId": "975c6149-600b-4dd3-c327-b8a92f6f5c67"
      },
      "source": [
        "# check to see if there is any null data\n",
        "np.isnan(np.sum(samples))"
      ],
      "execution_count": 78,
      "outputs": [
        {
          "output_type": "execute_result",
          "data": {
            "text/plain": [
              "False"
            ]
          },
          "metadata": {},
          "execution_count": 78
        }
      ]
    },
    {
      "cell_type": "code",
      "metadata": {
        "id": "QMjtimPhfGLT"
      },
      "source": [
        "# set print options to make things look nicer\n",
        "np.set_printoptions(suppress=True, linewidth=125)"
      ],
      "execution_count": 79,
      "outputs": []
    },
    {
      "cell_type": "code",
      "metadata": {
        "id": "hwXoQA_rfGLY",
        "colab": {
          "base_uri": "https://localhost:8080/"
        },
        "outputId": "f60176b9-ebde-405a-be1f-87ce74e4e342"
      },
      "source": [
        "# find median, variance of the data and put it out in nice looking format\n",
        "median = np.round(np.median(samples, axis=0), decimals=1)\n",
        "variance = np.round(np.var(samples, axis=0), decimals=1)\n",
        "basic_stats = np.vstack((median, variance))\n",
        "basic_stats_label = ['  median','variance']\n",
        "print('\\t\\tCRIM\\tZN\\tINDUS\\tCHAS\\tNOX\\tRM\\tAGE\\tDIS\\tRAD\\tTAX\\tPTRATIO\\tB\\tLSTAT')\n",
        "for basic_stats_label, row in zip(basic_stats_label, basic_stats):\n",
        "    print('{} [\\t{}]'.format(basic_stats_label,\"\".join('%s\\t'%i for i in row)))"
      ],
      "execution_count": 80,
      "outputs": [
        {
          "output_type": "stream",
          "name": "stdout",
          "text": [
            "\t\tCRIM\tZN\tINDUS\tCHAS\tNOX\tRM\tAGE\tDIS\tRAD\tTAX\tPTRATIO\tB\tLSTAT\n",
            "  median [\t0.3\t0.0\t9.7\t0.0\t0.5\t6.2\t77.5\t3.2\t5.0\t330.0\t19.0\t391.4\t11.4\t]\n",
            "variance [\t73.8\t542.9\t47.0\t0.1\t0.0\t0.5\t790.8\t4.4\t75.7\t28348.6\t4.7\t8318.3\t50.9\t]\n"
          ]
        }
      ]
    },
    {
      "cell_type": "markdown",
      "metadata": {
        "id": "VS5mKl2lfGLb"
      },
      "source": [
        "## <font color='#008DFF'>  **Question 2**\n",
        "\n",
        "Use function <code>stats.describe</code> to retrieve the max, min, and average of samples, and then display it as in the expected output: <br><br>\n",
        "\n",
        "<b>Expected Output:</b> Something that looks like the following or better: <br>\n",
        "<code>\t CRIM\tZN\tINDUS\tCHAS\tNOX\tRM\tAGE\tDIS\tRAD\tTAX\tPTRATIO\tB\tLSTAT\n",
        " min [\t0.0\t0.0\t0.5\t0.0\t0.4\t3.6\t2.9\t1.1\t1.0\t187.0\t12.6\t0.3\t1.7\t]\n",
        " max [\t89.0\t100.0\t27.7\t1.0\t0.9\t8.8\t100.0\t12.1\t24.0\t711.0\t22.0\t396.9\t38.0\t]\n",
        "mean [\t3.6\t11.4\t11.1\t0.1\t0.6\t6.3\t68.6\t3.8\t9.5\t408.2\t18.5\t356.7\t12.7\t]\n",
        "</code>\n",
        "\n",
        "<b>Answer</b>:"
      ]
    },
    {
      "cell_type": "code",
      "metadata": {
        "id": "OkNtSOsIfGLb",
        "colab": {
          "base_uri": "https://localhost:8080/"
        },
        "outputId": "c75d98a5-0668-40b9-a34e-c244a350fdd8"
      },
      "source": [
        "# Your code here. Add more cells if needed\n",
        "from scipy import stats\n",
        "import pandas as pd\n",
        "import numpy as np\n",
        "\n",
        "result = stats.describe(samples)\n",
        "#print(result)\n",
        "# Retrieve min, max, and mean from the result\n",
        "\n",
        "## un rounded version\n",
        "# min_value = result.minmax[0]\n",
        "# max_value = result.minmax[1]\n",
        "# mean_value = result.mean\n",
        "\n",
        "# print(f'Minimum: {min_value}')\n",
        "# print(f'Maximum: {max_value}')\n",
        "# print(f'Mean: {mean_value}')\n",
        "\n",
        "# rounded version\n",
        "min_value = np.round(result.minmax[0], 1)\n",
        "max_value = np.round(result.minmax[1], 1)\n",
        "mean_value = np.round(result.mean, 1)\n",
        "\n",
        "# Print the rounded descriptive statistics\n",
        "print(f'Minimum: {min_value}')\n",
        "print(f'Maximum: {max_value}')\n",
        "print(f'Mean: {mean_value}')\n",
        "\n",
        "\n",
        "print('--- Without stats lib ---')\n",
        "mean_value1 = np.mean(samples)\n",
        "min_value1 = np.min(samples)\n",
        "max_value1 = np.max(samples)\n",
        "print(f'Minimum: {min_value1}')\n",
        "print(f'Maximum: {max_value1}')\n",
        "print(f'Mean: {mean_value1}')\n",
        "\n",
        "\n",
        "\n",
        "\n"
      ],
      "execution_count": 81,
      "outputs": [
        {
          "output_type": "stream",
          "name": "stdout",
          "text": [
            "Minimum: [  0.    0.    0.5   0.    0.4   3.6   2.9   1.1   1.  187.   12.6   0.3   1.7]\n",
            "Maximum: [ 89.  100.   27.7   1.    0.9   8.8 100.   12.1  24.  711.   22.  396.9  38. ]\n",
            "Mean: [  3.6  11.4  11.1   0.1   0.6   6.3  68.6   3.8   9.5 408.2  18.5 356.7  12.7]\n",
            "--- Without stats lib ---\n",
            "Minimum: 0.0\n",
            "Maximum: 711.0\n",
            "Mean: 70.07396704469443\n"
          ]
        }
      ]
    },
    {
      "cell_type": "code",
      "source": [
        "# Grader's area\n",
        "\n",
        "maxScore = maxScore + 4\n",
        "# M[2,1] ="
      ],
      "metadata": {
        "id": "zPnHTf9MfT5X"
      },
      "execution_count": null,
      "outputs": []
    },
    {
      "cell_type": "markdown",
      "metadata": {
        "id": "l3KaR1wZyRgK"
      },
      "source": [
        "-----------------\n",
        "-----------------\n",
        "-----------------\n",
        "-----------------"
      ]
    },
    {
      "cell_type": "code",
      "metadata": {
        "id": "FzOg-yJwfGLe",
        "colab": {
          "base_uri": "https://localhost:8080/",
          "height": 539
        },
        "outputId": "a762a00e-ed5b-49da-e2e3-b1eae6330df0"
      },
      "source": [
        "import matplotlib.pyplot as plt\n",
        "\n",
        "# let plot out to see what is the distribution of crime based on the data\n",
        "n, bins, patches = plt.hist(samples[:,0],bins='auto')\n",
        "plt.title('Distribution of crimes')\n",
        "plt.show()\n",
        "print('Bin sizes: {}'.format(n))"
      ],
      "execution_count": 82,
      "outputs": [
        {
          "output_type": "display_data",
          "data": {
            "text/plain": [
              "<Figure size 640x480 with 1 Axes>"
            ],
            "image/png": "[encoded data removed]"
          },
          "metadata": {}
        },
        {
          "output_type": "stream",
          "name": "stdout",
          "text": [
            "Bin sizes: [329.  26.  14.   9.  13.  12.  11.   9.   8.   9.   9.   6.   5.   4.   3.   7.   4.   4.   1.   1.   3.   1.   1.   1.\n",
            "   1.   1.   1.   3.   1.   0.   0.   1.   0.   0.   0.   0.   0.   0.   0.   0.   0.   1.   1.   0.   0.   0.   1.   0.\n",
            "   0.   0.   1.   0.   0.   0.   0.   0.   1.   0.   0.   0.   0.   0.   0.   0.   0.   0.   0.   0.   0.   0.   0.   0.\n",
            "   0.   0.   0.   1.   0.   0.   0.   0.   0.   1.   0.   0.   0.   0.   0.   0.   0.   0.   0.   0.   0.   0.   0.   0.\n",
            "   0.   0.   1.]\n"
          ]
        }
      ]
    },
    {
      "cell_type": "markdown",
      "metadata": {
        "id": "53VG7TETfGLg"
      },
      "source": [
        "\n",
        "## <font color='#008DFF'> <b>Question 3</b>\n",
        "\n",
        "Plot out the histogram of another feature of the dataset that you are interested in, give the plot a title, and print out the bin sizes. <br><br>\n",
        "<b>Answer</b>"
      ]
    },
    {
      "cell_type": "code",
      "metadata": {
        "id": "MALZsy3AfGLg",
        "colab": {
          "base_uri": "https://localhost:8080/",
          "height": 469
        },
        "outputId": "aa439afe-8407-4083-d639-b59b758188c6"
      },
      "source": [
        "# Your code here, add more cells if necessary\n",
        "\n",
        "\n",
        "import matplotlib.pyplot as plt\n",
        "# let plot out to see what is the distribution of crime based on the data\n",
        "n, bins, patches = plt.hist(samples[:,9],bins='auto')\n",
        "plt.title('Full Value Property Tax Rate')\n",
        "plt.show()\n",
        "print('Bin sizes: {}'.format(n))\n",
        "\n"
      ],
      "execution_count": 83,
      "outputs": [
        {
          "output_type": "display_data",
          "data": {
            "text/plain": [
              "<Figure size 640x480 with 1 Axes>"
            ],
            "image/png": "[encoded data removed]"
          },
          "metadata": {}
        },
        {
          "output_type": "stream",
          "name": "stdout",
          "text": [
            "Bin sizes: [ 54. 100. 108.  32.  74.   1.   0.   0.   0. 137.]\n"
          ]
        }
      ]
    },
    {
      "cell_type": "code",
      "source": [
        "# Grader's area\n",
        "\n",
        "maxScore = maxScore+4\n",
        "# M[3,1] ="
      ],
      "metadata": {
        "id": "rGw6wsAfkHzL"
      },
      "execution_count": null,
      "outputs": []
    },
    {
      "cell_type": "markdown",
      "metadata": {
        "id": "cDbu6VbOxzNJ"
      },
      "source": [
        "------------------\n",
        "------------------\n",
        "------------------\n",
        "------------------\n",
        "\n",
        "\n",
        "\n",
        "\n"
      ]
    },
    {
      "cell_type": "code",
      "metadata": {
        "id": "yTYkJsHgfGLk",
        "colab": {
          "base_uri": "https://localhost:8080/"
        },
        "outputId": "91475c6d-93e2-49cd-f371-882c812c8bab"
      },
      "source": [
        "def house_with_defined_age(dataset,age):\n",
        "    '''This function will return indices of all houses with proportion of owner-occupied units built prior to 1940 greater than age%'''\n",
        "    ids = []\n",
        "    for id, record in enumerate(dataset):\n",
        "        if record[6]>age:\n",
        "            ids.append(id)\n",
        "    return ids\n",
        "\n",
        "\n",
        "# list out all records with units built prior to 1940 greater than 50%\n",
        "samples[house_with_defined_age(samples,50)]"
      ],
      "execution_count": 84,
      "outputs": [
        {
          "output_type": "execute_result",
          "data": {
            "text/plain": [
              "array([[  0.00632,  18.     ,   2.31   , ...,  15.3    , 396.9    ,   4.98   ],\n",
              "       [  0.02731,   0.     ,   7.07   , ...,  17.8    , 396.9    ,   9.14   ],\n",
              "       [  0.02729,   0.     ,   7.07   , ...,  17.8    , 392.83   ,   4.03   ],\n",
              "       ...,\n",
              "       [  0.06076,   0.     ,  11.93   , ...,  21.     , 396.9    ,   5.64   ],\n",
              "       [  0.10959,   0.     ,  11.93   , ...,  21.     , 393.45   ,   6.48   ],\n",
              "       [  0.04741,   0.     ,  11.93   , ...,  21.     , 396.9    ,   7.88   ]])"
            ]
          },
          "metadata": {},
          "execution_count": 84
        }
      ]
    },
    {
      "cell_type": "markdown",
      "metadata": {
        "id": "N3zhYgVKfGLm"
      },
      "source": [
        "\n",
        "## <font color='#008DFF'> **Question 4**\n",
        "\n",
        "Write a function that takes as input the given dataset and two numbers $a$ and $b$, and returns the IDs of houses for which tax is either less than $a$ or more than $b$. Demonstrate how the function runs with two specific inputs $a$ and $b$ of your choice.\n",
        "\n"
      ]
    },
    {
      "cell_type": "code",
      "metadata": {
        "id": "6_0OKNXtfGLn",
        "colab": {
          "base_uri": "https://localhost:8080/"
        },
        "outputId": "3c2a6d77-0dfd-4483-b038-1b079310d241"
      },
      "source": [
        "# your code goes here\n",
        "\n",
        "\n",
        "def house_with_defined_age(dataset,a,b):\n",
        "    '''This function will return indices of all houses with proportion of owner-occupied units built prior to 1940 greater than age%'''\n",
        "    ids = []\n",
        "    for id, record in enumerate(dataset):\n",
        "        #9 to find tax\n",
        "        if record[9]<a or record[9]>b:\n",
        "            ids.append(id)\n",
        "    return ids\n",
        "\n",
        "\n",
        "# Looks at tax rate between 395 and 400.\n",
        "result = samples[house_with_defined_age(samples,300,600)]\n",
        "print(result)\n",
        "\n",
        "print('---')\n",
        "tax_column_only = result[:,9]\n",
        "tax_column_only = sorted(tax_column_only, reverse=True)\n",
        "\n",
        "print(tax_column_only)\n",
        "\n",
        "\n",
        "print(result.shape)"
      ],
      "execution_count": 92,
      "outputs": [
        {
          "output_type": "stream",
          "name": "stdout",
          "text": [
            "[[  0.00632  18.        2.31    ...  15.3     396.9       4.98   ]\n",
            " [  0.02731   0.        7.07    ...  17.8     396.9       9.14   ]\n",
            " [  0.02729   0.        7.07    ...  17.8     392.83      4.03   ]\n",
            " ...\n",
            " [  0.06076   0.       11.93    ...  21.      396.9       5.64   ]\n",
            " [  0.10959   0.       11.93    ...  21.      393.45      6.48   ]\n",
            " [  0.04741   0.       11.93    ...  21.      396.9       7.88   ]]\n",
            "---\n",
            "[711.0, 711.0, 711.0, 711.0, 711.0, 666.0, 666.0, 666.0, 666.0, 666.0, 666.0, 666.0, 666.0, 666.0, 666.0, 666.0, 666.0, 666.0, 666.0, 666.0, 666.0, 666.0, 666.0, 666.0, 666.0, 666.0, 666.0, 666.0, 666.0, 666.0, 666.0, 666.0, 666.0, 666.0, 666.0, 666.0, 666.0, 666.0, 666.0, 666.0, 666.0, 666.0, 666.0, 666.0, 666.0, 666.0, 666.0, 666.0, 666.0, 666.0, 666.0, 666.0, 666.0, 666.0, 666.0, 666.0, 666.0, 666.0, 666.0, 666.0, 666.0, 666.0, 666.0, 666.0, 666.0, 666.0, 666.0, 666.0, 666.0, 666.0, 666.0, 666.0, 666.0, 666.0, 666.0, 666.0, 666.0, 666.0, 666.0, 666.0, 666.0, 666.0, 666.0, 666.0, 666.0, 666.0, 666.0, 666.0, 666.0, 666.0, 666.0, 666.0, 666.0, 666.0, 666.0, 666.0, 666.0, 666.0, 666.0, 666.0, 666.0, 666.0, 666.0, 666.0, 666.0, 666.0, 666.0, 666.0, 666.0, 666.0, 666.0, 666.0, 666.0, 666.0, 666.0, 666.0, 666.0, 666.0, 666.0, 666.0, 666.0, 666.0, 666.0, 666.0, 666.0, 666.0, 666.0, 666.0, 666.0, 666.0, 666.0, 666.0, 666.0, 666.0, 666.0, 666.0, 666.0, 296.0, 296.0, 296.0, 296.0, 296.0, 296.0, 296.0, 296.0, 293.0, 293.0, 293.0, 289.0, 289.0, 289.0, 289.0, 289.0, 287.0, 287.0, 287.0, 287.0, 287.0, 287.0, 287.0, 287.0, 285.0, 284.0, 284.0, 284.0, 284.0, 284.0, 284.0, 284.0, 281.0, 281.0, 281.0, 281.0, 280.0, 279.0, 279.0, 279.0, 279.0, 277.0, 277.0, 277.0, 277.0, 277.0, 277.0, 277.0, 277.0, 277.0, 277.0, 277.0, 276.0, 276.0, 276.0, 276.0, 276.0, 276.0, 276.0, 276.0, 276.0, 273.0, 273.0, 273.0, 273.0, 273.0, 270.0, 270.0, 270.0, 270.0, 270.0, 270.0, 270.0, 265.0, 265.0, 264.0, 264.0, 264.0, 264.0, 264.0, 264.0, 264.0, 264.0, 264.0, 264.0, 264.0, 264.0, 256.0, 255.0, 254.0, 254.0, 254.0, 254.0, 254.0, 252.0, 252.0, 247.0, 247.0, 247.0, 247.0, 245.0, 245.0, 245.0, 244.0, 243.0, 243.0, 243.0, 243.0, 242.0, 242.0, 241.0, 233.0, 233.0, 233.0, 233.0, 233.0, 233.0, 233.0, 233.0, 233.0, 226.0, 224.0, 224.0, 224.0, 224.0, 224.0, 224.0, 224.0, 224.0, 224.0, 224.0, 223.0, 223.0, 223.0, 223.0, 223.0, 222.0, 222.0, 222.0, 222.0, 222.0, 222.0, 222.0, 216.0, 216.0, 216.0, 216.0, 216.0, 198.0, 193.0, 193.0, 193.0, 193.0, 193.0, 193.0, 193.0, 193.0, 188.0, 188.0, 188.0, 188.0, 188.0, 188.0, 188.0, 187.0]\n",
            "(302, 13)\n"
          ]
        }
      ]
    },
    {
      "cell_type": "code",
      "metadata": {
        "id": "upNrvOZQAqVf"
      },
      "source": [
        "# Grader's area\n",
        "\n",
        "maxScore = maxScore + 4\n",
        "# M[4,1]="
      ],
      "execution_count": null,
      "outputs": []
    },
    {
      "cell_type": "markdown",
      "source": [
        "------------------------------------------\n",
        "------------------------------------------\n",
        "------------------------------------------\n",
        "------------------------------------------"
      ],
      "metadata": {
        "id": "FwAL2fEc2cRP"
      }
    },
    {
      "cell_type": "markdown",
      "metadata": {
        "id": "0h4pDnxJ-06z"
      },
      "source": [
        "## **Part 3: *k*-NN simple implementation**\n",
        "\n",
        "Here we use a simple implementation of *k*-NN in order to understand how objects and methods work."
      ]
    },
    {
      "cell_type": "markdown",
      "source": [
        "## <font color='#008DFF'> **Question 5**\n",
        "\n"
      ],
      "metadata": {
        "id": "5ntY4Cih-qYl"
      }
    },
    {
      "cell_type": "code",
      "metadata": {
        "id": "EKQWqF-FAuky"
      },
      "source": [
        "# the following algorithm is an implementation of the kNN pseudocode we discussed in the lecture\n",
        "\n",
        "class kNN_classifier:\n",
        "  # the hyperparameters that define the object/algorithm\n",
        "  # these are given at initialization\n",
        "  def __init__(self,k, distance):\n",
        "  #def __init__(self,k, distance='euclidean'):\n",
        "    self.k = k\n",
        "    self.distance = distance\n",
        "    print('Init complete')\n",
        "    print(f'distance is currently set to {distance}')\n",
        "\n",
        "  #here we define the methods of the knn classifier object\n",
        "\n",
        "  #the fit method takes as input the data and labels\n",
        "  def fit(self,X,y):\n",
        "    # siply save X, y as part of the object\n",
        "    # y is assumed to have labels 0 or 1 (binary classifier)\n",
        "    self.X = X\n",
        "    self.y = y\n",
        "    print('Fit Stage complete')\n",
        "\n",
        "\n",
        "  def predict(self,x):\n",
        "\n",
        "    # here we expect x to be a row vector of the same\n",
        "    # dimension as the rows of X. no checks are done.\n",
        "\n",
        "    n = self.X.shape[0]\n",
        "    S = []\n",
        "    for j in range(n):\n",
        "\n",
        "      if self.distance =='euclidean':\n",
        "        dst = np.linalg.norm(x-self.X[j,:])\n",
        "      elif self.distance == 'Manhattan':\n",
        "        dst = np.linalg.norm(x-self.X[j,:], ord = 1)\n",
        "        # ord = 1 is to change the data to manhattan we tested this by looking at S.sort in the print statements.\n",
        "        #print('Dst is Manhattan now')\n",
        "      S.append(dst)\n",
        "\n",
        "    #S.sort(reverse = True)\n",
        "    #S.sort is commented out because it changes the results of the predict function. This was used to verify that the data is different\n",
        "    #print(S[:1])\n",
        "    # sort distances\n",
        "    prm = np.argsort(S)\n",
        "\n",
        "\n",
        "    c = 0\n",
        "    for j in range(self.k):\n",
        "      idx = prm[j]\n",
        "      if self.y[idx] == 1:\n",
        "        c = c+1\n",
        "\n",
        "    if c >= self.k//2:\n",
        "      return 1\n",
        "    else:\n",
        "      return 0\n"
      ],
      "execution_count": 31,
      "outputs": []
    },
    {
      "cell_type": "markdown",
      "source": [
        "### <font color='#008DFF'>  **Question 5(i)**\n",
        "\n",
        "Re-use the scatter plot code from the beginning of [notes](https://colab.research.google.com/drive/1NIHv_CoknQt3UcrMSezu7iUJEsEeyaaN?usp=drive_fs) from Module 1 (Introduction) in order to create a simple dataset with 2 blobs/clusters. Check whether the labels vectors contains 0s and 1s as needed by our *k*-NN code."
      ],
      "metadata": {
        "id": "6eUGohNI_JPS"
      }
    },
    {
      "cell_type": "code",
      "source": [
        "## your code goes here\n",
        "\n",
        "from IPython.display import Image\n",
        "from IPython.display import Math\n",
        "from IPython.display import Latex\n",
        "\n",
        "import matplotlib.pyplot as plt\n",
        "from sklearn.datasets import make_blobs\n",
        "import numpy as np\n",
        "\n",
        "X1,Y1 = make_blobs(n_samples=100,centers=2,n_features=2,random_state = 1)\n",
        "plt.scatter(X1[:,0],X1[:,1],marker = 'o',c=Y1, s= 25, edgecolor = \"k\")\n",
        "print(f'Labels: {Y1}') #labels\n",
        "print(f'Data: {X1[:10]}') #data"
      ],
      "metadata": {
        "id": "bp4DLWmz8vXn",
        "colab": {
          "base_uri": "https://localhost:8080/",
          "height": 656
        },
        "outputId": "1d2de211-10e5-4dfd-d20e-ef300ee0ce47"
      },
      "execution_count": 4,
      "outputs": [
        {
          "output_type": "stream",
          "name": "stdout",
          "text": [
            "Labels: [0 1 0 0 1 1 1 1 0 0 1 0 1 0 1 1 1 0 0 1 1 1 1 0 0 1 1 0 0 1 0 0 1 0 1 1 0\n",
            " 1 1 1 1 1 0 1 0 1 0 0 0 0 0 1 1 1 0 1 0 1 0 0 0 1 1 1 1 1 0 1 0 0 1 1 1 0\n",
            " 0 0 1 1 0 0 0 1 0 1 0 0 0 0 0 0 1 0 0 0 1 1 1 0 1 0]\n",
            "Data: [[-0.79415228  2.10495117]\n",
            " [-9.15155186 -4.81286449]\n",
            " [-3.10367371  3.90202401]\n",
            " [-1.42946517  5.16850105]\n",
            " [-7.4693868  -4.20198333]\n",
            " [-9.19585147 -3.90678125]\n",
            " [-9.31764266 -4.27315015]\n",
            " [-9.20490564 -4.57687928]\n",
            " [-2.76017908  5.55121358]\n",
            " [-1.17104176  4.33091816]]\n"
          ]
        },
        {
          "output_type": "display_data",
          "data": {
            "text/plain": [
              "<Figure size 640x480 with 1 Axes>"
            ],
            "image/png": "[encoded data removed]"
          },
          "metadata": {}
        }
      ]
    },
    {
      "cell_type": "code",
      "source": [
        "# Grader's area\n",
        "\n",
        "maxScore = maxScore +5\n",
        "#M[5,1] =\n",
        "\n"
      ],
      "metadata": {
        "id": "NqpvrcbI_xG1",
        "colab": {
          "base_uri": "https://localhost:8080/",
          "height": 245
        },
        "outputId": "775a75a7-a14d-4fa2-afb1-e5539677a130"
      },
      "execution_count": 5,
      "outputs": [
        {
          "output_type": "error",
          "ename": "NameError",
          "evalue": "name 'maxScore' is not defined",
          "traceback": [
            "\u001b[0;31m---------------------------------------------------------------------------\u001b[0m",
            "\u001b[0;31mNameError\u001b[0m                                 Traceback (most recent call last)",
            "\u001b[0;32m<ipython-input-5-65ceefde7210>\u001b[0m in \u001b[0;36m<cell line: 3>\u001b[0;34m()\u001b[0m\n\u001b[1;32m      1\u001b[0m \u001b[0;31m# Grader's area\u001b[0m\u001b[0;34m\u001b[0m\u001b[0;34m\u001b[0m\u001b[0m\n\u001b[1;32m      2\u001b[0m \u001b[0;34m\u001b[0m\u001b[0m\n\u001b[0;32m----> 3\u001b[0;31m \u001b[0mmaxScore\u001b[0m \u001b[0;34m=\u001b[0m \u001b[0mmaxScore\u001b[0m \u001b[0;34m+\u001b[0m\u001b[0;36m5\u001b[0m\u001b[0;34m\u001b[0m\u001b[0;34m\u001b[0m\u001b[0m\n\u001b[0m\u001b[1;32m      4\u001b[0m \u001b[0;31m#M[5,1] =\u001b[0m\u001b[0;34m\u001b[0m\u001b[0;34m\u001b[0m\u001b[0m\n\u001b[1;32m      5\u001b[0m \u001b[0;34m\u001b[0m\u001b[0m\n",
            "\u001b[0;31mNameError\u001b[0m: name 'maxScore' is not defined"
          ]
        }
      ]
    },
    {
      "cell_type": "markdown",
      "source": [],
      "metadata": {
        "id": "knWS8oKD_9QI"
      }
    },
    {
      "cell_type": "markdown",
      "source": [
        "### <font color='#008DFF'>  **Question 5(ii)**\n",
        "\n",
        "Initialize a *k*-NN classifier using the class we wrote above. (Hint: see the [*k*-NN lab](https://colab.research.google.com/drive/1Mh6I3bR8pE90kcs28JfKok59NtfV_7ct?usp=drive_fs) for an example of how to initialize an object.)"
      ],
      "metadata": {
        "id": "SROYKfcm_9gk"
      }
    },
    {
      "cell_type": "code",
      "source": [
        "## your code goes here\n",
        "\n",
        "from sklearn.model_selection import train_test_split\n",
        "\n",
        "\n",
        "X_train, X_test, y_train, y_test = train_test_split(\n",
        "    X1, Y1, test_size=0.3, random_state=1, stratify=Y1)\n",
        "\n",
        "print(X_train[:10])\n",
        "\n",
        "knn = kNN_classifier(k=5, distance = \"euclidean\")\n",
        "knn.fit(X_train, y_train)\n",
        "knn.predict(X_test)\n",
        "\n",
        "results = []\n",
        "for i in X_test:\n",
        "  value = knn.predict(i)\n",
        "  results.append(value)\n",
        "\n",
        "print(results)"
      ],
      "metadata": {
        "id": "2Ni9kwJLAQUc",
        "colab": {
          "base_uri": "https://localhost:8080/"
        },
        "outputId": "c2f963b3-87a1-4226-c281-94246db4296f"
      },
      "execution_count": 32,
      "outputs": [
        {
          "output_type": "stream",
          "name": "stdout",
          "text": [
            "[[ -2.03484486   3.76775946]\n",
            " [ -7.4693868   -4.20198333]\n",
            " [ -0.75796919   4.90898421]\n",
            " [ -1.17104176   4.33091816]\n",
            " [ -1.49952284   5.28265879]\n",
            " [ -1.92744799   4.93684534]\n",
            " [ -9.01137732  -3.73981465]\n",
            " [ -2.35122066   4.00973634]\n",
            " [-11.37082982  -3.63818916]\n",
            " [ -1.23606555   4.48382994]]\n",
            "Init complete\n",
            "distance is currently set to euclidean\n",
            "Fit Stage complete\n",
            "[1, 1, 0, 0, 0, 1, 1, 1, 0, 0, 1, 1, 1, 0, 1, 1, 0, 1, 0, 0, 0, 0, 0, 1, 1, 0, 0, 1, 1, 0]\n"
          ]
        }
      ]
    },
    {
      "cell_type": "code",
      "source": [
        "# Grader's area\n",
        "\n",
        "maxScore = maxScore +5\n",
        "#M[5,2] =\n",
        "\n"
      ],
      "metadata": {
        "id": "701AcFiuAQUc"
      },
      "execution_count": null,
      "outputs": []
    },
    {
      "cell_type": "markdown",
      "source": [
        "### <font color='#008DFF'>  **Question 5(iii)**\n",
        "\n",
        "Add code in the *k*-NN classifier defined above, in order to handle the case when the hyperparameter *distance* is set to 'Manhattan'."
      ],
      "metadata": {
        "id": "6VchLMyhAaP5"
      }
    },
    {
      "cell_type": "code",
      "source": [
        "## your additional code goes here.\n",
        "## Please make a comment about where it should be added in the original code above\n",
        "\n",
        "knn = kNN_classifier(k = 5, distance = 'Manhattan')\n",
        "knn.fit(X_train, y_train)\n",
        "knn.predict(X_train)\n",
        "\n",
        "results = []\n",
        "for i in X_test:\n",
        "  value = knn.predict(i)\n",
        "  results.append(value)\n",
        "\n",
        "print(results)\n"
      ],
      "metadata": {
        "id": "_2w5NybMB6oT",
        "colab": {
          "base_uri": "https://localhost:8080/"
        },
        "outputId": "5fc390b9-fe7c-47d2-da09-8d6597ed6b2b"
      },
      "execution_count": 34,
      "outputs": [
        {
          "output_type": "stream",
          "name": "stdout",
          "text": [
            "Init complete\n",
            "distance is currently set to Manhattan\n",
            "Fit Stage complete\n",
            "[1, 1, 0, 0, 0, 1, 1, 1, 0, 0, 1, 1, 1, 0, 1, 1, 0, 1, 0, 0, 0, 0, 0, 1, 1, 0, 0, 1, 1, 0]\n"
          ]
        }
      ]
    },
    {
      "cell_type": "code",
      "source": [
        "# Grader's area\n",
        "\n",
        "maxScore = maxScore +5\n",
        "#M[5,3] =\n",
        "\n"
      ],
      "metadata": {
        "id": "HsiMfcevAqlW",
        "colab": {
          "base_uri": "https://localhost:8080/",
          "height": 245
        },
        "outputId": "c90fb93d-54aa-41ca-cc10-80dc259a8921"
      },
      "execution_count": 14,
      "outputs": [
        {
          "output_type": "error",
          "ename": "NameError",
          "evalue": "name 'maxScore' is not defined",
          "traceback": [
            "\u001b[0;31m---------------------------------------------------------------------------\u001b[0m",
            "\u001b[0;31mNameError\u001b[0m                                 Traceback (most recent call last)",
            "\u001b[0;32m<ipython-input-14-1853f7db297c>\u001b[0m in \u001b[0;36m<cell line: 3>\u001b[0;34m()\u001b[0m\n\u001b[1;32m      1\u001b[0m \u001b[0;31m# Grader's area\u001b[0m\u001b[0;34m\u001b[0m\u001b[0;34m\u001b[0m\u001b[0m\n\u001b[1;32m      2\u001b[0m \u001b[0;34m\u001b[0m\u001b[0m\n\u001b[0;32m----> 3\u001b[0;31m \u001b[0mmaxScore\u001b[0m \u001b[0;34m=\u001b[0m \u001b[0mmaxScore\u001b[0m \u001b[0;34m+\u001b[0m\u001b[0;36m5\u001b[0m\u001b[0;34m\u001b[0m\u001b[0;34m\u001b[0m\u001b[0m\n\u001b[0m\u001b[1;32m      4\u001b[0m \u001b[0;31m#M[5,3] =\u001b[0m\u001b[0;34m\u001b[0m\u001b[0;34m\u001b[0m\u001b[0m\n\u001b[1;32m      5\u001b[0m \u001b[0;34m\u001b[0m\u001b[0m\n",
            "\u001b[0;31mNameError\u001b[0m: name 'maxScore' is not defined"
          ]
        }
      ]
    },
    {
      "cell_type": "markdown",
      "source": [
        "----------------------\n",
        "----------------------\n",
        "----------------------"
      ],
      "metadata": {
        "id": "oRMj1OX-B_fn"
      }
    },
    {
      "cell_type": "code",
      "source": [
        "#Grader's area\n",
        "\n",
        "rawScore = np.sum(M)\n",
        "score = rawScore*40/maxScore"
      ],
      "metadata": {
        "id": "IVkneTzYCAxs"
      },
      "execution_count": null,
      "outputs": []
    }
  ]
}
