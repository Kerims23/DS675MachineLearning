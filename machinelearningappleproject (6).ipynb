{
 "cells": [
  {
   "cell_type": "markdown",
   "id": "bcb8456b",
   "metadata": {
    "papermill": {
     "duration": 0.031297,
     "end_time": "2024-04-25T01:57:33.958609",
     "exception": false,
     "start_time": "2024-04-25T01:57:33.927312",
     "status": "completed"
    },
    "tags": []
   },
   "source": [
    "# Apple Quality Classification Model"
   ]
  },
  {
   "cell_type": "markdown",
   "id": "51e851ae",
   "metadata": {
    "papermill": {
     "duration": 0.028752,
     "end_time": "2024-04-25T01:57:34.016651",
     "exception": false,
     "start_time": "2024-04-25T01:57:33.987899",
     "status": "completed"
    },
    "tags": []
   },
   "source": [
    "### Loading Libraries"
   ]
  },
  {
   "cell_type": "code",
   "execution_count": 1,
   "id": "70a7f34b",
   "metadata": {
    "execution": {
     "iopub.execute_input": "2024-04-25T01:57:34.118801Z",
     "iopub.status.busy": "2024-04-25T01:57:34.118419Z",
     "iopub.status.idle": "2024-04-25T01:57:57.259351Z",
     "shell.execute_reply": "2024-04-25T01:57:57.258544Z"
    },
    "papermill": {
     "duration": 23.215795,
     "end_time": "2024-04-25T01:57:57.261658",
     "exception": false,
     "start_time": "2024-04-25T01:57:34.045863",
     "status": "completed"
    },
    "tags": []
   },
   "outputs": [
    {
     "name": "stderr",
     "output_type": "stream",
     "text": [
      "/opt/conda/lib/python3.10/site-packages/scipy/__init__.py:146: UserWarning: A NumPy version >=1.16.5 and <1.23.0 is required for this version of SciPy (detected version 1.24.3\n",
      "  warnings.warn(f\"A NumPy version >={np_minversion} and <{np_maxversion}\"\n"
     ]
    }
   ],
   "source": [
    "import time\n",
    "import tensorflow as tf\n",
    "import sklearn\n",
    "import seaborn as sns\n",
    "import pandas as pd\n",
    "import numpy as np\n",
    "import matplotlib.pyplot as plt\n",
    "import keras_tuner\n",
    "from xgboost import XGBClassifier\n",
    "from tensorflow.keras.optimizers import Adam\n",
    "from tensorflow.keras.layers import Dense, BatchNormalization, Dropout\n",
    "from tensorflow.keras import Sequential\n",
    "from sklearn.tree import DecisionTreeClassifier\n",
    "from sklearn.model_selection import RandomizedSearchCV\n",
    "from sklearn.svm import SVC \n",
    "from sklearn.preprocessing import StandardScaler, PolynomialFeatures, RobustScaler\n",
    "from sklearn.pipeline import Pipeline\n",
    "from sklearn.neighbors import KNeighborsClassifier\n",
    "from sklearn.model_selection import train_test_split, learning_curve,cross_val_score\n",
    "from sklearn.model_selection import train_test_split\n",
    "from sklearn.metrics import accuracy_score, classification_report, confusion_matrix, precision_score, recall_score,\\\n",
    "    f1_score, roc_curve, auc, roc_auc_score\n",
    "from sklearn.linear_model import Perceptron, LogisticRegression\n",
    "from sklearn.feature_selection import SelectFromModel\n",
    "from sklearn.ensemble import RandomForestClassifier, AdaBoostClassifier\n",
    "from sklearn.decomposition import PCA\n",
    "from keras_tuner.tuners import RandomSearch\n",
    "from sklearn.preprocessing import MinMaxScaler\n",
    "from sklearn.preprocessing import RobustScaler, StandardScaler\n",
    "# from ydatasynthetic import streamlit_app\n",
    "# from ydata_synthetic.synthesizers.regular import RegularSynthesizer\n",
    "# from ydata_synthetic.synthesizers import ModelParameters, TrainParameters\n",
    "\n",
    "import warnings\n",
    "warnings.filterwarnings(\"ignore\")"
   ]
  },
  {
   "cell_type": "markdown",
   "id": "9488cb1f",
   "metadata": {
    "papermill": {
     "duration": 0.03435,
     "end_time": "2024-04-25T01:57:57.331583",
     "exception": false,
     "start_time": "2024-04-25T01:57:57.297233",
     "status": "completed"
    },
    "tags": []
   },
   "source": [
    "# Project Goals:\n",
    "Our objective is to develop an apple-quality binary classification model that is both robust and scalable, surpassing the baseline accuracy set by Nukman Hakim’s SVM (91% accuracy). We plan to do it in two ways: \n",
    "- Nukman opted not to remove outliers from the data but instead utilized RobustScaler to scale the data based on the interquartile range (IQR). In our analysis, we seek to contrast the performance of models trained using two distinct outlier-handling methods and evaluate the impact of outliers on accuracy. To achieve this, we plan to reuse Nukman’s code and retrain three of his models—Random Forest, Support Vector Machine (SVM), and K-Nearest Neighbors (KNN)—using both the original data containing outliers scaled with RobustScaler and data without outliers. Through this comparison, we aim to gain insights into how different outlier treatment methods affect the performance of models.\n",
    "- Additionally, we will add three more models - AdaBoost, Logistic Regression, and ANN - to give us a wider range of options and hopefully discover a model that has a better performance than the SVM baseline.\n"
   ]
  },
  {
   "cell_type": "markdown",
   "id": "832da568",
   "metadata": {
    "papermill": {
     "duration": 0.030119,
     "end_time": "2024-04-25T01:57:57.395137",
     "exception": false,
     "start_time": "2024-04-25T01:57:57.365018",
     "status": "completed"
    },
    "tags": []
   },
   "source": [
    "# Exploratory Data Analysis"
   ]
  },
  {
   "cell_type": "markdown",
   "id": "42296f9d",
   "metadata": {
    "papermill": {
     "duration": 0.029646,
     "end_time": "2024-04-25T01:57:57.455038",
     "exception": false,
     "start_time": "2024-04-25T01:57:57.425392",
     "status": "completed"
    },
    "tags": []
   },
   "source": [
    "### Loading the data"
   ]
  },
  {
   "cell_type": "code",
   "execution_count": 2,
   "id": "f6d99561",
   "metadata": {
    "execution": {
     "iopub.execute_input": "2024-04-25T01:57:57.515066Z",
     "iopub.status.busy": "2024-04-25T01:57:57.514413Z",
     "iopub.status.idle": "2024-04-25T01:57:57.583610Z",
     "shell.execute_reply": "2024-04-25T01:57:57.582566Z"
    },
    "papermill": {
     "duration": 0.101601,
     "end_time": "2024-04-25T01:57:57.585906",
     "exception": false,
     "start_time": "2024-04-25T01:57:57.484305",
     "status": "completed"
    },
    "tags": []
   },
   "outputs": [
    {
     "data": {
      "text/html": [
       "<div>\n",
       "<style scoped>\n",
       "    .dataframe tbody tr th:only-of-type {\n",
       "        vertical-align: middle;\n",
       "    }\n",
       "\n",
       "    .dataframe tbody tr th {\n",
       "        vertical-align: top;\n",
       "    }\n",
       "\n",
       "    .dataframe thead th {\n",
       "        text-align: right;\n",
       "    }\n",
       "</style>\n",
       "<table border=\"1\" class=\"dataframe\">\n",
       "  <thead>\n",
       "    <tr style=\"text-align: right;\">\n",
       "      <th></th>\n",
       "      <th>A_id</th>\n",
       "      <th>Size</th>\n",
       "      <th>Weight</th>\n",
       "      <th>Sweetness</th>\n",
       "      <th>Crunchiness</th>\n",
       "      <th>Juiciness</th>\n",
       "      <th>Ripeness</th>\n",
       "      <th>Acidity</th>\n",
       "      <th>Quality</th>\n",
       "    </tr>\n",
       "  </thead>\n",
       "  <tbody>\n",
       "    <tr>\n",
       "      <th>0</th>\n",
       "      <td>0.0</td>\n",
       "      <td>-3.970049</td>\n",
       "      <td>-2.512336</td>\n",
       "      <td>5.346330</td>\n",
       "      <td>-1.012009</td>\n",
       "      <td>1.844900</td>\n",
       "      <td>0.329840</td>\n",
       "      <td>-0.491590483</td>\n",
       "      <td>good</td>\n",
       "    </tr>\n",
       "    <tr>\n",
       "      <th>1</th>\n",
       "      <td>1.0</td>\n",
       "      <td>-1.195217</td>\n",
       "      <td>-2.839257</td>\n",
       "      <td>3.664059</td>\n",
       "      <td>1.588232</td>\n",
       "      <td>0.853286</td>\n",
       "      <td>0.867530</td>\n",
       "      <td>-0.722809367</td>\n",
       "      <td>good</td>\n",
       "    </tr>\n",
       "    <tr>\n",
       "      <th>2</th>\n",
       "      <td>2.0</td>\n",
       "      <td>-0.292024</td>\n",
       "      <td>-1.351282</td>\n",
       "      <td>-1.738429</td>\n",
       "      <td>-0.342616</td>\n",
       "      <td>2.838636</td>\n",
       "      <td>-0.038033</td>\n",
       "      <td>2.621636473</td>\n",
       "      <td>bad</td>\n",
       "    </tr>\n",
       "    <tr>\n",
       "      <th>3</th>\n",
       "      <td>3.0</td>\n",
       "      <td>-0.657196</td>\n",
       "      <td>-2.271627</td>\n",
       "      <td>1.324874</td>\n",
       "      <td>-0.097875</td>\n",
       "      <td>3.637970</td>\n",
       "      <td>-3.413761</td>\n",
       "      <td>0.790723217</td>\n",
       "      <td>good</td>\n",
       "    </tr>\n",
       "    <tr>\n",
       "      <th>4</th>\n",
       "      <td>4.0</td>\n",
       "      <td>1.364217</td>\n",
       "      <td>-1.296612</td>\n",
       "      <td>-0.384658</td>\n",
       "      <td>-0.553006</td>\n",
       "      <td>3.030874</td>\n",
       "      <td>-1.303849</td>\n",
       "      <td>0.501984036</td>\n",
       "      <td>good</td>\n",
       "    </tr>\n",
       "  </tbody>\n",
       "</table>\n",
       "</div>"
      ],
      "text/plain": [
       "   A_id      Size    Weight  Sweetness  Crunchiness  Juiciness  Ripeness  \\\n",
       "0   0.0 -3.970049 -2.512336   5.346330    -1.012009   1.844900  0.329840   \n",
       "1   1.0 -1.195217 -2.839257   3.664059     1.588232   0.853286  0.867530   \n",
       "2   2.0 -0.292024 -1.351282  -1.738429    -0.342616   2.838636 -0.038033   \n",
       "3   3.0 -0.657196 -2.271627   1.324874    -0.097875   3.637970 -3.413761   \n",
       "4   4.0  1.364217 -1.296612  -0.384658    -0.553006   3.030874 -1.303849   \n",
       "\n",
       "        Acidity Quality  \n",
       "0  -0.491590483    good  \n",
       "1  -0.722809367    good  \n",
       "2   2.621636473     bad  \n",
       "3   0.790723217    good  \n",
       "4   0.501984036    good  "
      ]
     },
     "metadata": {},
     "output_type": "display_data"
    }
   ],
   "source": [
    "# Load the file into a DataFrame\n",
    "#apple_quality = pd.read_csv(\"apple_quality.csv\")\n",
    "apple_quality = pd.read_csv(\"/kaggle/input/apple-quality/apple_quality.csv\")\n",
    "display(apple_quality.head())"
   ]
  },
  {
   "cell_type": "code",
   "execution_count": 3,
   "id": "526d7537",
   "metadata": {
    "execution": {
     "iopub.execute_input": "2024-04-25T01:57:57.648883Z",
     "iopub.status.busy": "2024-04-25T01:57:57.648432Z",
     "iopub.status.idle": "2024-04-25T01:57:57.653861Z",
     "shell.execute_reply": "2024-04-25T01:57:57.653018Z"
    },
    "papermill": {
     "duration": 0.039201,
     "end_time": "2024-04-25T01:57:57.656036",
     "exception": false,
     "start_time": "2024-04-25T01:57:57.616835",
     "status": "completed"
    },
    "tags": []
   },
   "outputs": [
    {
     "name": "stdout",
     "output_type": "stream",
     "text": [
      "Number of rows: 4001\n",
      "Number of columns: 9\n"
     ]
    }
   ],
   "source": [
    "# Get the dimensions of the dataset\n",
    "dimensions = apple_quality.shape\n",
    "print(\"Number of rows:\", dimensions[0])\n",
    "print(\"Number of columns:\", dimensions[1])"
   ]
  },
  {
   "cell_type": "code",
   "execution_count": 4,
   "id": "04c5414f",
   "metadata": {
    "execution": {
     "iopub.execute_input": "2024-04-25T01:57:57.717350Z",
     "iopub.status.busy": "2024-04-25T01:57:57.717059Z",
     "iopub.status.idle": "2024-04-25T01:57:57.746713Z",
     "shell.execute_reply": "2024-04-25T01:57:57.745487Z"
    },
    "papermill": {
     "duration": 0.062662,
     "end_time": "2024-04-25T01:57:57.748683",
     "exception": false,
     "start_time": "2024-04-25T01:57:57.686021",
     "status": "completed"
    },
    "tags": []
   },
   "outputs": [
    {
     "name": "stdout",
     "output_type": "stream",
     "text": [
      "<class 'pandas.core.frame.DataFrame'>\n",
      "RangeIndex: 4001 entries, 0 to 4000\n",
      "Data columns (total 9 columns):\n",
      " #   Column       Non-Null Count  Dtype  \n",
      "---  ------       --------------  -----  \n",
      " 0   A_id         4000 non-null   float64\n",
      " 1   Size         4000 non-null   float64\n",
      " 2   Weight       4000 non-null   float64\n",
      " 3   Sweetness    4000 non-null   float64\n",
      " 4   Crunchiness  4000 non-null   float64\n",
      " 5   Juiciness    4000 non-null   float64\n",
      " 6   Ripeness     4000 non-null   float64\n",
      " 7   Acidity      4001 non-null   object \n",
      " 8   Quality      4000 non-null   object \n",
      "dtypes: float64(7), object(2)\n",
      "memory usage: 281.4+ KB\n",
      "None\n"
     ]
    }
   ],
   "source": [
    "#explore the data info\n",
    "print(apple_quality.info())"
   ]
  },
  {
   "cell_type": "markdown",
   "id": "6f3e11f9",
   "metadata": {
    "papermill": {
     "duration": 0.029402,
     "end_time": "2024-04-25T01:57:57.808359",
     "exception": false,
     "start_time": "2024-04-25T01:57:57.778957",
     "status": "completed"
    },
    "tags": []
   },
   "source": [
    "The Apple quality dataset contains 4001 rows and 9 features. There are 8 numerical (continuous) features; A_id, Size, Weight, Sweetness, Crunchiness, Juiciness, Ripeness, and Acidity. The dataset also has the categorical feature Quality, which is either ‘good’ or ‘bad’. All features are of type float except Acidity which is set as an object but contains numerical data and is later changed to type float. All the data from this dataset is already standardized from Kaggle. The Kaggle usability rating is 10, and we plan to use all features in all models. Nukman’s model is the Kaggle notebook with the highest rating."
   ]
  },
  {
   "cell_type": "markdown",
   "id": "acad3738",
   "metadata": {
    "papermill": {
     "duration": 0.03007,
     "end_time": "2024-04-25T01:57:57.867825",
     "exception": false,
     "start_time": "2024-04-25T01:57:57.837755",
     "status": "completed"
    },
    "tags": []
   },
   "source": [
    "### Dropping NaN"
   ]
  },
  {
   "cell_type": "code",
   "execution_count": 5,
   "id": "c1f4101a",
   "metadata": {
    "execution": {
     "iopub.execute_input": "2024-04-25T01:57:57.929245Z",
     "iopub.status.busy": "2024-04-25T01:57:57.928515Z",
     "iopub.status.idle": "2024-04-25T01:57:57.935600Z",
     "shell.execute_reply": "2024-04-25T01:57:57.934720Z"
    },
    "papermill": {
     "duration": 0.040376,
     "end_time": "2024-04-25T01:57:57.937826",
     "exception": false,
     "start_time": "2024-04-25T01:57:57.897450",
     "status": "completed"
    },
    "tags": []
   },
   "outputs": [
    {
     "name": "stdout",
     "output_type": "stream",
     "text": [
      "A_id           1\n",
      "Size           1\n",
      "Weight         1\n",
      "Sweetness      1\n",
      "Crunchiness    1\n",
      "Juiciness      1\n",
      "Ripeness       1\n",
      "Acidity        0\n",
      "Quality        1\n",
      "dtype: int64\n"
     ]
    }
   ],
   "source": [
    "print(apple_quality.isnull().sum())"
   ]
  },
  {
   "cell_type": "code",
   "execution_count": 6,
   "id": "373d9d96",
   "metadata": {
    "execution": {
     "iopub.execute_input": "2024-04-25T01:57:58.000515Z",
     "iopub.status.busy": "2024-04-25T01:57:57.999737Z",
     "iopub.status.idle": "2024-04-25T01:57:58.009227Z",
     "shell.execute_reply": "2024-04-25T01:57:58.008253Z"
    },
    "papermill": {
     "duration": 0.043228,
     "end_time": "2024-04-25T01:57:58.011103",
     "exception": false,
     "start_time": "2024-04-25T01:57:57.967875",
     "status": "completed"
    },
    "tags": []
   },
   "outputs": [
    {
     "name": "stdout",
     "output_type": "stream",
     "text": [
      "A_id           0\n",
      "Size           0\n",
      "Weight         0\n",
      "Sweetness      0\n",
      "Crunchiness    0\n",
      "Juiciness      0\n",
      "Ripeness       0\n",
      "Acidity        0\n",
      "Quality        0\n",
      "dtype: int64\n"
     ]
    }
   ],
   "source": [
    "apple_quality_cleaned = apple_quality.dropna()\n",
    "\n",
    "print(apple_quality_cleaned.isnull().sum())"
   ]
  },
  {
   "cell_type": "markdown",
   "id": "5384f3b0",
   "metadata": {
    "papermill": {
     "duration": 0.029582,
     "end_time": "2024-04-25T01:57:58.070992",
     "exception": false,
     "start_time": "2024-04-25T01:57:58.041410",
     "status": "completed"
    },
    "tags": []
   },
   "source": [
    "### Re-labeling label classes"
   ]
  },
  {
   "cell_type": "code",
   "execution_count": 7,
   "id": "392ae7de",
   "metadata": {
    "execution": {
     "iopub.execute_input": "2024-04-25T01:57:58.134945Z",
     "iopub.status.busy": "2024-04-25T01:57:58.134613Z",
     "iopub.status.idle": "2024-04-25T01:57:58.146215Z",
     "shell.execute_reply": "2024-04-25T01:57:58.145506Z"
    },
    "papermill": {
     "duration": 0.046102,
     "end_time": "2024-04-25T01:57:58.148155",
     "exception": false,
     "start_time": "2024-04-25T01:57:58.102053",
     "status": "completed"
    },
    "tags": []
   },
   "outputs": [],
   "source": [
    "# Label encoding: 1 = good, 0 = bad\n",
    "label_mapping = {\"good\": 1, \"bad\": 0}\n",
    "apple_quality_cleaned = apple_quality_cleaned.copy()\n",
    "apple_quality_cleaned['Quality'] = apple_quality_cleaned['Quality'].replace(label_mapping)"
   ]
  },
  {
   "cell_type": "code",
   "execution_count": 8,
   "id": "0ff46eba",
   "metadata": {
    "execution": {
     "iopub.execute_input": "2024-04-25T01:57:58.209612Z",
     "iopub.status.busy": "2024-04-25T01:57:58.209258Z",
     "iopub.status.idle": "2024-04-25T01:57:58.222919Z",
     "shell.execute_reply": "2024-04-25T01:57:58.222040Z"
    },
    "papermill": {
     "duration": 0.046327,
     "end_time": "2024-04-25T01:57:58.224930",
     "exception": false,
     "start_time": "2024-04-25T01:57:58.178603",
     "status": "completed"
    },
    "tags": []
   },
   "outputs": [
    {
     "data": {
      "text/html": [
       "<div>\n",
       "<style scoped>\n",
       "    .dataframe tbody tr th:only-of-type {\n",
       "        vertical-align: middle;\n",
       "    }\n",
       "\n",
       "    .dataframe tbody tr th {\n",
       "        vertical-align: top;\n",
       "    }\n",
       "\n",
       "    .dataframe thead th {\n",
       "        text-align: right;\n",
       "    }\n",
       "</style>\n",
       "<table border=\"1\" class=\"dataframe\">\n",
       "  <thead>\n",
       "    <tr style=\"text-align: right;\">\n",
       "      <th></th>\n",
       "      <th>A_id</th>\n",
       "      <th>Size</th>\n",
       "      <th>Weight</th>\n",
       "      <th>Sweetness</th>\n",
       "      <th>Crunchiness</th>\n",
       "      <th>Juiciness</th>\n",
       "      <th>Ripeness</th>\n",
       "      <th>Acidity</th>\n",
       "      <th>Quality</th>\n",
       "    </tr>\n",
       "  </thead>\n",
       "  <tbody>\n",
       "    <tr>\n",
       "      <th>0</th>\n",
       "      <td>0.0</td>\n",
       "      <td>-3.970049</td>\n",
       "      <td>-2.512336</td>\n",
       "      <td>5.346330</td>\n",
       "      <td>-1.012009</td>\n",
       "      <td>1.844900</td>\n",
       "      <td>0.329840</td>\n",
       "      <td>-0.491590483</td>\n",
       "      <td>1</td>\n",
       "    </tr>\n",
       "    <tr>\n",
       "      <th>1</th>\n",
       "      <td>1.0</td>\n",
       "      <td>-1.195217</td>\n",
       "      <td>-2.839257</td>\n",
       "      <td>3.664059</td>\n",
       "      <td>1.588232</td>\n",
       "      <td>0.853286</td>\n",
       "      <td>0.867530</td>\n",
       "      <td>-0.722809367</td>\n",
       "      <td>1</td>\n",
       "    </tr>\n",
       "    <tr>\n",
       "      <th>2</th>\n",
       "      <td>2.0</td>\n",
       "      <td>-0.292024</td>\n",
       "      <td>-1.351282</td>\n",
       "      <td>-1.738429</td>\n",
       "      <td>-0.342616</td>\n",
       "      <td>2.838636</td>\n",
       "      <td>-0.038033</td>\n",
       "      <td>2.621636473</td>\n",
       "      <td>0</td>\n",
       "    </tr>\n",
       "    <tr>\n",
       "      <th>3</th>\n",
       "      <td>3.0</td>\n",
       "      <td>-0.657196</td>\n",
       "      <td>-2.271627</td>\n",
       "      <td>1.324874</td>\n",
       "      <td>-0.097875</td>\n",
       "      <td>3.637970</td>\n",
       "      <td>-3.413761</td>\n",
       "      <td>0.790723217</td>\n",
       "      <td>1</td>\n",
       "    </tr>\n",
       "    <tr>\n",
       "      <th>4</th>\n",
       "      <td>4.0</td>\n",
       "      <td>1.364217</td>\n",
       "      <td>-1.296612</td>\n",
       "      <td>-0.384658</td>\n",
       "      <td>-0.553006</td>\n",
       "      <td>3.030874</td>\n",
       "      <td>-1.303849</td>\n",
       "      <td>0.501984036</td>\n",
       "      <td>1</td>\n",
       "    </tr>\n",
       "  </tbody>\n",
       "</table>\n",
       "</div>"
      ],
      "text/plain": [
       "   A_id      Size    Weight  Sweetness  Crunchiness  Juiciness  Ripeness  \\\n",
       "0   0.0 -3.970049 -2.512336   5.346330    -1.012009   1.844900  0.329840   \n",
       "1   1.0 -1.195217 -2.839257   3.664059     1.588232   0.853286  0.867530   \n",
       "2   2.0 -0.292024 -1.351282  -1.738429    -0.342616   2.838636 -0.038033   \n",
       "3   3.0 -0.657196 -2.271627   1.324874    -0.097875   3.637970 -3.413761   \n",
       "4   4.0  1.364217 -1.296612  -0.384658    -0.553006   3.030874 -1.303849   \n",
       "\n",
       "        Acidity  Quality  \n",
       "0  -0.491590483        1  \n",
       "1  -0.722809367        1  \n",
       "2   2.621636473        0  \n",
       "3   0.790723217        1  \n",
       "4   0.501984036        1  "
      ]
     },
     "execution_count": 8,
     "metadata": {},
     "output_type": "execute_result"
    }
   ],
   "source": [
    "apple_quality_cleaned.head()"
   ]
  },
  {
   "cell_type": "markdown",
   "id": "3cbdfad5",
   "metadata": {
    "papermill": {
     "duration": 0.030389,
     "end_time": "2024-04-25T01:57:58.287486",
     "exception": false,
     "start_time": "2024-04-25T01:57:58.257097",
     "status": "completed"
    },
    "tags": []
   },
   "source": [
    "### Fixing data type of a feature"
   ]
  },
  {
   "cell_type": "code",
   "execution_count": 9,
   "id": "ee948b97",
   "metadata": {
    "execution": {
     "iopub.execute_input": "2024-04-25T01:57:58.350554Z",
     "iopub.status.busy": "2024-04-25T01:57:58.349663Z",
     "iopub.status.idle": "2024-04-25T01:57:58.355422Z",
     "shell.execute_reply": "2024-04-25T01:57:58.354595Z"
    },
    "papermill": {
     "duration": 0.040329,
     "end_time": "2024-04-25T01:57:58.357782",
     "exception": false,
     "start_time": "2024-04-25T01:57:58.317453",
     "status": "completed"
    },
    "tags": []
   },
   "outputs": [
    {
     "name": "stdout",
     "output_type": "stream",
     "text": [
      "A_id           float64\n",
      "Size           float64\n",
      "Weight         float64\n",
      "Sweetness      float64\n",
      "Crunchiness    float64\n",
      "Juiciness      float64\n",
      "Ripeness       float64\n",
      "Acidity         object\n",
      "Quality          int64\n",
      "dtype: object\n"
     ]
    }
   ],
   "source": [
    "# Check column data types\n",
    "column_data_types = apple_quality_cleaned.dtypes\n",
    "print(column_data_types)"
   ]
  },
  {
   "cell_type": "markdown",
   "id": "6573aab2",
   "metadata": {
    "papermill": {
     "duration": 0.031259,
     "end_time": "2024-04-25T01:57:58.418926",
     "exception": false,
     "start_time": "2024-04-25T01:57:58.387667",
     "status": "completed"
    },
    "tags": []
   },
   "source": [
    "### Change Acidity data type from object to float"
   ]
  },
  {
   "cell_type": "code",
   "execution_count": 10,
   "id": "9e7d63ae",
   "metadata": {
    "execution": {
     "iopub.execute_input": "2024-04-25T01:57:58.481768Z",
     "iopub.status.busy": "2024-04-25T01:57:58.481059Z",
     "iopub.status.idle": "2024-04-25T01:57:58.493275Z",
     "shell.execute_reply": "2024-04-25T01:57:58.492207Z"
    },
    "papermill": {
     "duration": 0.045917,
     "end_time": "2024-04-25T01:57:58.495603",
     "exception": false,
     "start_time": "2024-04-25T01:57:58.449686",
     "status": "completed"
    },
    "tags": []
   },
   "outputs": [
    {
     "name": "stdout",
     "output_type": "stream",
     "text": [
      "<class 'pandas.core.frame.DataFrame'>\n",
      "Index: 4000 entries, 0 to 3999\n",
      "Data columns (total 9 columns):\n",
      " #   Column       Non-Null Count  Dtype  \n",
      "---  ------       --------------  -----  \n",
      " 0   A_id         4000 non-null   float64\n",
      " 1   Size         4000 non-null   float64\n",
      " 2   Weight       4000 non-null   float64\n",
      " 3   Sweetness    4000 non-null   float64\n",
      " 4   Crunchiness  4000 non-null   float64\n",
      " 5   Juiciness    4000 non-null   float64\n",
      " 6   Ripeness     4000 non-null   float64\n",
      " 7   Acidity      4000 non-null   float64\n",
      " 8   Quality      4000 non-null   int64  \n",
      "dtypes: float64(8), int64(1)\n",
      "memory usage: 312.5 KB\n",
      "None\n"
     ]
    }
   ],
   "source": [
    "# Change 'Acidity' data type to float64\n",
    "apple_quality_cleaned['Acidity'] = apple_quality_cleaned['Acidity'].astype('float64')\n",
    "print(apple_quality_cleaned.info())"
   ]
  },
  {
   "cell_type": "code",
   "execution_count": 11,
   "id": "2b9ef21a",
   "metadata": {
    "execution": {
     "iopub.execute_input": "2024-04-25T01:57:58.560955Z",
     "iopub.status.busy": "2024-04-25T01:57:58.560607Z",
     "iopub.status.idle": "2024-04-25T01:57:58.595085Z",
     "shell.execute_reply": "2024-04-25T01:57:58.594206Z"
    },
    "papermill": {
     "duration": 0.068597,
     "end_time": "2024-04-25T01:57:58.597055",
     "exception": false,
     "start_time": "2024-04-25T01:57:58.528458",
     "status": "completed"
    },
    "scrolled": true,
    "tags": []
   },
   "outputs": [
    {
     "data": {
      "text/html": [
       "<div>\n",
       "<style scoped>\n",
       "    .dataframe tbody tr th:only-of-type {\n",
       "        vertical-align: middle;\n",
       "    }\n",
       "\n",
       "    .dataframe tbody tr th {\n",
       "        vertical-align: top;\n",
       "    }\n",
       "\n",
       "    .dataframe thead th {\n",
       "        text-align: right;\n",
       "    }\n",
       "</style>\n",
       "<table border=\"1\" class=\"dataframe\">\n",
       "  <thead>\n",
       "    <tr style=\"text-align: right;\">\n",
       "      <th></th>\n",
       "      <th>count</th>\n",
       "      <th>mean</th>\n",
       "      <th>std</th>\n",
       "      <th>min</th>\n",
       "      <th>25%</th>\n",
       "      <th>50%</th>\n",
       "      <th>75%</th>\n",
       "      <th>max</th>\n",
       "    </tr>\n",
       "  </thead>\n",
       "  <tbody>\n",
       "    <tr>\n",
       "      <th>A_id</th>\n",
       "      <td>4000.0</td>\n",
       "      <td>1999.500000</td>\n",
       "      <td>1154.844867</td>\n",
       "      <td>0.000000</td>\n",
       "      <td>999.750000</td>\n",
       "      <td>1999.500000</td>\n",
       "      <td>2999.250000</td>\n",
       "      <td>3999.000000</td>\n",
       "    </tr>\n",
       "    <tr>\n",
       "      <th>Size</th>\n",
       "      <td>4000.0</td>\n",
       "      <td>-0.503015</td>\n",
       "      <td>1.928059</td>\n",
       "      <td>-7.151703</td>\n",
       "      <td>-1.816765</td>\n",
       "      <td>-0.513703</td>\n",
       "      <td>0.805526</td>\n",
       "      <td>6.406367</td>\n",
       "    </tr>\n",
       "    <tr>\n",
       "      <th>Weight</th>\n",
       "      <td>4000.0</td>\n",
       "      <td>-0.989547</td>\n",
       "      <td>1.602507</td>\n",
       "      <td>-7.149848</td>\n",
       "      <td>-2.011770</td>\n",
       "      <td>-0.984736</td>\n",
       "      <td>0.030976</td>\n",
       "      <td>5.790714</td>\n",
       "    </tr>\n",
       "    <tr>\n",
       "      <th>Sweetness</th>\n",
       "      <td>4000.0</td>\n",
       "      <td>-0.470479</td>\n",
       "      <td>1.943441</td>\n",
       "      <td>-6.894485</td>\n",
       "      <td>-1.738425</td>\n",
       "      <td>-0.504758</td>\n",
       "      <td>0.801922</td>\n",
       "      <td>6.374916</td>\n",
       "    </tr>\n",
       "    <tr>\n",
       "      <th>Crunchiness</th>\n",
       "      <td>4000.0</td>\n",
       "      <td>0.985478</td>\n",
       "      <td>1.402757</td>\n",
       "      <td>-6.055058</td>\n",
       "      <td>0.062764</td>\n",
       "      <td>0.998249</td>\n",
       "      <td>1.894234</td>\n",
       "      <td>7.619852</td>\n",
       "    </tr>\n",
       "    <tr>\n",
       "      <th>Juiciness</th>\n",
       "      <td>4000.0</td>\n",
       "      <td>0.512118</td>\n",
       "      <td>1.930286</td>\n",
       "      <td>-5.961897</td>\n",
       "      <td>-0.801286</td>\n",
       "      <td>0.534219</td>\n",
       "      <td>1.835976</td>\n",
       "      <td>7.364403</td>\n",
       "    </tr>\n",
       "    <tr>\n",
       "      <th>Ripeness</th>\n",
       "      <td>4000.0</td>\n",
       "      <td>0.498277</td>\n",
       "      <td>1.874427</td>\n",
       "      <td>-5.864599</td>\n",
       "      <td>-0.771677</td>\n",
       "      <td>0.503445</td>\n",
       "      <td>1.766212</td>\n",
       "      <td>7.237837</td>\n",
       "    </tr>\n",
       "    <tr>\n",
       "      <th>Acidity</th>\n",
       "      <td>4000.0</td>\n",
       "      <td>0.076877</td>\n",
       "      <td>2.110270</td>\n",
       "      <td>-7.010538</td>\n",
       "      <td>-1.377424</td>\n",
       "      <td>0.022609</td>\n",
       "      <td>1.510493</td>\n",
       "      <td>7.404736</td>\n",
       "    </tr>\n",
       "    <tr>\n",
       "      <th>Quality</th>\n",
       "      <td>4000.0</td>\n",
       "      <td>0.501000</td>\n",
       "      <td>0.500062</td>\n",
       "      <td>0.000000</td>\n",
       "      <td>0.000000</td>\n",
       "      <td>1.000000</td>\n",
       "      <td>1.000000</td>\n",
       "      <td>1.000000</td>\n",
       "    </tr>\n",
       "  </tbody>\n",
       "</table>\n",
       "</div>"
      ],
      "text/plain": [
       "              count         mean          std       min         25%  \\\n",
       "A_id         4000.0  1999.500000  1154.844867  0.000000  999.750000   \n",
       "Size         4000.0    -0.503015     1.928059 -7.151703   -1.816765   \n",
       "Weight       4000.0    -0.989547     1.602507 -7.149848   -2.011770   \n",
       "Sweetness    4000.0    -0.470479     1.943441 -6.894485   -1.738425   \n",
       "Crunchiness  4000.0     0.985478     1.402757 -6.055058    0.062764   \n",
       "Juiciness    4000.0     0.512118     1.930286 -5.961897   -0.801286   \n",
       "Ripeness     4000.0     0.498277     1.874427 -5.864599   -0.771677   \n",
       "Acidity      4000.0     0.076877     2.110270 -7.010538   -1.377424   \n",
       "Quality      4000.0     0.501000     0.500062  0.000000    0.000000   \n",
       "\n",
       "                     50%          75%          max  \n",
       "A_id         1999.500000  2999.250000  3999.000000  \n",
       "Size           -0.513703     0.805526     6.406367  \n",
       "Weight         -0.984736     0.030976     5.790714  \n",
       "Sweetness      -0.504758     0.801922     6.374916  \n",
       "Crunchiness     0.998249     1.894234     7.619852  \n",
       "Juiciness       0.534219     1.835976     7.364403  \n",
       "Ripeness        0.503445     1.766212     7.237837  \n",
       "Acidity         0.022609     1.510493     7.404736  \n",
       "Quality         1.000000     1.000000     1.000000  "
      ]
     },
     "execution_count": 11,
     "metadata": {},
     "output_type": "execute_result"
    }
   ],
   "source": [
    "apple_quality_cleaned.describe().T"
   ]
  },
  {
   "cell_type": "markdown",
   "id": "826c2517",
   "metadata": {
    "papermill": {
     "duration": 0.032051,
     "end_time": "2024-04-25T01:57:58.660137",
     "exception": false,
     "start_time": "2024-04-25T01:57:58.628086",
     "status": "completed"
    },
    "tags": []
   },
   "source": [
    "### Dropping A_id because it does not add any value"
   ]
  },
  {
   "cell_type": "code",
   "execution_count": 12,
   "id": "d6f78036",
   "metadata": {
    "execution": {
     "iopub.execute_input": "2024-04-25T01:57:58.726649Z",
     "iopub.status.busy": "2024-04-25T01:57:58.725991Z",
     "iopub.status.idle": "2024-04-25T01:57:58.734160Z",
     "shell.execute_reply": "2024-04-25T01:57:58.733200Z"
    },
    "papermill": {
     "duration": 0.043674,
     "end_time": "2024-04-25T01:57:58.736256",
     "exception": false,
     "start_time": "2024-04-25T01:57:58.692582",
     "status": "completed"
    },
    "tags": []
   },
   "outputs": [],
   "source": [
    "#The feature A_id adds no value to the model and can be dropped\n",
    "apple_quality_cleaned.drop(\"A_id\", axis=1, inplace=True)"
   ]
  },
  {
   "cell_type": "markdown",
   "id": "810177ef",
   "metadata": {
    "papermill": {
     "duration": 0.031271,
     "end_time": "2024-04-25T01:57:58.798538",
     "exception": false,
     "start_time": "2024-04-25T01:57:58.767267",
     "status": "completed"
    },
    "tags": []
   },
   "source": [
    "# Data Visualization"
   ]
  },
  {
   "cell_type": "markdown",
   "id": "940a273c",
   "metadata": {
    "papermill": {
     "duration": 0.030582,
     "end_time": "2024-04-25T01:57:58.859631",
     "exception": false,
     "start_time": "2024-04-25T01:57:58.829049",
     "status": "completed"
    },
    "tags": []
   },
   "source": [
    "## Visualize probability distributions of variables"
   ]
  },
  {
   "cell_type": "code",
   "execution_count": 13,
   "id": "7e10ebcc",
   "metadata": {
    "execution": {
     "iopub.execute_input": "2024-04-25T01:57:58.922721Z",
     "iopub.status.busy": "2024-04-25T01:57:58.921765Z",
     "iopub.status.idle": "2024-04-25T01:58:00.334391Z",
     "shell.execute_reply": "2024-04-25T01:58:00.333424Z"
    },
    "papermill": {
     "duration": 1.446244,
     "end_time": "2024-04-25T01:58:00.336354",
     "exception": false,
     "start_time": "2024-04-25T01:57:58.890110",
     "status": "completed"
    },
    "tags": []
   },
   "outputs": [
    {
     "data": {
      "image/png": "[encoded data removed]",
      "text/plain": [
       "<Figure size 1000x800 with 9 Axes>"
      ]
     },
     "metadata": {},
     "output_type": "display_data"
    }
   ],
   "source": [
    "apple_quality_cleaned.hist(figsize=(10, 8))\n",
    "plt.show()"
   ]
  },
  {
   "cell_type": "markdown",
   "id": "21af3bfe",
   "metadata": {
    "papermill": {
     "duration": 0.032261,
     "end_time": "2024-04-25T01:58:00.401459",
     "exception": false,
     "start_time": "2024-04-25T01:58:00.369198",
     "status": "completed"
    },
    "tags": []
   },
   "source": [
    "All variables are almost perfectly bell shaped. No evident skeweness is present, indicating that the data might have been already scaled"
   ]
  },
  {
   "cell_type": "markdown",
   "id": "d0b30808",
   "metadata": {
    "papermill": {
     "duration": 0.033692,
     "end_time": "2024-04-25T01:58:00.467103",
     "exception": false,
     "start_time": "2024-04-25T01:58:00.433411",
     "status": "completed"
    },
    "tags": []
   },
   "source": [
    "### Visualize class label balance"
   ]
  },
  {
   "cell_type": "code",
   "execution_count": 14,
   "id": "ad09ea9a",
   "metadata": {
    "execution": {
     "iopub.execute_input": "2024-04-25T01:58:00.535272Z",
     "iopub.status.busy": "2024-04-25T01:58:00.534899Z",
     "iopub.status.idle": "2024-04-25T01:58:00.796271Z",
     "shell.execute_reply": "2024-04-25T01:58:00.795255Z"
    },
    "papermill": {
     "duration": 0.297262,
     "end_time": "2024-04-25T01:58:00.798711",
     "exception": false,
     "start_time": "2024-04-25T01:58:00.501449",
     "status": "completed"
    },
    "tags": []
   },
   "outputs": [
    {
     "data": {
      "image/png": "[encoded data removed]",
      "text/plain": [
       "<Figure size 400x400 with 1 Axes>"
      ]
     },
     "metadata": {},
     "output_type": "display_data"
    }
   ],
   "source": [
    "# Create count plot\n",
    "plt.figure(figsize=(4, 4))\n",
    "ax = sns.countplot(data=apple_quality_cleaned, x='Quality')\n",
    "\n",
    "# Set plot title and labels\n",
    "plt.title('Countplot for Quality')\n",
    "plt.xlabel('Quality')\n",
    "plt.ylabel('Count')\n",
    "plt.xticks(rotation=45)\n",
    "\n",
    "# Annotate each bar with its count\n",
    "for p in ax.patches:\n",
    "    ax.annotate(format(p.get_height(), '.0f'), \n",
    "                (p.get_x() + p.get_width() / 2., p.get_height()), \n",
    "                ha = 'center', va = 'center', \n",
    "                xytext = (0, 5), \n",
    "                textcoords = 'offset points')\n",
    "\n",
    "# Display the plot\n",
    "plt.show()"
   ]
  },
  {
   "cell_type": "markdown",
   "id": "61df5bce",
   "metadata": {
    "papermill": {
     "duration": 0.033022,
     "end_time": "2024-04-25T01:58:00.870049",
     "exception": false,
     "start_time": "2024-04-25T01:58:00.837027",
     "status": "completed"
    },
    "tags": []
   },
   "source": [
    "The class labels shows a slight imbalance towards the negative class. Overall the dataset is well balanced"
   ]
  },
  {
   "cell_type": "markdown",
   "id": "92835c36",
   "metadata": {
    "papermill": {
     "duration": 0.03176,
     "end_time": "2024-04-25T01:58:00.934031",
     "exception": false,
     "start_time": "2024-04-25T01:58:00.902271",
     "status": "completed"
    },
    "tags": []
   },
   "source": [
    "## Correlation Heat Map"
   ]
  },
  {
   "cell_type": "code",
   "execution_count": 15,
   "id": "4d54dc5b",
   "metadata": {
    "execution": {
     "iopub.execute_input": "2024-04-25T01:58:01.000242Z",
     "iopub.status.busy": "2024-04-25T01:58:00.999569Z",
     "iopub.status.idle": "2024-04-25T01:58:01.526385Z",
     "shell.execute_reply": "2024-04-25T01:58:01.525408Z"
    },
    "papermill": {
     "duration": 0.563337,
     "end_time": "2024-04-25T01:58:01.529671",
     "exception": false,
     "start_time": "2024-04-25T01:58:00.966334",
     "status": "completed"
    },
    "tags": []
   },
   "outputs": [
    {
     "data": {
      "image/png": "[encoded data removed]",
      "text/plain": [
       "<Figure size 640x480 with 2 Axes>"
      ]
     },
     "metadata": {},
     "output_type": "display_data"
    }
   ],
   "source": [
    "# Correlation Heatmap\n",
    "corr_matrix = apple_quality_cleaned.corr()\n",
    "sns.heatmap(corr_matrix, annot=True, cmap='viridis')\n",
    "plt.title('Correlation Heatmap')\n",
    "plt.show()"
   ]
  },
  {
   "cell_type": "markdown",
   "id": "08b7f71a",
   "metadata": {
    "papermill": {
     "duration": 0.035123,
     "end_time": "2024-04-25T01:58:01.601151",
     "exception": false,
     "start_time": "2024-04-25T01:58:01.566028",
     "status": "completed"
    },
    "tags": []
   },
   "source": [
    "Most variables show a low correlation. Sweetness and Size show a moderate negative correlation of -0.32 "
   ]
  },
  {
   "cell_type": "markdown",
   "id": "82e7e405",
   "metadata": {
    "papermill": {
     "duration": 0.035,
     "end_time": "2024-04-25T01:58:01.673108",
     "exception": false,
     "start_time": "2024-04-25T01:58:01.638108",
     "status": "completed"
    },
    "tags": []
   },
   "source": [
    "## Scatterplot Pair Plot"
   ]
  },
  {
   "cell_type": "code",
   "execution_count": 16,
   "id": "4d5fb46e",
   "metadata": {
    "execution": {
     "iopub.execute_input": "2024-04-25T01:58:01.743798Z",
     "iopub.status.busy": "2024-04-25T01:58:01.743371Z",
     "iopub.status.idle": "2024-04-25T01:58:01.747996Z",
     "shell.execute_reply": "2024-04-25T01:58:01.746887Z"
    },
    "papermill": {
     "duration": 0.041481,
     "end_time": "2024-04-25T01:58:01.750021",
     "exception": false,
     "start_time": "2024-04-25T01:58:01.708540",
     "status": "completed"
    },
    "tags": []
   },
   "outputs": [],
   "source": [
    "# # Pairplot\n",
    "# plt.figure(figsize=(4, 4))\n",
    "# sns.pairplot(apple_quality_cleaned, hue='Quality')\n",
    "# plt.show()"
   ]
  },
  {
   "attachments": {
    "da444434-d6d6-4ff6-8853-87c44b82b7b0.png": {
     "image/png": "[encoded data removed]"
    }
   },
   "cell_type": "markdown",
   "id": "a65836ff",
   "metadata": {
    "papermill": {
     "duration": 0.033509,
     "end_time": "2024-04-25T01:58:01.821817",
     "exception": false,
     "start_time": "2024-04-25T01:58:01.788308",
     "status": "completed"
    },
    "tags": []
   },
   "source": [
    "# Data Pre-processing Workflow\n",
    "![image.png](attachment:da444434-d6d6-4ff6-8853-87c44b82b7b0.png)"
   ]
  },
  {
   "cell_type": "markdown",
   "id": "d89c5be8",
   "metadata": {
    "papermill": {
     "duration": 0.03363,
     "end_time": "2024-04-25T01:58:01.893725",
     "exception": false,
     "start_time": "2024-04-25T01:58:01.860095",
     "status": "completed"
    },
    "tags": []
   },
   "source": [
    "## Explore data to see if the features have outliers "
   ]
  },
  {
   "cell_type": "code",
   "execution_count": 17,
   "id": "48c73c52",
   "metadata": {
    "execution": {
     "iopub.execute_input": "2024-04-25T01:58:01.962546Z",
     "iopub.status.busy": "2024-04-25T01:58:01.962132Z",
     "iopub.status.idle": "2024-04-25T01:58:03.321817Z",
     "shell.execute_reply": "2024-04-25T01:58:03.320964Z"
    },
    "papermill": {
     "duration": 1.396921,
     "end_time": "2024-04-25T01:58:03.324071",
     "exception": false,
     "start_time": "2024-04-25T01:58:01.927150",
     "status": "completed"
    },
    "tags": []
   },
   "outputs": [
    {
     "data": {
      "image/png": "[encoded data removed]",
      "text/plain": [
       "<Figure size 1000x200 with 1 Axes>"
      ]
     },
     "metadata": {},
     "output_type": "display_data"
    },
    {
     "data": {
      "image/png": "[encoded data removed]",
      "text/plain": [
       "<Figure size 1000x200 with 1 Axes>"
      ]
     },
     "metadata": {},
     "output_type": "display_data"
    },
    {
     "data": {
      "image/png": "[encoded data removed]",
      "text/plain": [
       "<Figure size 1000x200 with 1 Axes>"
      ]
     },
     "metadata": {},
     "output_type": "display_data"
    },
    {
     "data": {
      "image/png": "[encoded data removed]",
      "text/plain": [
       "<Figure size 1000x200 with 1 Axes>"
      ]
     },
     "metadata": {},
     "output_type": "display_data"
    },
    {
     "data": {
      "image/png": "[encoded data removed]",
      "text/plain": [
       "<Figure size 1000x200 with 1 Axes>"
      ]
     },
     "metadata": {},
     "output_type": "display_data"
    },
    {
     "data": {
      "image/png": "[encoded data removed]",
      "text/plain": [
       "<Figure size 1000x200 with 1 Axes>"
      ]
     },
     "metadata": {},
     "output_type": "display_data"
    },
    {
     "data": {
      "image/png": "[encoded data removed]",
      "text/plain": [
       "<Figure size 1000x200 with 1 Axes>"
      ]
     },
     "metadata": {},
     "output_type": "display_data"
    }
   ],
   "source": [
    "# Boxplot\n",
    "for column in apple_quality_cleaned.columns:\n",
    "    if column == 'Quality':\n",
    "        break\n",
    "    plt.figure(figsize=(10, 2))\n",
    "    sns.boxplot(x=column, data=apple_quality_cleaned)\n",
    "    plt.show()"
   ]
  },
  {
   "cell_type": "markdown",
   "id": "d713aae1",
   "metadata": {
    "papermill": {
     "duration": 0.036126,
     "end_time": "2024-04-25T01:58:03.397469",
     "exception": false,
     "start_time": "2024-04-25T01:58:03.361343",
     "status": "completed"
    },
    "tags": []
   },
   "source": [
    "As we can see, all features have some outliers, but the number does not seem to be extremely high"
   ]
  },
  {
   "cell_type": "markdown",
   "id": "3adcda4c",
   "metadata": {
    "papermill": {
     "duration": 0.034137,
     "end_time": "2024-04-25T01:58:03.466684",
     "exception": false,
     "start_time": "2024-04-25T01:58:03.432547",
     "status": "completed"
    },
    "tags": []
   },
   "source": [
    "# Outlier removal With IQR Method and Scaling"
   ]
  },
  {
   "cell_type": "code",
   "execution_count": 18,
   "id": "0a58d218",
   "metadata": {
    "execution": {
     "iopub.execute_input": "2024-04-25T01:58:03.537134Z",
     "iopub.status.busy": "2024-04-25T01:58:03.536780Z",
     "iopub.status.idle": "2024-04-25T01:58:03.548018Z",
     "shell.execute_reply": "2024-04-25T01:58:03.546863Z"
    },
    "papermill": {
     "duration": 0.049075,
     "end_time": "2024-04-25T01:58:03.549903",
     "exception": false,
     "start_time": "2024-04-25T01:58:03.500828",
     "status": "completed"
    },
    "tags": []
   },
   "outputs": [
    {
     "name": "stdout",
     "output_type": "stream",
     "text": [
      "<class 'pandas.core.frame.DataFrame'>\n",
      "Index: 4000 entries, 0 to 3999\n",
      "Data columns (total 8 columns):\n",
      " #   Column       Non-Null Count  Dtype  \n",
      "---  ------       --------------  -----  \n",
      " 0   Size         4000 non-null   float64\n",
      " 1   Weight       4000 non-null   float64\n",
      " 2   Sweetness    4000 non-null   float64\n",
      " 3   Crunchiness  4000 non-null   float64\n",
      " 4   Juiciness    4000 non-null   float64\n",
      " 5   Ripeness     4000 non-null   float64\n",
      " 6   Acidity      4000 non-null   float64\n",
      " 7   Quality      4000 non-null   int64  \n",
      "dtypes: float64(7), int64(1)\n",
      "memory usage: 281.2 KB\n"
     ]
    }
   ],
   "source": [
    "apple_quality_cleaned.info()"
   ]
  },
  {
   "attachments": {
    "7abf61f3-d668-4aba-8346-f8af4f121ceb.png": {
     "image/png": "[encoded data removed]"
    }
   },
   "cell_type": "markdown",
   "id": "ce6b968d",
   "metadata": {
    "papermill": {
     "duration": 0.034178,
     "end_time": "2024-04-25T01:58:03.619425",
     "exception": false,
     "start_time": "2024-04-25T01:58:03.585247",
     "status": "completed"
    },
    "tags": []
   },
   "source": [
    "## Robust Scaler: \n",
    "RobustScaler scales the data by subtracting the median and then dividing by the interquartile range (IQR) of each feature.\n",
    "This scaling method helps to center the data around the median and scale it to a range that is less sensitive to the presence of outliers.\n",
    "![image.png](attachment:7abf61f3-d668-4aba-8346-f8af4f121ceb.png)\n"
   ]
  },
  {
   "cell_type": "code",
   "execution_count": 19,
   "id": "ae6d8d0a",
   "metadata": {
    "execution": {
     "iopub.execute_input": "2024-04-25T01:58:03.692115Z",
     "iopub.status.busy": "2024-04-25T01:58:03.691368Z",
     "iopub.status.idle": "2024-04-25T01:58:03.705022Z",
     "shell.execute_reply": "2024-04-25T01:58:03.704260Z"
    },
    "papermill": {
     "duration": 0.052787,
     "end_time": "2024-04-25T01:58:03.706923",
     "exception": false,
     "start_time": "2024-04-25T01:58:03.654136",
     "status": "completed"
    },
    "tags": []
   },
   "outputs": [],
   "source": [
    "# Scaling with robust scaler\n",
    "robust_scaler = RobustScaler()\n",
    "numerical_features = ['Size', 'Weight', 'Sweetness', 'Crunchiness', 'Juiciness', 'Ripeness','Acidity']\n",
    "#Duplicate apple_quality_cleaned dataframe, this dataframe will be used to remove outliers\n",
    "apple_quality_cleaned_no_out = apple_quality_cleaned.copy()\n",
    "#apply robust scaler to original dataframe. This dataframe will be used to store the data scaled with robust scaler\n",
    "apple_quality_cleaned[numerical_features] = robust_scaler.fit_transform(apple_quality_cleaned[numerical_features])"
   ]
  },
  {
   "cell_type": "code",
   "execution_count": 20,
   "id": "c5994eed",
   "metadata": {
    "execution": {
     "iopub.execute_input": "2024-04-25T01:58:03.779511Z",
     "iopub.status.busy": "2024-04-25T01:58:03.779207Z",
     "iopub.status.idle": "2024-04-25T01:58:03.809108Z",
     "shell.execute_reply": "2024-04-25T01:58:03.808119Z"
    },
    "papermill": {
     "duration": 0.068264,
     "end_time": "2024-04-25T01:58:03.811059",
     "exception": false,
     "start_time": "2024-04-25T01:58:03.742795",
     "status": "completed"
    },
    "tags": []
   },
   "outputs": [],
   "source": [
    "#create dataframe that will store the apple quality data with no outliers\n",
    "apple_quality_no_outliers = pd.DataFrame()\n",
    "\n",
    "outlier_count_arr = np.array([])\n",
    "\n",
    "#This for loop removes the data points that fall above or below the 1.5*IQR values\n",
    "for i in apple_quality_cleaned_no_out.columns:\n",
    "    Q1 = apple_quality_cleaned_no_out[i].quantile(0.25)\n",
    "    Q3 = apple_quality_cleaned_no_out[i].quantile(0.75)\n",
    "    # Calculate the bounds for the current column\n",
    "    lower_bound = Q1 - 1.5 * (Q3 - Q1)\n",
    "    upper_bound = Q3 + 1.5 * (Q3 - Q1)\n",
    "    # Filter out rows within the IQR range for the current column\n",
    "    filtered_data = apple_quality_cleaned_no_out[(apple_quality_cleaned_no_out[i] >= lower_bound) & (apple_quality_cleaned_no_out[i] <= upper_bound)]\n",
    "    #add outlier count to array\n",
    "    outl_count = apple_quality_cleaned_no_out[i].shape[0] - len(filtered_data)\n",
    "    outlier_count_arr = np.append(outlier_count_arr, outl_count)\n",
    "    # Assign filtered data to the new DataFrame\n",
    "    apple_quality_no_outliers[i] = filtered_data[i]"
   ]
  },
  {
   "cell_type": "markdown",
   "id": "cdbb1880",
   "metadata": {
    "papermill": {
     "duration": 0.034715,
     "end_time": "2024-04-25T01:58:03.881997",
     "exception": false,
     "start_time": "2024-04-25T01:58:03.847282",
     "status": "completed"
    },
    "tags": []
   },
   "source": [
    "## Visualize outlier count"
   ]
  },
  {
   "cell_type": "code",
   "execution_count": 21,
   "id": "c4e8c93f",
   "metadata": {
    "execution": {
     "iopub.execute_input": "2024-04-25T01:58:03.953272Z",
     "iopub.status.busy": "2024-04-25T01:58:03.952939Z",
     "iopub.status.idle": "2024-04-25T01:58:04.215161Z",
     "shell.execute_reply": "2024-04-25T01:58:04.214244Z"
    },
    "papermill": {
     "duration": 0.300153,
     "end_time": "2024-04-25T01:58:04.217144",
     "exception": false,
     "start_time": "2024-04-25T01:58:03.916991",
     "status": "completed"
    },
    "tags": []
   },
   "outputs": [
    {
     "data": {
      "image/png": "[encoded data removed]",
      "text/plain": [
       "<Figure size 800x500 with 1 Axes>"
      ]
     },
     "metadata": {},
     "output_type": "display_data"
    }
   ],
   "source": [
    "\n",
    "# Display the number of outliers for each feature\n",
    "outl_count_df = pd.DataFrame(outlier_count_arr.reshape(1, 8), columns=apple_quality_cleaned.columns).T\n",
    "outl_count_df.rename(columns={0: \"# of outl\"}, inplace=True)\n",
    "\n",
    "# Create the bar plot\n",
    "plt.figure(figsize=(8, 5))\n",
    "sns.barplot(x=outl_count_df.index[:-1], y=outl_count_df[\"# of outl\"][:-1])\n",
    "\n",
    "# Add the bar values\n",
    "for index, value in enumerate(outl_count_df[\"# of outl\"][:-1]):\n",
    "    plt.text(index, value, str(value), ha='center', va='bottom')\n",
    "\n",
    "plt.xticks(rotation=45, ha='right')\n",
    "plt.xlabel('Features')\n",
    "plt.ylabel('Number of Outliers')\n",
    "plt.title('Number of Outliers for Each Feature')\n",
    "plt.tight_layout()\n",
    "plt.show()\n",
    "\n",
    "# Display the DataFrame\n",
    "# display(outl_count_df.iloc[:-1,])"
   ]
  },
  {
   "cell_type": "markdown",
   "id": "58a48d98",
   "metadata": {
    "papermill": {
     "duration": 0.035143,
     "end_time": "2024-04-25T01:58:04.288527",
     "exception": false,
     "start_time": "2024-04-25T01:58:04.253384",
     "status": "completed"
    },
    "tags": []
   },
   "source": [
    "Weight and Crunchiness exhibit the highest number of outliers"
   ]
  },
  {
   "cell_type": "markdown",
   "id": "17e91fd1",
   "metadata": {
    "papermill": {
     "duration": 0.03683,
     "end_time": "2024-04-25T01:58:04.361505",
     "exception": false,
     "start_time": "2024-04-25T01:58:04.324675",
     "status": "completed"
    },
    "tags": []
   },
   "source": [
    "## Box Plot with Outliers Removed"
   ]
  },
  {
   "cell_type": "code",
   "execution_count": 22,
   "id": "dfe711e8",
   "metadata": {
    "execution": {
     "iopub.execute_input": "2024-04-25T01:58:04.434695Z",
     "iopub.status.busy": "2024-04-25T01:58:04.434284Z",
     "iopub.status.idle": "2024-04-25T01:58:05.495198Z",
     "shell.execute_reply": "2024-04-25T01:58:05.494164Z"
    },
    "papermill": {
     "duration": 1.100007,
     "end_time": "2024-04-25T01:58:05.497376",
     "exception": false,
     "start_time": "2024-04-25T01:58:04.397369",
     "status": "completed"
    },
    "tags": []
   },
   "outputs": [
    {
     "data": {
      "image/png": "[encoded data removed]",
      "text/plain": [
       "<Figure size 1000x200 with 1 Axes>"
      ]
     },
     "metadata": {},
     "output_type": "display_data"
    },
    {
     "data": {
      "image/png": "[encoded data removed]",
      "text/plain": [
       "<Figure size 1000x200 with 1 Axes>"
      ]
     },
     "metadata": {},
     "output_type": "display_data"
    },
    {
     "data": {
      "image/png": "[encoded data removed]",
      "text/plain": [
       "<Figure size 1000x200 with 1 Axes>"
      ]
     },
     "metadata": {},
     "output_type": "display_data"
    },
    {
     "data": {
      "image/png": "[encoded data removed]",
      "text/plain": [
       "<Figure size 1000x200 with 1 Axes>"
      ]
     },
     "metadata": {},
     "output_type": "display_data"
    },
    {
     "data": {
      "image/png": "[encoded data removed]",
      "text/plain": [
       "<Figure size 1000x200 with 1 Axes>"
      ]
     },
     "metadata": {},
     "output_type": "display_data"
    },
    {
     "data": {
      "image/png": "[encoded data removed]",
      "text/plain": [
       "<Figure size 1000x200 with 1 Axes>"
      ]
     },
     "metadata": {},
     "output_type": "display_data"
    }
   ],
   "source": [
    "for column in apple_quality_no_outliers.iloc[:,:6].columns:\n",
    "    plt.figure(figsize=(10, 2))\n",
    "    sns.boxplot(data=apple_quality_no_outliers, x=column)\n",
    "    plt.show()"
   ]
  },
  {
   "cell_type": "markdown",
   "id": "d24e51cd",
   "metadata": {
    "papermill": {
     "duration": 0.036907,
     "end_time": "2024-04-25T01:58:05.572156",
     "exception": false,
     "start_time": "2024-04-25T01:58:05.535249",
     "status": "completed"
    },
    "tags": []
   },
   "source": [
    "## Apply standard scaling"
   ]
  },
  {
   "cell_type": "code",
   "execution_count": 23,
   "id": "5eb216e3",
   "metadata": {
    "execution": {
     "iopub.execute_input": "2024-04-25T01:58:05.647331Z",
     "iopub.status.busy": "2024-04-25T01:58:05.646501Z",
     "iopub.status.idle": "2024-04-25T01:58:05.661663Z",
     "shell.execute_reply": "2024-04-25T01:58:05.660948Z"
    },
    "papermill": {
     "duration": 0.054898,
     "end_time": "2024-04-25T01:58:05.663814",
     "exception": false,
     "start_time": "2024-04-25T01:58:05.608916",
     "status": "completed"
    },
    "tags": []
   },
   "outputs": [],
   "source": [
    "# this happens after outlier removal however \n",
    "scaler = StandardScaler()\n",
    "\n",
    "apple_quality_cleaned[numerical_features] = scaler.fit_transform(apple_quality_cleaned[numerical_features])\n",
    "apple_quality_no_outliers[numerical_features] = scaler.fit_transform(apple_quality_no_outliers[numerical_features])"
   ]
  },
  {
   "cell_type": "markdown",
   "id": "99c01098",
   "metadata": {
    "papermill": {
     "duration": 0.038691,
     "end_time": "2024-04-25T01:58:05.741913",
     "exception": false,
     "start_time": "2024-04-25T01:58:05.703222",
     "status": "completed"
    },
    "tags": []
   },
   "source": [
    "## Filling NaN Values"
   ]
  },
  {
   "cell_type": "code",
   "execution_count": 24,
   "id": "d8593c4a",
   "metadata": {
    "execution": {
     "iopub.execute_input": "2024-04-25T01:58:05.818086Z",
     "iopub.status.busy": "2024-04-25T01:58:05.817722Z",
     "iopub.status.idle": "2024-04-25T01:58:05.834065Z",
     "shell.execute_reply": "2024-04-25T01:58:05.832774Z"
    },
    "papermill": {
     "duration": 0.05711,
     "end_time": "2024-04-25T01:58:05.836500",
     "exception": false,
     "start_time": "2024-04-25T01:58:05.779390",
     "status": "completed"
    },
    "tags": []
   },
   "outputs": [
    {
     "name": "stdout",
     "output_type": "stream",
     "text": [
      "<class 'pandas.core.frame.DataFrame'>\n",
      "Index: 3978 entries, 0 to 3999\n",
      "Data columns (total 8 columns):\n",
      " #   Column       Non-Null Count  Dtype  \n",
      "---  ------       --------------  -----  \n",
      " 0   Size         3978 non-null   float64\n",
      " 1   Weight       3978 non-null   float64\n",
      " 2   Sweetness    3978 non-null   float64\n",
      " 3   Crunchiness  3978 non-null   float64\n",
      " 4   Juiciness    3978 non-null   float64\n",
      " 5   Ripeness     3978 non-null   float64\n",
      " 6   Acidity      3978 non-null   float64\n",
      " 7   Quality      3978 non-null   int64  \n",
      "dtypes: float64(7), int64(1)\n",
      "memory usage: 279.7 KB\n"
     ]
    }
   ],
   "source": [
    "#Fill NaN\n",
    "apple_quality_no_outliers.fillna(apple_quality_no_outliers.mean(), inplace=True)\n",
    "apple_quality_no_outliers.info()"
   ]
  },
  {
   "cell_type": "markdown",
   "id": "a17ccbe6",
   "metadata": {
    "papermill": {
     "duration": 0.03745,
     "end_time": "2024-04-25T01:58:05.912763",
     "exception": false,
     "start_time": "2024-04-25T01:58:05.875313",
     "status": "completed"
    },
    "tags": []
   },
   "source": [
    "# Model preparation"
   ]
  },
  {
   "cell_type": "markdown",
   "id": "9ffb527a",
   "metadata": {
    "papermill": {
     "duration": 0.037359,
     "end_time": "2024-04-25T01:58:05.987692",
     "exception": false,
     "start_time": "2024-04-25T01:58:05.950333",
     "status": "completed"
    },
    "tags": []
   },
   "source": [
    "## Scaling and resampling of data prviously scaled with Robust Scaler"
   ]
  },
  {
   "cell_type": "code",
   "execution_count": 25,
   "id": "a70b110b",
   "metadata": {
    "execution": {
     "iopub.execute_input": "2024-04-25T01:58:06.063088Z",
     "iopub.status.busy": "2024-04-25T01:58:06.062721Z",
     "iopub.status.idle": "2024-04-25T01:58:06.080302Z",
     "shell.execute_reply": "2024-04-25T01:58:06.079430Z"
    },
    "papermill": {
     "duration": 0.057457,
     "end_time": "2024-04-25T01:58:06.082277",
     "exception": false,
     "start_time": "2024-04-25T01:58:06.024820",
     "status": "completed"
    },
    "tags": []
   },
   "outputs": [
    {
     "data": {
      "text/html": [
       "<div>\n",
       "<style scoped>\n",
       "    .dataframe tbody tr th:only-of-type {\n",
       "        vertical-align: middle;\n",
       "    }\n",
       "\n",
       "    .dataframe tbody tr th {\n",
       "        vertical-align: top;\n",
       "    }\n",
       "\n",
       "    .dataframe thead th {\n",
       "        text-align: right;\n",
       "    }\n",
       "</style>\n",
       "<table border=\"1\" class=\"dataframe\">\n",
       "  <thead>\n",
       "    <tr style=\"text-align: right;\">\n",
       "      <th></th>\n",
       "      <th>Size</th>\n",
       "      <th>Weight</th>\n",
       "      <th>Sweetness</th>\n",
       "      <th>Crunchiness</th>\n",
       "      <th>Juiciness</th>\n",
       "      <th>Ripeness</th>\n",
       "      <th>Acidity</th>\n",
       "    </tr>\n",
       "  </thead>\n",
       "  <tbody>\n",
       "    <tr>\n",
       "      <th>3995</th>\n",
       "      <td>0.298571</td>\n",
       "      <td>-0.044310</td>\n",
       "      <td>-1.715315</td>\n",
       "      <td>-0.389427</td>\n",
       "      <td>0.637727</td>\n",
       "      <td>0.954013</td>\n",
       "      <td>0.035165</td>\n",
       "    </tr>\n",
       "    <tr>\n",
       "      <th>3996</th>\n",
       "      <td>0.111319</td>\n",
       "      <td>1.953263</td>\n",
       "      <td>0.149770</td>\n",
       "      <td>-1.235578</td>\n",
       "      <td>-0.260547</td>\n",
       "      <td>-0.872609</td>\n",
       "      <td>0.868166</td>\n",
       "    </tr>\n",
       "    <tr>\n",
       "      <th>3997</th>\n",
       "      <td>-1.132436</td>\n",
       "      <td>-0.753397</td>\n",
       "      <td>-1.038414</td>\n",
       "      <td>-0.249443</td>\n",
       "      <td>0.907039</td>\n",
       "      <td>2.335405</td>\n",
       "      <td>-0.679395</td>\n",
       "    </tr>\n",
       "    <tr>\n",
       "      <th>3998</th>\n",
       "      <td>-1.862036</td>\n",
       "      <td>-0.515735</td>\n",
       "      <td>1.515389</td>\n",
       "      <td>-0.901247</td>\n",
       "      <td>0.886495</td>\n",
       "      <td>-0.158623</td>\n",
       "      <td>-1.113795</td>\n",
       "    </tr>\n",
       "    <tr>\n",
       "      <th>3999</th>\n",
       "      <td>0.414985</td>\n",
       "      <td>-0.473466</td>\n",
       "      <td>0.322563</td>\n",
       "      <td>-1.626164</td>\n",
       "      <td>0.406211</td>\n",
       "      <td>-0.701935</td>\n",
       "      <td>0.744686</td>\n",
       "    </tr>\n",
       "  </tbody>\n",
       "</table>\n",
       "</div>"
      ],
      "text/plain": [
       "          Size    Weight  Sweetness  Crunchiness  Juiciness  Ripeness  \\\n",
       "3995  0.298571 -0.044310  -1.715315    -0.389427   0.637727  0.954013   \n",
       "3996  0.111319  1.953263   0.149770    -1.235578  -0.260547 -0.872609   \n",
       "3997 -1.132436 -0.753397  -1.038414    -0.249443   0.907039  2.335405   \n",
       "3998 -1.862036 -0.515735   1.515389    -0.901247   0.886495 -0.158623   \n",
       "3999  0.414985 -0.473466   0.322563    -1.626164   0.406211 -0.701935   \n",
       "\n",
       "       Acidity  \n",
       "3995  0.035165  \n",
       "3996  0.868166  \n",
       "3997 -0.679395  \n",
       "3998 -1.113795  \n",
       "3999  0.744686  "
      ]
     },
     "metadata": {},
     "output_type": "display_data"
    },
    {
     "data": {
      "text/plain": [
       "3995    0\n",
       "3996    1\n",
       "3997    0\n",
       "3998    1\n",
       "3999    1\n",
       "Name: Quality, dtype: int64"
      ]
     },
     "metadata": {},
     "output_type": "display_data"
    }
   ],
   "source": [
    "# no outliers \n",
    "X_clean = apple_quality_no_outliers.drop(\"Quality\", axis=1)\n",
    "y_clean = apple_quality_no_outliers[\"Quality\"]\n",
    "display(X_clean.tail())\n",
    "display(y_clean.tail())"
   ]
  },
  {
   "cell_type": "code",
   "execution_count": 26,
   "id": "7dae99ef",
   "metadata": {
    "execution": {
     "iopub.execute_input": "2024-04-25T01:58:06.161769Z",
     "iopub.status.busy": "2024-04-25T01:58:06.160882Z",
     "iopub.status.idle": "2024-04-25T01:58:06.414152Z",
     "shell.execute_reply": "2024-04-25T01:58:06.413317Z"
    },
    "papermill": {
     "duration": 0.294188,
     "end_time": "2024-04-25T01:58:06.416531",
     "exception": false,
     "start_time": "2024-04-25T01:58:06.122343",
     "status": "completed"
    },
    "tags": []
   },
   "outputs": [],
   "source": [
    "scaler = MinMaxScaler(feature_range=(0, 1))\n",
    "X_scaled_clean = pd.DataFrame(scaler.fit_transform(X_clean), columns=X_clean.columns)\n",
    "\n",
    "from imblearn.over_sampling import SMOTE\n",
    "smote = SMOTE(random_state=42)\n",
    "X_resampled_clean, y_resampled_clean = smote.fit_resample(X_clean, y_clean)"
   ]
  },
  {
   "cell_type": "markdown",
   "id": "d7e45e7f",
   "metadata": {
    "papermill": {
     "duration": 0.038537,
     "end_time": "2024-04-25T01:58:06.493872",
     "exception": false,
     "start_time": "2024-04-25T01:58:06.455335",
     "status": "completed"
    },
    "tags": []
   },
   "source": [
    "## Scaling and resampling of data with outliers"
   ]
  },
  {
   "cell_type": "code",
   "execution_count": 27,
   "id": "5e821cf8",
   "metadata": {
    "execution": {
     "iopub.execute_input": "2024-04-25T01:58:06.571949Z",
     "iopub.status.busy": "2024-04-25T01:58:06.571348Z",
     "iopub.status.idle": "2024-04-25T01:58:06.589281Z",
     "shell.execute_reply": "2024-04-25T01:58:06.588252Z"
    },
    "papermill": {
     "duration": 0.059096,
     "end_time": "2024-04-25T01:58:06.591350",
     "exception": false,
     "start_time": "2024-04-25T01:58:06.532254",
     "status": "completed"
    },
    "tags": []
   },
   "outputs": [
    {
     "data": {
      "text/html": [
       "<div>\n",
       "<style scoped>\n",
       "    .dataframe tbody tr th:only-of-type {\n",
       "        vertical-align: middle;\n",
       "    }\n",
       "\n",
       "    .dataframe tbody tr th {\n",
       "        vertical-align: top;\n",
       "    }\n",
       "\n",
       "    .dataframe thead th {\n",
       "        text-align: right;\n",
       "    }\n",
       "</style>\n",
       "<table border=\"1\" class=\"dataframe\">\n",
       "  <thead>\n",
       "    <tr style=\"text-align: right;\">\n",
       "      <th></th>\n",
       "      <th>Size</th>\n",
       "      <th>Weight</th>\n",
       "      <th>Sweetness</th>\n",
       "      <th>Crunchiness</th>\n",
       "      <th>Juiciness</th>\n",
       "      <th>Ripeness</th>\n",
       "      <th>Acidity</th>\n",
       "    </tr>\n",
       "  </thead>\n",
       "  <tbody>\n",
       "    <tr>\n",
       "      <th>3995</th>\n",
       "      <td>0.291729</td>\n",
       "      <td>-0.048594</td>\n",
       "      <td>-1.669449</td>\n",
       "      <td>-0.365345</td>\n",
       "      <td>0.614425</td>\n",
       "      <td>0.931482</td>\n",
       "      <td>0.028866</td>\n",
       "    </tr>\n",
       "    <tr>\n",
       "      <th>3996</th>\n",
       "      <td>0.108878</td>\n",
       "      <td>1.834105</td>\n",
       "      <td>0.137124</td>\n",
       "      <td>-1.159058</td>\n",
       "      <td>-0.252634</td>\n",
       "      <td>-0.846326</td>\n",
       "      <td>0.842347</td>\n",
       "    </tr>\n",
       "    <tr>\n",
       "      <th>3997</th>\n",
       "      <td>-1.105655</td>\n",
       "      <td>-0.716904</td>\n",
       "      <td>-1.013784</td>\n",
       "      <td>-0.234036</td>\n",
       "      <td>0.874379</td>\n",
       "      <td>2.275957</td>\n",
       "      <td>-0.668950</td>\n",
       "    </tr>\n",
       "    <tr>\n",
       "      <th>3998</th>\n",
       "      <td>-1.818112</td>\n",
       "      <td>-0.492908</td>\n",
       "      <td>1.459901</td>\n",
       "      <td>-0.845446</td>\n",
       "      <td>0.854549</td>\n",
       "      <td>-0.151419</td>\n",
       "      <td>-1.093171</td>\n",
       "    </tr>\n",
       "    <tr>\n",
       "      <th>3999</th>\n",
       "      <td>0.405409</td>\n",
       "      <td>-0.453071</td>\n",
       "      <td>0.304496</td>\n",
       "      <td>-1.525439</td>\n",
       "      <td>0.390954</td>\n",
       "      <td>-0.680212</td>\n",
       "      <td>0.721761</td>\n",
       "    </tr>\n",
       "  </tbody>\n",
       "</table>\n",
       "</div>"
      ],
      "text/plain": [
       "          Size    Weight  Sweetness  Crunchiness  Juiciness  Ripeness  \\\n",
       "3995  0.291729 -0.048594  -1.669449    -0.365345   0.614425  0.931482   \n",
       "3996  0.108878  1.834105   0.137124    -1.159058  -0.252634 -0.846326   \n",
       "3997 -1.105655 -0.716904  -1.013784    -0.234036   0.874379  2.275957   \n",
       "3998 -1.818112 -0.492908   1.459901    -0.845446   0.854549 -0.151419   \n",
       "3999  0.405409 -0.453071   0.304496    -1.525439   0.390954 -0.680212   \n",
       "\n",
       "       Acidity  \n",
       "3995  0.028866  \n",
       "3996  0.842347  \n",
       "3997 -0.668950  \n",
       "3998 -1.093171  \n",
       "3999  0.721761  "
      ]
     },
     "metadata": {},
     "output_type": "display_data"
    },
    {
     "data": {
      "text/plain": [
       "3995    0\n",
       "3996    1\n",
       "3997    0\n",
       "3998    1\n",
       "3999    1\n",
       "Name: Quality, dtype: int64"
      ]
     },
     "metadata": {},
     "output_type": "display_data"
    }
   ],
   "source": [
    "# original data\n",
    "X = apple_quality_cleaned.drop(\"Quality\", axis=1)\n",
    "y = apple_quality_cleaned[\"Quality\"]\n",
    "display(X.tail())\n",
    "display(y.tail())"
   ]
  },
  {
   "cell_type": "code",
   "execution_count": 28,
   "id": "6e1b78ed",
   "metadata": {
    "execution": {
     "iopub.execute_input": "2024-04-25T01:58:06.670591Z",
     "iopub.status.busy": "2024-04-25T01:58:06.670238Z",
     "iopub.status.idle": "2024-04-25T01:58:06.715564Z",
     "shell.execute_reply": "2024-04-25T01:58:06.714765Z"
    },
    "papermill": {
     "duration": 0.087032,
     "end_time": "2024-04-25T01:58:06.717660",
     "exception": false,
     "start_time": "2024-04-25T01:58:06.630628",
     "status": "completed"
    },
    "tags": []
   },
   "outputs": [],
   "source": [
    "scaler = MinMaxScaler(feature_range=(0, 1))\n",
    "X_scaled = pd.DataFrame(scaler.fit_transform(X), columns=X.columns)\n",
    "\n",
    "from imblearn.over_sampling import SMOTE\n",
    "smote = SMOTE(random_state=42)\n",
    "X_resampled, y_resampled = smote.fit_resample(X_scaled, y)"
   ]
  },
  {
   "cell_type": "markdown",
   "id": "2e5c98f3",
   "metadata": {
    "papermill": {
     "duration": 0.037997,
     "end_time": "2024-04-25T01:58:06.794584",
     "exception": false,
     "start_time": "2024-04-25T01:58:06.756587",
     "status": "completed"
    },
    "tags": []
   },
   "source": [
    "## Train Test Split Data"
   ]
  },
  {
   "cell_type": "markdown",
   "id": "66abda4e",
   "metadata": {
    "papermill": {
     "duration": 0.038215,
     "end_time": "2024-04-25T01:58:06.870826",
     "exception": false,
     "start_time": "2024-04-25T01:58:06.832611",
     "status": "completed"
    },
    "tags": []
   },
   "source": [
    "This code will create the train set and test set for the data without outliers"
   ]
  },
  {
   "cell_type": "code",
   "execution_count": 29,
   "id": "98af8ebd",
   "metadata": {
    "execution": {
     "iopub.execute_input": "2024-04-25T01:58:06.948484Z",
     "iopub.status.busy": "2024-04-25T01:58:06.947621Z",
     "iopub.status.idle": "2024-04-25T01:58:06.955096Z",
     "shell.execute_reply": "2024-04-25T01:58:06.954308Z"
    },
    "papermill": {
     "duration": 0.048113,
     "end_time": "2024-04-25T01:58:06.956928",
     "exception": false,
     "start_time": "2024-04-25T01:58:06.908815",
     "status": "completed"
    },
    "tags": []
   },
   "outputs": [],
   "source": [
    "# no outliers \n",
    "X_train_clean, X_test_clean, y_train_clean, y_test_clean = train_test_split(X_resampled_clean, y_resampled_clean, test_size=0.2, random_state=42)"
   ]
  },
  {
   "cell_type": "markdown",
   "id": "4cd2c3ed",
   "metadata": {
    "papermill": {
     "duration": 0.036857,
     "end_time": "2024-04-25T01:58:07.031369",
     "exception": false,
     "start_time": "2024-04-25T01:58:06.994512",
     "status": "completed"
    },
    "tags": []
   },
   "source": [
    "This code will create the train set and test set for the data scaled with Robust scaler"
   ]
  },
  {
   "cell_type": "code",
   "execution_count": 30,
   "id": "76d2247a",
   "metadata": {
    "execution": {
     "iopub.execute_input": "2024-04-25T01:58:07.110628Z",
     "iopub.status.busy": "2024-04-25T01:58:07.110040Z",
     "iopub.status.idle": "2024-04-25T01:58:07.117710Z",
     "shell.execute_reply": "2024-04-25T01:58:07.117013Z"
    },
    "papermill": {
     "duration": 0.047885,
     "end_time": "2024-04-25T01:58:07.119509",
     "exception": false,
     "start_time": "2024-04-25T01:58:07.071624",
     "status": "completed"
    },
    "tags": []
   },
   "outputs": [],
   "source": [
    "#original data\n",
    "X_train, X_test, y_train, y_test = train_test_split(X_resampled, y_resampled, test_size=0.2, random_state=42)"
   ]
  },
  {
   "cell_type": "markdown",
   "id": "9422f9b7",
   "metadata": {
    "papermill": {
     "duration": 0.037698,
     "end_time": "2024-04-25T01:58:07.194328",
     "exception": false,
     "start_time": "2024-04-25T01:58:07.156630",
     "status": "completed"
    },
    "tags": []
   },
   "source": [
    "## Custom Functions"
   ]
  },
  {
   "cell_type": "code",
   "execution_count": 31,
   "id": "df25f863",
   "metadata": {
    "execution": {
     "iopub.execute_input": "2024-04-25T01:58:07.270686Z",
     "iopub.status.busy": "2024-04-25T01:58:07.270382Z",
     "iopub.status.idle": "2024-04-25T01:58:07.276635Z",
     "shell.execute_reply": "2024-04-25T01:58:07.275825Z"
    },
    "papermill": {
     "duration": 0.047016,
     "end_time": "2024-04-25T01:58:07.278507",
     "exception": false,
     "start_time": "2024-04-25T01:58:07.231491",
     "status": "completed"
    },
    "tags": []
   },
   "outputs": [],
   "source": [
    "#This functions automates the calculation of the F1, Precision, Recall and Accuracy scores\n",
    "def test_model(y_test, y_pred, model_name=None):\n",
    "    \n",
    "    #if the model_name is ANN, then convert probability to binary label using a step function with threshold 0.5\n",
    "    if model_name == \"NN\":\n",
    "        y_pred = [1 if i >=0.5 else 0 for i in y_pred]\n",
    "    \n",
    "    # Evaluate the model's performance\n",
    "    accuracy = accuracy_score(y_test, y_pred)\n",
    "    print(\"\\nAccuracy:\", accuracy)\n",
    "\n",
    "    # Additional evaluation metrics\n",
    "    print(\"\\nClassification Report:\")\n",
    "    results = pd.DataFrame(classification_report(y_test, y_pred, output_dict = True)).T\n",
    "    display(results)\n",
    "\n",
    "    print(\"\\nConfusion Matrix:\")\n",
    "    print(confusion_matrix(y_test, y_pred))\n",
    "    \n",
    "    return results, accuracy"
   ]
  },
  {
   "cell_type": "code",
   "execution_count": 32,
   "id": "e2160f9c",
   "metadata": {
    "execution": {
     "iopub.execute_input": "2024-04-25T01:58:07.357740Z",
     "iopub.status.busy": "2024-04-25T01:58:07.356949Z",
     "iopub.status.idle": "2024-04-25T01:58:07.364192Z",
     "shell.execute_reply": "2024-04-25T01:58:07.363309Z"
    },
    "papermill": {
     "duration": 0.049544,
     "end_time": "2024-04-25T01:58:07.366173",
     "exception": false,
     "start_time": "2024-04-25T01:58:07.316629",
     "status": "completed"
    },
    "tags": []
   },
   "outputs": [],
   "source": [
    "#ROC-AUC calculation and plotting\n",
    "def ROC_AUC(y_pred_nn, y_test):\n",
    "    roc_auc = roc_auc_score(y_test, y_pred_nn)\n",
    "\n",
    "    print(\"ROC AUC:\", roc_auc) \n",
    "    fpr, tpr, thresholds = roc_curve(y_test, y_pred_nn)\n",
    "\n",
    "    roc_auc = auc(fpr, tpr)\n",
    "\n",
    "    plt.figure(figsize=(8, 6))\n",
    "    plt.plot(fpr, tpr, color='darkorange', lw=2, label=f'ROC curve (AUC = {roc_auc:.2f})')\n",
    "    plt.plot([0, 1], [0, 1], color='navy', lw=2, linestyle='--', label='Random')\n",
    "    plt.xlabel('False Positive Rate')\n",
    "    plt.ylabel('True Positive Rate')\n",
    "    plt.title('Receiver Operating Characteristic (ROC) Curve')\n",
    "    plt.legend(loc='lower right')\n",
    "    plt.show()"
   ]
  },
  {
   "cell_type": "markdown",
   "id": "426c415d",
   "metadata": {
    "papermill": {
     "duration": 0.037749,
     "end_time": "2024-04-25T01:58:07.442315",
     "exception": false,
     "start_time": "2024-04-25T01:58:07.404566",
     "status": "completed"
    },
    "tags": []
   },
   "source": [
    "# Model Training"
   ]
  },
  {
   "cell_type": "markdown",
   "id": "d7b7f992",
   "metadata": {
    "papermill": {
     "duration": 0.037446,
     "end_time": "2024-04-25T01:58:07.517260",
     "exception": false,
     "start_time": "2024-04-25T01:58:07.479814",
     "status": "completed"
    },
    "tags": []
   },
   "source": [
    "# <font color=\"red\">Nukman's Models</font>"
   ]
  },
  {
   "cell_type": "markdown",
   "id": "353807ac",
   "metadata": {
    "papermill": {
     "duration": 0.037751,
     "end_time": "2024-04-25T01:58:07.593280",
     "exception": false,
     "start_time": "2024-04-25T01:58:07.555529",
     "status": "completed"
    },
    "tags": []
   },
   "source": [
    "### <font color=\"red\">SVM,trained with data scaled with Robust Scaler</font>"
   ]
  },
  {
   "cell_type": "code",
   "execution_count": 33,
   "id": "d6514479",
   "metadata": {
    "execution": {
     "iopub.execute_input": "2024-04-25T01:58:07.671185Z",
     "iopub.status.busy": "2024-04-25T01:58:07.670477Z",
     "iopub.status.idle": "2024-04-25T01:58:58.730277Z",
     "shell.execute_reply": "2024-04-25T01:58:58.729107Z"
    },
    "papermill": {
     "duration": 51.139218,
     "end_time": "2024-04-25T01:58:58.770126",
     "exception": false,
     "start_time": "2024-04-25T01:58:07.630908",
     "status": "completed"
    },
    "tags": []
   },
   "outputs": [
    {
     "name": "stderr",
     "output_type": "stream",
     "text": [
      "/opt/conda/lib/python3.10/site-packages/scipy/__init__.py:146: UserWarning: A NumPy version >=1.16.5 and <1.23.0 is required for this version of SciPy (detected version 1.24.3\n",
      "  warnings.warn(f\"A NumPy version >={np_minversion} and <{np_maxversion}\"\n",
      "/opt/conda/lib/python3.10/site-packages/scipy/__init__.py:146: UserWarning: A NumPy version >=1.16.5 and <1.23.0 is required for this version of SciPy (detected version 1.24.3\n",
      "  warnings.warn(f\"A NumPy version >={np_minversion} and <{np_maxversion}\"\n",
      "/opt/conda/lib/python3.10/site-packages/scipy/__init__.py:146: UserWarning: A NumPy version >=1.16.5 and <1.23.0 is required for this version of SciPy (detected version 1.24.3\n",
      "  warnings.warn(f\"A NumPy version >={np_minversion} and <{np_maxversion}\"\n",
      "/opt/conda/lib/python3.10/site-packages/scipy/__init__.py:146: UserWarning: A NumPy version >=1.16.5 and <1.23.0 is required for this version of SciPy (detected version 1.24.3\n",
      "  warnings.warn(f\"A NumPy version >={np_minversion} and <{np_maxversion}\"\n"
     ]
    },
    {
     "name": "stdout",
     "output_type": "stream",
     "text": [
      "Best Hyperparameters: {'kernel': 'rbf', 'gamma': 'scale', 'C': 10}\n"
     ]
    }
   ],
   "source": [
    "#From Kaggle Notebook**\n",
    "SVM_param_grid = {\n",
    "    'C': [0.1, 1, 10, 100],\n",
    "    'kernel': ['linear', 'rbf', 'poly'],\n",
    "    'gamma': ['scale', 'auto', 0.1, 1],\n",
    "}\n",
    "\n",
    "svc = SVC()\n",
    "\n",
    "randomized_search = RandomizedSearchCV(svc, param_distributions=SVM_param_grid, n_iter=10, cv=5, scoring='accuracy', random_state=42, n_jobs=-1)\n",
    "\n",
    "randomized_search.fit(X_train, y_train)\n",
    "\n",
    "best_SVM_params = randomized_search.best_params_\n",
    "print(f\"Best Hyperparameters: {best_SVM_params}\")\n",
    "\n",
    "best_svc_model = randomized_search.best_estimator_\n",
    "y_pred_SVM = best_svc_model.predict(X_test)"
   ]
  },
  {
   "cell_type": "markdown",
   "id": "5dd2966c",
   "metadata": {
    "papermill": {
     "duration": 0.038288,
     "end_time": "2024-04-25T01:58:58.847232",
     "exception": false,
     "start_time": "2024-04-25T01:58:58.808944",
     "status": "completed"
    },
    "tags": []
   },
   "source": [
    "### <font color=\"red\">performance metrics</font>"
   ]
  },
  {
   "cell_type": "code",
   "execution_count": 34,
   "id": "3944014c",
   "metadata": {
    "execution": {
     "iopub.execute_input": "2024-04-25T01:58:58.927195Z",
     "iopub.status.busy": "2024-04-25T01:58:58.926259Z",
     "iopub.status.idle": "2024-04-25T01:58:58.957925Z",
     "shell.execute_reply": "2024-04-25T01:58:58.956798Z"
    },
    "papermill": {
     "duration": 0.074268,
     "end_time": "2024-04-25T01:58:58.959957",
     "exception": false,
     "start_time": "2024-04-25T01:58:58.885689",
     "status": "completed"
    },
    "tags": []
   },
   "outputs": [
    {
     "name": "stdout",
     "output_type": "stream",
     "text": [
      "\n",
      "Accuracy: 0.9152119700748129\n",
      "\n",
      "Classification Report:\n"
     ]
    },
    {
     "data": {
      "text/html": [
       "<div>\n",
       "<style scoped>\n",
       "    .dataframe tbody tr th:only-of-type {\n",
       "        vertical-align: middle;\n",
       "    }\n",
       "\n",
       "    .dataframe tbody tr th {\n",
       "        vertical-align: top;\n",
       "    }\n",
       "\n",
       "    .dataframe thead th {\n",
       "        text-align: right;\n",
       "    }\n",
       "</style>\n",
       "<table border=\"1\" class=\"dataframe\">\n",
       "  <thead>\n",
       "    <tr style=\"text-align: right;\">\n",
       "      <th></th>\n",
       "      <th>precision</th>\n",
       "      <th>recall</th>\n",
       "      <th>f1-score</th>\n",
       "      <th>support</th>\n",
       "    </tr>\n",
       "  </thead>\n",
       "  <tbody>\n",
       "    <tr>\n",
       "      <th>0</th>\n",
       "      <td>0.902500</td>\n",
       "      <td>0.925641</td>\n",
       "      <td>0.913924</td>\n",
       "      <td>390.000000</td>\n",
       "    </tr>\n",
       "    <tr>\n",
       "      <th>1</th>\n",
       "      <td>0.927861</td>\n",
       "      <td>0.905340</td>\n",
       "      <td>0.916462</td>\n",
       "      <td>412.000000</td>\n",
       "    </tr>\n",
       "    <tr>\n",
       "      <th>accuracy</th>\n",
       "      <td>0.915212</td>\n",
       "      <td>0.915212</td>\n",
       "      <td>0.915212</td>\n",
       "      <td>0.915212</td>\n",
       "    </tr>\n",
       "    <tr>\n",
       "      <th>macro avg</th>\n",
       "      <td>0.915180</td>\n",
       "      <td>0.915490</td>\n",
       "      <td>0.915193</td>\n",
       "      <td>802.000000</td>\n",
       "    </tr>\n",
       "    <tr>\n",
       "      <th>weighted avg</th>\n",
       "      <td>0.915528</td>\n",
       "      <td>0.915212</td>\n",
       "      <td>0.915228</td>\n",
       "      <td>802.000000</td>\n",
       "    </tr>\n",
       "  </tbody>\n",
       "</table>\n",
       "</div>"
      ],
      "text/plain": [
       "              precision    recall  f1-score     support\n",
       "0              0.902500  0.925641  0.913924  390.000000\n",
       "1              0.927861  0.905340  0.916462  412.000000\n",
       "accuracy       0.915212  0.915212  0.915212    0.915212\n",
       "macro avg      0.915180  0.915490  0.915193  802.000000\n",
       "weighted avg   0.915528  0.915212  0.915228  802.000000"
      ]
     },
     "metadata": {},
     "output_type": "display_data"
    },
    {
     "name": "stdout",
     "output_type": "stream",
     "text": [
      "\n",
      "Confusion Matrix:\n",
      "[[361  29]\n",
      " [ 39 373]]\n"
     ]
    }
   ],
   "source": [
    "SVM_results, SVM_accuracy = test_model(y_test, y_pred_SVM)"
   ]
  },
  {
   "cell_type": "markdown",
   "id": "168e1887",
   "metadata": {
    "papermill": {
     "duration": 0.037128,
     "end_time": "2024-04-25T01:58:59.035534",
     "exception": false,
     "start_time": "2024-04-25T01:58:58.998406",
     "status": "completed"
    },
    "tags": []
   },
   "source": [
    "### the accuracy of the SVM model matches the accuracy measured by Hakim; which ensures that the comparison is fair"
   ]
  },
  {
   "cell_type": "markdown",
   "id": "86aa8e33",
   "metadata": {
    "papermill": {
     "duration": 0.037556,
     "end_time": "2024-04-25T01:58:59.111867",
     "exception": false,
     "start_time": "2024-04-25T01:58:59.074311",
     "status": "completed"
    },
    "tags": []
   },
   "source": [
    "### <font color=\"red\">SVM, trained on data without outliers</font>"
   ]
  },
  {
   "cell_type": "code",
   "execution_count": 35,
   "id": "83dcb9b7",
   "metadata": {
    "execution": {
     "iopub.execute_input": "2024-04-25T01:58:59.188588Z",
     "iopub.status.busy": "2024-04-25T01:58:59.187694Z",
     "iopub.status.idle": "2024-04-25T01:59:07.496819Z",
     "shell.execute_reply": "2024-04-25T01:59:07.495787Z"
    },
    "papermill": {
     "duration": 8.349677,
     "end_time": "2024-04-25T01:59:07.499017",
     "exception": false,
     "start_time": "2024-04-25T01:58:59.149340",
     "status": "completed"
    },
    "tags": []
   },
   "outputs": [
    {
     "name": "stdout",
     "output_type": "stream",
     "text": [
      "Best Hyperparameters: {'kernel': 'rbf', 'gamma': 'scale', 'C': 10}\n"
     ]
    }
   ],
   "source": [
    "#From Kaggle Notebook**\n",
    "SVM_param_grid = {\n",
    "    'C': [0.1, 1, 10, 100],\n",
    "    'kernel': ['linear', 'rbf', 'poly'],\n",
    "    'gamma': ['scale', 'auto', 0.1, 1],\n",
    "}\n",
    "\n",
    "svc = SVC()\n",
    "\n",
    "randomized_search_clean = RandomizedSearchCV(svc, param_distributions=SVM_param_grid, n_iter=10, cv=5, scoring='accuracy', random_state=42, n_jobs=-1)\n",
    "\n",
    "randomized_search_clean.fit(X_train_clean, y_train_clean)\n",
    "\n",
    "best_SVM_params_clean = randomized_search_clean.best_params_\n",
    "print(f\"Best Hyperparameters: {best_SVM_params_clean}\")\n",
    "\n",
    "best_svc_model_clean = randomized_search_clean.best_estimator_\n",
    "y_pred_SVM_clean = best_svc_model_clean.predict(X_test_clean)"
   ]
  },
  {
   "cell_type": "markdown",
   "id": "b5df2bfc",
   "metadata": {
    "papermill": {
     "duration": 0.037942,
     "end_time": "2024-04-25T01:59:07.575872",
     "exception": false,
     "start_time": "2024-04-25T01:59:07.537930",
     "status": "completed"
    },
    "tags": []
   },
   "source": [
    "### <font color=\"red\">performance metrics</font>"
   ]
  },
  {
   "cell_type": "code",
   "execution_count": 36,
   "id": "bad1b0ac",
   "metadata": {
    "execution": {
     "iopub.execute_input": "2024-04-25T01:59:07.653485Z",
     "iopub.status.busy": "2024-04-25T01:59:07.653115Z",
     "iopub.status.idle": "2024-04-25T01:59:07.680385Z",
     "shell.execute_reply": "2024-04-25T01:59:07.679279Z"
    },
    "papermill": {
     "duration": 0.068812,
     "end_time": "2024-04-25T01:59:07.682537",
     "exception": false,
     "start_time": "2024-04-25T01:59:07.613725",
     "status": "completed"
    },
    "tags": []
   },
   "outputs": [
    {
     "name": "stdout",
     "output_type": "stream",
     "text": [
      "\n",
      "Accuracy: 0.8858218318695107\n",
      "\n",
      "Classification Report:\n"
     ]
    },
    {
     "data": {
      "text/html": [
       "<div>\n",
       "<style scoped>\n",
       "    .dataframe tbody tr th:only-of-type {\n",
       "        vertical-align: middle;\n",
       "    }\n",
       "\n",
       "    .dataframe tbody tr th {\n",
       "        vertical-align: top;\n",
       "    }\n",
       "\n",
       "    .dataframe thead th {\n",
       "        text-align: right;\n",
       "    }\n",
       "</style>\n",
       "<table border=\"1\" class=\"dataframe\">\n",
       "  <thead>\n",
       "    <tr style=\"text-align: right;\">\n",
       "      <th></th>\n",
       "      <th>precision</th>\n",
       "      <th>recall</th>\n",
       "      <th>f1-score</th>\n",
       "      <th>support</th>\n",
       "    </tr>\n",
       "  </thead>\n",
       "  <tbody>\n",
       "    <tr>\n",
       "      <th>0</th>\n",
       "      <td>0.872038</td>\n",
       "      <td>0.908642</td>\n",
       "      <td>0.889964</td>\n",
       "      <td>405.000000</td>\n",
       "    </tr>\n",
       "    <tr>\n",
       "      <th>1</th>\n",
       "      <td>0.901333</td>\n",
       "      <td>0.862245</td>\n",
       "      <td>0.881356</td>\n",
       "      <td>392.000000</td>\n",
       "    </tr>\n",
       "    <tr>\n",
       "      <th>accuracy</th>\n",
       "      <td>0.885822</td>\n",
       "      <td>0.885822</td>\n",
       "      <td>0.885822</td>\n",
       "      <td>0.885822</td>\n",
       "    </tr>\n",
       "    <tr>\n",
       "      <th>macro avg</th>\n",
       "      <td>0.886686</td>\n",
       "      <td>0.885443</td>\n",
       "      <td>0.885660</td>\n",
       "      <td>797.000000</td>\n",
       "    </tr>\n",
       "    <tr>\n",
       "      <th>weighted avg</th>\n",
       "      <td>0.886447</td>\n",
       "      <td>0.885822</td>\n",
       "      <td>0.885730</td>\n",
       "      <td>797.000000</td>\n",
       "    </tr>\n",
       "  </tbody>\n",
       "</table>\n",
       "</div>"
      ],
      "text/plain": [
       "              precision    recall  f1-score     support\n",
       "0              0.872038  0.908642  0.889964  405.000000\n",
       "1              0.901333  0.862245  0.881356  392.000000\n",
       "accuracy       0.885822  0.885822  0.885822    0.885822\n",
       "macro avg      0.886686  0.885443  0.885660  797.000000\n",
       "weighted avg   0.886447  0.885822  0.885730  797.000000"
      ]
     },
     "metadata": {},
     "output_type": "display_data"
    },
    {
     "name": "stdout",
     "output_type": "stream",
     "text": [
      "\n",
      "Confusion Matrix:\n",
      "[[368  37]\n",
      " [ 54 338]]\n"
     ]
    }
   ],
   "source": [
    "SVM_results_no_outl, SVM_accuracy_no_outl = test_model(y_test_clean, y_pred_SVM_clean)"
   ]
  },
  {
   "cell_type": "markdown",
   "id": "eebc253a",
   "metadata": {
    "papermill": {
     "duration": 0.038247,
     "end_time": "2024-04-25T01:59:07.761934",
     "exception": false,
     "start_time": "2024-04-25T01:59:07.723687",
     "status": "completed"
    },
    "tags": []
   },
   "source": [
    "### <font color=\"red\">Random Forest, trained on data scaled without outliers</font>"
   ]
  },
  {
   "cell_type": "code",
   "execution_count": 37,
   "id": "7a4b057b",
   "metadata": {
    "execution": {
     "iopub.execute_input": "2024-04-25T01:59:07.840091Z",
     "iopub.status.busy": "2024-04-25T01:59:07.839709Z",
     "iopub.status.idle": "2024-04-25T01:59:31.683762Z",
     "shell.execute_reply": "2024-04-25T01:59:31.682778Z"
    },
    "papermill": {
     "duration": 23.885768,
     "end_time": "2024-04-25T01:59:31.686006",
     "exception": false,
     "start_time": "2024-04-25T01:59:07.800238",
     "status": "completed"
    },
    "tags": []
   },
   "outputs": [
    {
     "name": "stdout",
     "output_type": "stream",
     "text": [
      "Best Hyperparameters for Random Forest: {'n_estimators': 300, 'min_samples_split': 5, 'min_samples_leaf': 1, 'max_depth': 30, 'criterion': 'entropy', 'bootstrap': True}\n"
     ]
    }
   ],
   "source": [
    "#From Kaggle Notebook**\n",
    "RF_normal_param_grid = {\n",
    "    'n_estimators': [50, 100, 200, 300],\n",
    "    'max_depth': [None, 10, 20, 30],\n",
    "    'min_samples_split': [2, 5, 10],\n",
    "    'min_samples_leaf': [1, 2, 4],\n",
    "    'bootstrap': [True, False],\n",
    "    'criterion': ['gini', 'entropy'],\n",
    "}\n",
    "\n",
    "RF_normal = RandomForestClassifier()\n",
    "\n",
    "randomized_search_RF = RandomizedSearchCV(\n",
    "    RF_normal,\n",
    "    param_distributions=RF_normal_param_grid,\n",
    "    n_iter=10,\n",
    "    cv=5,\n",
    "    scoring='accuracy',\n",
    "    random_state=42,\n",
    "    n_jobs=-1\n",
    ")\n",
    "\n",
    "randomized_search_RF.fit(X_train_clean, y_train_clean)\n",
    "\n",
    "best_RF_params_clean = randomized_search_RF.best_params_\n",
    "print(f\"Best Hyperparameters for Random Forest: {best_RF_params_clean}\")\n",
    "\n",
    "best_RF_model = randomized_search_RF.best_estimator_\n",
    "\n",
    "y_pred_RF_clean = best_RF_model.predict(X_test_clean)"
   ]
  },
  {
   "cell_type": "markdown",
   "id": "ba84030c",
   "metadata": {
    "papermill": {
     "duration": 0.038242,
     "end_time": "2024-04-25T01:59:31.763833",
     "exception": false,
     "start_time": "2024-04-25T01:59:31.725591",
     "status": "completed"
    },
    "tags": []
   },
   "source": [
    "### <font color=\"red\">performance metrics</font>"
   ]
  },
  {
   "cell_type": "code",
   "execution_count": 38,
   "id": "6b5fa177",
   "metadata": {
    "execution": {
     "iopub.execute_input": "2024-04-25T01:59:31.843720Z",
     "iopub.status.busy": "2024-04-25T01:59:31.843326Z",
     "iopub.status.idle": "2024-04-25T01:59:31.869146Z",
     "shell.execute_reply": "2024-04-25T01:59:31.867914Z"
    },
    "papermill": {
     "duration": 0.068818,
     "end_time": "2024-04-25T01:59:31.871074",
     "exception": false,
     "start_time": "2024-04-25T01:59:31.802256",
     "status": "completed"
    },
    "tags": []
   },
   "outputs": [
    {
     "name": "stdout",
     "output_type": "stream",
     "text": [
      "\n",
      "Accuracy: 0.875784190715182\n",
      "\n",
      "Classification Report:\n"
     ]
    },
    {
     "data": {
      "text/html": [
       "<div>\n",
       "<style scoped>\n",
       "    .dataframe tbody tr th:only-of-type {\n",
       "        vertical-align: middle;\n",
       "    }\n",
       "\n",
       "    .dataframe tbody tr th {\n",
       "        vertical-align: top;\n",
       "    }\n",
       "\n",
       "    .dataframe thead th {\n",
       "        text-align: right;\n",
       "    }\n",
       "</style>\n",
       "<table border=\"1\" class=\"dataframe\">\n",
       "  <thead>\n",
       "    <tr style=\"text-align: right;\">\n",
       "      <th></th>\n",
       "      <th>precision</th>\n",
       "      <th>recall</th>\n",
       "      <th>f1-score</th>\n",
       "      <th>support</th>\n",
       "    </tr>\n",
       "  </thead>\n",
       "  <tbody>\n",
       "    <tr>\n",
       "      <th>0</th>\n",
       "      <td>0.882500</td>\n",
       "      <td>0.871605</td>\n",
       "      <td>0.877019</td>\n",
       "      <td>405.000000</td>\n",
       "    </tr>\n",
       "    <tr>\n",
       "      <th>1</th>\n",
       "      <td>0.869018</td>\n",
       "      <td>0.880102</td>\n",
       "      <td>0.874525</td>\n",
       "      <td>392.000000</td>\n",
       "    </tr>\n",
       "    <tr>\n",
       "      <th>accuracy</th>\n",
       "      <td>0.875784</td>\n",
       "      <td>0.875784</td>\n",
       "      <td>0.875784</td>\n",
       "      <td>0.875784</td>\n",
       "    </tr>\n",
       "    <tr>\n",
       "      <th>macro avg</th>\n",
       "      <td>0.875759</td>\n",
       "      <td>0.875853</td>\n",
       "      <td>0.875772</td>\n",
       "      <td>797.000000</td>\n",
       "    </tr>\n",
       "    <tr>\n",
       "      <th>weighted avg</th>\n",
       "      <td>0.875869</td>\n",
       "      <td>0.875784</td>\n",
       "      <td>0.875792</td>\n",
       "      <td>797.000000</td>\n",
       "    </tr>\n",
       "  </tbody>\n",
       "</table>\n",
       "</div>"
      ],
      "text/plain": [
       "              precision    recall  f1-score     support\n",
       "0              0.882500  0.871605  0.877019  405.000000\n",
       "1              0.869018  0.880102  0.874525  392.000000\n",
       "accuracy       0.875784  0.875784  0.875784    0.875784\n",
       "macro avg      0.875759  0.875853  0.875772  797.000000\n",
       "weighted avg   0.875869  0.875784  0.875792  797.000000"
      ]
     },
     "metadata": {},
     "output_type": "display_data"
    },
    {
     "name": "stdout",
     "output_type": "stream",
     "text": [
      "\n",
      "Confusion Matrix:\n",
      "[[353  52]\n",
      " [ 47 345]]\n"
     ]
    }
   ],
   "source": [
    "RF_results_no_outl, RF_accuracy_no_outl = test_model(y_test_clean, y_pred_RF_clean)"
   ]
  },
  {
   "cell_type": "markdown",
   "id": "e01b0168",
   "metadata": {
    "papermill": {
     "duration": 0.040026,
     "end_time": "2024-04-25T01:59:31.950698",
     "exception": false,
     "start_time": "2024-04-25T01:59:31.910672",
     "status": "completed"
    },
    "tags": []
   },
   "source": [
    "### <font color=\"red\">Random Forest, trained with data scaled with Robust Scaler</font>"
   ]
  },
  {
   "cell_type": "code",
   "execution_count": 39,
   "id": "bd8a6715",
   "metadata": {
    "execution": {
     "iopub.execute_input": "2024-04-25T01:59:32.032395Z",
     "iopub.status.busy": "2024-04-25T01:59:32.032031Z",
     "iopub.status.idle": "2024-04-25T01:59:55.592826Z",
     "shell.execute_reply": "2024-04-25T01:59:55.591749Z"
    },
    "papermill": {
     "duration": 23.605314,
     "end_time": "2024-04-25T01:59:55.595082",
     "exception": false,
     "start_time": "2024-04-25T01:59:31.989768",
     "status": "completed"
    },
    "tags": []
   },
   "outputs": [
    {
     "name": "stdout",
     "output_type": "stream",
     "text": [
      "Best Hyperparameters for Random Forest: {'n_estimators': 200, 'min_samples_split': 5, 'min_samples_leaf': 1, 'max_depth': 30, 'criterion': 'gini', 'bootstrap': False}\n"
     ]
    }
   ],
   "source": [
    "#From Kaggle Notebook**\n",
    "RF_normal_param_grid = {\n",
    "    'n_estimators': [50, 100, 200, 300],\n",
    "    'max_depth': [None, 10, 20, 30],\n",
    "    'min_samples_split': [2, 5, 10],\n",
    "    'min_samples_leaf': [1, 2, 4],\n",
    "    'bootstrap': [True, False],\n",
    "    'criterion': ['gini', 'entropy'],\n",
    "}\n",
    "\n",
    "RF_normal = RandomForestClassifier()\n",
    "\n",
    "randomized_search_RF = RandomizedSearchCV(\n",
    "    RF_normal,\n",
    "    param_distributions=RF_normal_param_grid,\n",
    "    n_iter=10,\n",
    "    cv=5,\n",
    "    scoring='accuracy',\n",
    "    random_state=42,\n",
    "    n_jobs=-1\n",
    ")\n",
    "\n",
    "randomized_search_RF.fit(X_train, y_train)\n",
    "\n",
    "best_RF_params = randomized_search_RF.best_params_\n",
    "print(f\"Best Hyperparameters for Random Forest: {best_RF_params}\")\n",
    "\n",
    "best_RF_model = randomized_search_RF.best_estimator_\n",
    "\n",
    "y_pred_RF = best_RF_model.predict(X_test)\n",
    "svc_acc_score = accuracy_score(y_test, y_pred_RF)"
   ]
  },
  {
   "cell_type": "markdown",
   "id": "2c48892c",
   "metadata": {
    "papermill": {
     "duration": 0.038702,
     "end_time": "2024-04-25T01:59:55.675621",
     "exception": false,
     "start_time": "2024-04-25T01:59:55.636919",
     "status": "completed"
    },
    "tags": []
   },
   "source": [
    "## <font color=\"red\">performance metrics</font>"
   ]
  },
  {
   "cell_type": "code",
   "execution_count": 40,
   "id": "d089ef35",
   "metadata": {
    "execution": {
     "iopub.execute_input": "2024-04-25T01:59:55.755858Z",
     "iopub.status.busy": "2024-04-25T01:59:55.755487Z",
     "iopub.status.idle": "2024-04-25T01:59:55.779728Z",
     "shell.execute_reply": "2024-04-25T01:59:55.778693Z"
    },
    "papermill": {
     "duration": 0.066971,
     "end_time": "2024-04-25T01:59:55.781674",
     "exception": false,
     "start_time": "2024-04-25T01:59:55.714703",
     "status": "completed"
    },
    "tags": []
   },
   "outputs": [
    {
     "name": "stdout",
     "output_type": "stream",
     "text": [
      "\n",
      "Accuracy: 0.8902743142144638\n",
      "\n",
      "Classification Report:\n"
     ]
    },
    {
     "data": {
      "text/html": [
       "<div>\n",
       "<style scoped>\n",
       "    .dataframe tbody tr th:only-of-type {\n",
       "        vertical-align: middle;\n",
       "    }\n",
       "\n",
       "    .dataframe tbody tr th {\n",
       "        vertical-align: top;\n",
       "    }\n",
       "\n",
       "    .dataframe thead th {\n",
       "        text-align: right;\n",
       "    }\n",
       "</style>\n",
       "<table border=\"1\" class=\"dataframe\">\n",
       "  <thead>\n",
       "    <tr style=\"text-align: right;\">\n",
       "      <th></th>\n",
       "      <th>precision</th>\n",
       "      <th>recall</th>\n",
       "      <th>f1-score</th>\n",
       "      <th>support</th>\n",
       "    </tr>\n",
       "  </thead>\n",
       "  <tbody>\n",
       "    <tr>\n",
       "      <th>0</th>\n",
       "      <td>0.887179</td>\n",
       "      <td>0.887179</td>\n",
       "      <td>0.887179</td>\n",
       "      <td>390.000000</td>\n",
       "    </tr>\n",
       "    <tr>\n",
       "      <th>1</th>\n",
       "      <td>0.893204</td>\n",
       "      <td>0.893204</td>\n",
       "      <td>0.893204</td>\n",
       "      <td>412.000000</td>\n",
       "    </tr>\n",
       "    <tr>\n",
       "      <th>accuracy</th>\n",
       "      <td>0.890274</td>\n",
       "      <td>0.890274</td>\n",
       "      <td>0.890274</td>\n",
       "      <td>0.890274</td>\n",
       "    </tr>\n",
       "    <tr>\n",
       "      <th>macro avg</th>\n",
       "      <td>0.890192</td>\n",
       "      <td>0.890192</td>\n",
       "      <td>0.890192</td>\n",
       "      <td>802.000000</td>\n",
       "    </tr>\n",
       "    <tr>\n",
       "      <th>weighted avg</th>\n",
       "      <td>0.890274</td>\n",
       "      <td>0.890274</td>\n",
       "      <td>0.890274</td>\n",
       "      <td>802.000000</td>\n",
       "    </tr>\n",
       "  </tbody>\n",
       "</table>\n",
       "</div>"
      ],
      "text/plain": [
       "              precision    recall  f1-score     support\n",
       "0              0.887179  0.887179  0.887179  390.000000\n",
       "1              0.893204  0.893204  0.893204  412.000000\n",
       "accuracy       0.890274  0.890274  0.890274    0.890274\n",
       "macro avg      0.890192  0.890192  0.890192  802.000000\n",
       "weighted avg   0.890274  0.890274  0.890274  802.000000"
      ]
     },
     "metadata": {},
     "output_type": "display_data"
    },
    {
     "name": "stdout",
     "output_type": "stream",
     "text": [
      "\n",
      "Confusion Matrix:\n",
      "[[346  44]\n",
      " [ 44 368]]\n"
     ]
    }
   ],
   "source": [
    "RF_results, RF_accuracy = test_model(y_test, y_pred_RF)"
   ]
  },
  {
   "cell_type": "markdown",
   "id": "449ba861",
   "metadata": {
    "papermill": {
     "duration": 0.039908,
     "end_time": "2024-04-25T01:59:55.860970",
     "exception": false,
     "start_time": "2024-04-25T01:59:55.821062",
     "status": "completed"
    },
    "tags": []
   },
   "source": [
    "## <font color=\"red\">KNN trained on data without outliers</font>"
   ]
  },
  {
   "cell_type": "code",
   "execution_count": 41,
   "id": "892aef3e",
   "metadata": {
    "execution": {
     "iopub.execute_input": "2024-04-25T01:59:55.941972Z",
     "iopub.status.busy": "2024-04-25T01:59:55.941129Z",
     "iopub.status.idle": "2024-04-25T01:59:56.809488Z",
     "shell.execute_reply": "2024-04-25T01:59:56.808149Z"
    },
    "papermill": {
     "duration": 0.910678,
     "end_time": "2024-04-25T01:59:56.811541",
     "exception": false,
     "start_time": "2024-04-25T01:59:55.900863",
     "status": "completed"
    },
    "tags": []
   },
   "outputs": [
    {
     "name": "stdout",
     "output_type": "stream",
     "text": [
      "Best Hyperparameters for KNeighborsClassifier: {'weights': 'distance', 'p': 2, 'n_neighbors': 10, 'leaf_size': 10, 'algorithm': 'ball_tree'}\n"
     ]
    }
   ],
   "source": [
    "#From Kaggle Notebook**\n",
    "# Define a grid of hyperparameters to search\n",
    "knn_param_grid = {\n",
    "    'n_neighbors': [3, 5, 7, 10],\n",
    "    'weights': ['uniform', 'distance'],\n",
    "    'algorithm': ['auto', 'ball_tree', 'kd_tree', 'brute'],\n",
    "    'leaf_size': [10, 20, 30, 40],\n",
    "    'p': [1, 2],\n",
    "}\n",
    "\n",
    "knn = KNeighborsClassifier()\n",
    "\n",
    "randomized_search_knn_clean = RandomizedSearchCV(\n",
    "    knn,\n",
    "    param_distributions=knn_param_grid,\n",
    "    n_iter=10,\n",
    "    cv=5,\n",
    "    scoring='accuracy',\n",
    "    random_state=42,\n",
    "    n_jobs=-1\n",
    ")\n",
    "\n",
    "randomized_search_knn_clean.fit(X_train_clean, y_train_clean)\n",
    "\n",
    "best_KNN_params_clean = randomized_search_knn_clean.best_params_\n",
    "print(f\"Best Hyperparameters for KNeighborsClassifier: {best_KNN_params_clean}\")\n",
    "\n",
    "best_knn_model_clean = randomized_search_knn_clean.best_estimator_\n",
    "\n",
    "y_pred_KNN_clean = best_knn_model_clean.predict(X_test_clean)"
   ]
  },
  {
   "cell_type": "markdown",
   "id": "273f2f98",
   "metadata": {
    "papermill": {
     "duration": 0.039937,
     "end_time": "2024-04-25T01:59:56.891278",
     "exception": false,
     "start_time": "2024-04-25T01:59:56.851341",
     "status": "completed"
    },
    "tags": []
   },
   "source": [
    "## <font color=\"red\">performance metrics</font>"
   ]
  },
  {
   "cell_type": "code",
   "execution_count": 42,
   "id": "a8e175cc",
   "metadata": {
    "execution": {
     "iopub.execute_input": "2024-04-25T01:59:56.971786Z",
     "iopub.status.busy": "2024-04-25T01:59:56.971099Z",
     "iopub.status.idle": "2024-04-25T01:59:56.995155Z",
     "shell.execute_reply": "2024-04-25T01:59:56.994103Z"
    },
    "papermill": {
     "duration": 0.066512,
     "end_time": "2024-04-25T01:59:56.997046",
     "exception": false,
     "start_time": "2024-04-25T01:59:56.930534",
     "status": "completed"
    },
    "tags": []
   },
   "outputs": [
    {
     "name": "stdout",
     "output_type": "stream",
     "text": [
      "\n",
      "Accuracy: 0.875784190715182\n",
      "\n",
      "Classification Report:\n"
     ]
    },
    {
     "data": {
      "text/html": [
       "<div>\n",
       "<style scoped>\n",
       "    .dataframe tbody tr th:only-of-type {\n",
       "        vertical-align: middle;\n",
       "    }\n",
       "\n",
       "    .dataframe tbody tr th {\n",
       "        vertical-align: top;\n",
       "    }\n",
       "\n",
       "    .dataframe thead th {\n",
       "        text-align: right;\n",
       "    }\n",
       "</style>\n",
       "<table border=\"1\" class=\"dataframe\">\n",
       "  <thead>\n",
       "    <tr style=\"text-align: right;\">\n",
       "      <th></th>\n",
       "      <th>precision</th>\n",
       "      <th>recall</th>\n",
       "      <th>f1-score</th>\n",
       "      <th>support</th>\n",
       "    </tr>\n",
       "  </thead>\n",
       "  <tbody>\n",
       "    <tr>\n",
       "      <th>0</th>\n",
       "      <td>0.873171</td>\n",
       "      <td>0.883951</td>\n",
       "      <td>0.878528</td>\n",
       "      <td>405.000000</td>\n",
       "    </tr>\n",
       "    <tr>\n",
       "      <th>1</th>\n",
       "      <td>0.878553</td>\n",
       "      <td>0.867347</td>\n",
       "      <td>0.872914</td>\n",
       "      <td>392.000000</td>\n",
       "    </tr>\n",
       "    <tr>\n",
       "      <th>accuracy</th>\n",
       "      <td>0.875784</td>\n",
       "      <td>0.875784</td>\n",
       "      <td>0.875784</td>\n",
       "      <td>0.875784</td>\n",
       "    </tr>\n",
       "    <tr>\n",
       "      <th>macro avg</th>\n",
       "      <td>0.875862</td>\n",
       "      <td>0.875649</td>\n",
       "      <td>0.875721</td>\n",
       "      <td>797.000000</td>\n",
       "    </tr>\n",
       "    <tr>\n",
       "      <th>weighted avg</th>\n",
       "      <td>0.875818</td>\n",
       "      <td>0.875784</td>\n",
       "      <td>0.875767</td>\n",
       "      <td>797.000000</td>\n",
       "    </tr>\n",
       "  </tbody>\n",
       "</table>\n",
       "</div>"
      ],
      "text/plain": [
       "              precision    recall  f1-score     support\n",
       "0              0.873171  0.883951  0.878528  405.000000\n",
       "1              0.878553  0.867347  0.872914  392.000000\n",
       "accuracy       0.875784  0.875784  0.875784    0.875784\n",
       "macro avg      0.875862  0.875649  0.875721  797.000000\n",
       "weighted avg   0.875818  0.875784  0.875767  797.000000"
      ]
     },
     "metadata": {},
     "output_type": "display_data"
    },
    {
     "name": "stdout",
     "output_type": "stream",
     "text": [
      "\n",
      "Confusion Matrix:\n",
      "[[358  47]\n",
      " [ 52 340]]\n"
     ]
    }
   ],
   "source": [
    "KNN_results_no_outl, KNN_accuracy_no_outl = test_model(y_test_clean, y_pred_KNN_clean)"
   ]
  },
  {
   "cell_type": "markdown",
   "id": "87deabe5",
   "metadata": {
    "papermill": {
     "duration": 0.040414,
     "end_time": "2024-04-25T01:59:57.077985",
     "exception": false,
     "start_time": "2024-04-25T01:59:57.037571",
     "status": "completed"
    },
    "tags": []
   },
   "source": [
    "## <font color=\"red\">KNN trained on data scaled with Robust Scaler</font>"
   ]
  },
  {
   "cell_type": "code",
   "execution_count": 43,
   "id": "d3b08800",
   "metadata": {
    "execution": {
     "iopub.execute_input": "2024-04-25T01:59:57.160343Z",
     "iopub.status.busy": "2024-04-25T01:59:57.159539Z",
     "iopub.status.idle": "2024-04-25T01:59:57.987510Z",
     "shell.execute_reply": "2024-04-25T01:59:57.986650Z"
    },
    "papermill": {
     "duration": 0.871757,
     "end_time": "2024-04-25T01:59:57.989699",
     "exception": false,
     "start_time": "2024-04-25T01:59:57.117942",
     "status": "completed"
    },
    "tags": []
   },
   "outputs": [
    {
     "name": "stdout",
     "output_type": "stream",
     "text": [
      "Best Hyperparameters for KNeighborsClassifier: {'weights': 'distance', 'p': 2, 'n_neighbors': 5, 'leaf_size': 30, 'algorithm': 'kd_tree'}\n"
     ]
    }
   ],
   "source": [
    "#From Kaggle Notebook**\n",
    "# Define a grid of hyperparameters to search\n",
    "knn_param_grid = {\n",
    "    'n_neighbors': [3, 5, 7, 10],\n",
    "    'weights': ['uniform', 'distance'],\n",
    "    'algorithm': ['auto', 'ball_tree', 'kd_tree', 'brute'],\n",
    "    'leaf_size': [10, 20, 30, 40],\n",
    "    'p': [1, 2],\n",
    "}\n",
    "\n",
    "knn = KNeighborsClassifier()\n",
    "\n",
    "randomized_search_knn = RandomizedSearchCV(\n",
    "    knn,\n",
    "    param_distributions=knn_param_grid,\n",
    "    n_iter=10,\n",
    "    cv=5,\n",
    "    scoring='accuracy',\n",
    "    random_state=42,\n",
    "    n_jobs=-1\n",
    ")\n",
    "\n",
    "randomized_search_knn.fit(X_train, y_train)\n",
    "\n",
    "best_KNN_params = randomized_search_knn.best_params_\n",
    "print(f\"Best Hyperparameters for KNeighborsClassifier: {best_KNN_params}\")\n",
    "\n",
    "best_knn_model = randomized_search_knn.best_estimator_\n",
    "\n",
    "y_pred_KNN = best_knn_model.predict(X_test)"
   ]
  },
  {
   "cell_type": "markdown",
   "id": "7e001355",
   "metadata": {
    "papermill": {
     "duration": 0.039613,
     "end_time": "2024-04-25T01:59:58.069850",
     "exception": false,
     "start_time": "2024-04-25T01:59:58.030237",
     "status": "completed"
    },
    "tags": []
   },
   "source": [
    "## <font color=\"red\">performance metrics</font>"
   ]
  },
  {
   "cell_type": "code",
   "execution_count": 44,
   "id": "ef515004",
   "metadata": {
    "execution": {
     "iopub.execute_input": "2024-04-25T01:59:58.155031Z",
     "iopub.status.busy": "2024-04-25T01:59:58.154652Z",
     "iopub.status.idle": "2024-04-25T01:59:58.179666Z",
     "shell.execute_reply": "2024-04-25T01:59:58.178628Z"
    },
    "papermill": {
     "duration": 0.071268,
     "end_time": "2024-04-25T01:59:58.181608",
     "exception": false,
     "start_time": "2024-04-25T01:59:58.110340",
     "status": "completed"
    },
    "tags": []
   },
   "outputs": [
    {
     "name": "stdout",
     "output_type": "stream",
     "text": [
      "\n",
      "Accuracy: 0.8890274314214464\n",
      "\n",
      "Classification Report:\n"
     ]
    },
    {
     "data": {
      "text/html": [
       "<div>\n",
       "<style scoped>\n",
       "    .dataframe tbody tr th:only-of-type {\n",
       "        vertical-align: middle;\n",
       "    }\n",
       "\n",
       "    .dataframe tbody tr th {\n",
       "        vertical-align: top;\n",
       "    }\n",
       "\n",
       "    .dataframe thead th {\n",
       "        text-align: right;\n",
       "    }\n",
       "</style>\n",
       "<table border=\"1\" class=\"dataframe\">\n",
       "  <thead>\n",
       "    <tr style=\"text-align: right;\">\n",
       "      <th></th>\n",
       "      <th>precision</th>\n",
       "      <th>recall</th>\n",
       "      <th>f1-score</th>\n",
       "      <th>support</th>\n",
       "    </tr>\n",
       "  </thead>\n",
       "  <tbody>\n",
       "    <tr>\n",
       "      <th>0</th>\n",
       "      <td>0.881013</td>\n",
       "      <td>0.892308</td>\n",
       "      <td>0.886624</td>\n",
       "      <td>390.000000</td>\n",
       "    </tr>\n",
       "    <tr>\n",
       "      <th>1</th>\n",
       "      <td>0.896806</td>\n",
       "      <td>0.885922</td>\n",
       "      <td>0.891331</td>\n",
       "      <td>412.000000</td>\n",
       "    </tr>\n",
       "    <tr>\n",
       "      <th>accuracy</th>\n",
       "      <td>0.889027</td>\n",
       "      <td>0.889027</td>\n",
       "      <td>0.889027</td>\n",
       "      <td>0.889027</td>\n",
       "    </tr>\n",
       "    <tr>\n",
       "      <th>macro avg</th>\n",
       "      <td>0.888909</td>\n",
       "      <td>0.889115</td>\n",
       "      <td>0.888978</td>\n",
       "      <td>802.000000</td>\n",
       "    </tr>\n",
       "    <tr>\n",
       "      <th>weighted avg</th>\n",
       "      <td>0.889126</td>\n",
       "      <td>0.889027</td>\n",
       "      <td>0.889042</td>\n",
       "      <td>802.000000</td>\n",
       "    </tr>\n",
       "  </tbody>\n",
       "</table>\n",
       "</div>"
      ],
      "text/plain": [
       "              precision    recall  f1-score     support\n",
       "0              0.881013  0.892308  0.886624  390.000000\n",
       "1              0.896806  0.885922  0.891331  412.000000\n",
       "accuracy       0.889027  0.889027  0.889027    0.889027\n",
       "macro avg      0.888909  0.889115  0.888978  802.000000\n",
       "weighted avg   0.889126  0.889027  0.889042  802.000000"
      ]
     },
     "metadata": {},
     "output_type": "display_data"
    },
    {
     "name": "stdout",
     "output_type": "stream",
     "text": [
      "\n",
      "Confusion Matrix:\n",
      "[[348  42]\n",
      " [ 47 365]]\n"
     ]
    }
   ],
   "source": [
    "KNN_results, KNN_accuracy = test_model(y_test, y_pred_KNN)"
   ]
  },
  {
   "cell_type": "markdown",
   "id": "29a59dcc",
   "metadata": {
    "papermill": {
     "duration": 0.039841,
     "end_time": "2024-04-25T01:59:58.262410",
     "exception": false,
     "start_time": "2024-04-25T01:59:58.222569",
     "status": "completed"
    },
    "tags": []
   },
   "source": [
    "# <font color=\"green\">Our Models</font>"
   ]
  },
  {
   "cell_type": "markdown",
   "id": "0da9da33",
   "metadata": {
    "papermill": {
     "duration": 0.040966,
     "end_time": "2024-04-25T01:59:58.342991",
     "exception": false,
     "start_time": "2024-04-25T01:59:58.302025",
     "status": "completed"
    },
    "tags": []
   },
   "source": [
    "We chose to add three additional models: \n",
    "- Logistic Regression : was selected for its simplicity and capacity to offer probabilistic predictions in classification tasks\n",
    "- AdaBoost was chosen for its ensemble learning technique, which leverages multiple weak classifiers to construct a robust learner\n",
    "- The Artificial Neural Network (ANN) was preferred due to its adaptability and capability to discern complex patterns in data via deep learning, rendering it well-suited for highly nonlinear and high-dimensional classification tasks where conventional methods may struggle to achieve effective generalization. "
   ]
  },
  {
   "cell_type": "markdown",
   "id": "340e47cd",
   "metadata": {
    "papermill": {
     "duration": 0.039893,
     "end_time": "2024-04-25T01:59:58.423385",
     "exception": false,
     "start_time": "2024-04-25T01:59:58.383492",
     "status": "completed"
    },
    "tags": []
   },
   "source": [
    "## <font color=\"green\">Neural Network, trained on data scaled with Robust Scaler</font>"
   ]
  },
  {
   "cell_type": "markdown",
   "id": "ec29f314",
   "metadata": {
    "papermill": {
     "duration": 0.039736,
     "end_time": "2024-04-25T01:59:58.503329",
     "exception": false,
     "start_time": "2024-04-25T01:59:58.463593",
     "status": "completed"
    },
    "tags": []
   },
   "source": [
    "Talking Points\n",
    "- Neural network model architecture defined using Keras Sequential API.\n",
    "- The model consists of multiple dense layers with ReLU activation and dropout regularization.\n",
    "- Dropout layers with a dropout rate of 0.5 are used to prevent overfitting.\n",
    "- The output layer has a single neuron with sigmoid activation for binary classification.\n",
    "- Model compiled with the Adam optimizer and binary cross-entropy loss.\n",
    "- Training data fit to the model with a batch size of 16 and 100 epochs, with 20% of the training data used for validation.\n",
    "- Training and validation loss curves plotted to visualize model performance during training.\n",
    "- Model evaluated on both training and testing data to assess loss and accuracy.\n",
    "- Finally, the model's predictions are evaluated using the `test_model` function, and the results are stored in `NN_results` and `NN_accuracy`."
   ]
  },
  {
   "cell_type": "code",
   "execution_count": 45,
   "id": "93000dcc",
   "metadata": {
    "execution": {
     "iopub.execute_input": "2024-04-25T01:59:58.585594Z",
     "iopub.status.busy": "2024-04-25T01:59:58.585246Z",
     "iopub.status.idle": "2024-04-25T02:01:10.279890Z",
     "shell.execute_reply": "2024-04-25T02:01:10.278711Z"
    },
    "papermill": {
     "duration": 71.738762,
     "end_time": "2024-04-25T02:01:10.281995",
     "exception": false,
     "start_time": "2024-04-25T01:59:58.543233",
     "status": "completed"
    },
    "scrolled": true,
    "tags": []
   },
   "outputs": [
    {
     "name": "stdout",
     "output_type": "stream",
     "text": [
      "Epoch 1/100\n",
      "161/161 [==============================] - 5s 5ms/step - loss: 0.6952 - accuracy: 0.5023 - val_loss: 0.6887 - val_accuracy: 0.5888\n",
      "Epoch 2/100\n",
      "161/161 [==============================] - 1s 4ms/step - loss: 0.6888 - accuracy: 0.5351 - val_loss: 0.6826 - val_accuracy: 0.5919\n",
      "Epoch 3/100\n",
      "161/161 [==============================] - 1s 4ms/step - loss: 0.6722 - accuracy: 0.6002 - val_loss: 0.6426 - val_accuracy: 0.6760\n",
      "Epoch 4/100\n",
      "161/161 [==============================] - 1s 4ms/step - loss: 0.6300 - accuracy: 0.6607 - val_loss: 0.5656 - val_accuracy: 0.6978\n",
      "Epoch 5/100\n",
      "161/161 [==============================] - 1s 4ms/step - loss: 0.6017 - accuracy: 0.6817 - val_loss: 0.5448 - val_accuracy: 0.7259\n",
      "Epoch 6/100\n",
      "161/161 [==============================] - 1s 4ms/step - loss: 0.5541 - accuracy: 0.7344 - val_loss: 0.4950 - val_accuracy: 0.7570\n",
      "Epoch 7/100\n",
      "161/161 [==============================] - 1s 4ms/step - loss: 0.5344 - accuracy: 0.7371 - val_loss: 0.4688 - val_accuracy: 0.7695\n",
      "Epoch 8/100\n",
      "161/161 [==============================] - 1s 5ms/step - loss: 0.5044 - accuracy: 0.7535 - val_loss: 0.4422 - val_accuracy: 0.7882\n",
      "Epoch 9/100\n",
      "161/161 [==============================] - 1s 5ms/step - loss: 0.4909 - accuracy: 0.7679 - val_loss: 0.4212 - val_accuracy: 0.8069\n",
      "Epoch 10/100\n",
      "161/161 [==============================] - 1s 4ms/step - loss: 0.4711 - accuracy: 0.7773 - val_loss: 0.4232 - val_accuracy: 0.7960\n",
      "Epoch 11/100\n",
      "161/161 [==============================] - 1s 4ms/step - loss: 0.4567 - accuracy: 0.7964 - val_loss: 0.4527 - val_accuracy: 0.7788\n",
      "Epoch 12/100\n",
      "161/161 [==============================] - 1s 4ms/step - loss: 0.4612 - accuracy: 0.7835 - val_loss: 0.3931 - val_accuracy: 0.8100\n",
      "Epoch 13/100\n",
      "161/161 [==============================] - 1s 4ms/step - loss: 0.4476 - accuracy: 0.7956 - val_loss: 0.3666 - val_accuracy: 0.8364\n",
      "Epoch 14/100\n",
      "161/161 [==============================] - 1s 4ms/step - loss: 0.4454 - accuracy: 0.7995 - val_loss: 0.3813 - val_accuracy: 0.8162\n",
      "Epoch 15/100\n",
      "161/161 [==============================] - 1s 4ms/step - loss: 0.4326 - accuracy: 0.8007 - val_loss: 0.3667 - val_accuracy: 0.8380\n",
      "Epoch 16/100\n",
      "161/161 [==============================] - 1s 4ms/step - loss: 0.4216 - accuracy: 0.8027 - val_loss: 0.3505 - val_accuracy: 0.8333\n",
      "Epoch 17/100\n",
      "161/161 [==============================] - 1s 4ms/step - loss: 0.4111 - accuracy: 0.8112 - val_loss: 0.3487 - val_accuracy: 0.8442\n",
      "Epoch 18/100\n",
      "161/161 [==============================] - 1s 4ms/step - loss: 0.4133 - accuracy: 0.8151 - val_loss: 0.3642 - val_accuracy: 0.8193\n",
      "Epoch 19/100\n",
      "161/161 [==============================] - 1s 4ms/step - loss: 0.4019 - accuracy: 0.8128 - val_loss: 0.3642 - val_accuracy: 0.8333\n",
      "Epoch 20/100\n",
      "161/161 [==============================] - 1s 4ms/step - loss: 0.4137 - accuracy: 0.8054 - val_loss: 0.3820 - val_accuracy: 0.8209\n",
      "Epoch 21/100\n",
      "161/161 [==============================] - 1s 4ms/step - loss: 0.3954 - accuracy: 0.8120 - val_loss: 0.3151 - val_accuracy: 0.8442\n",
      "Epoch 22/100\n",
      "161/161 [==============================] - 1s 4ms/step - loss: 0.3927 - accuracy: 0.8179 - val_loss: 0.3631 - val_accuracy: 0.8255\n",
      "Epoch 23/100\n",
      "161/161 [==============================] - 1s 4ms/step - loss: 0.3854 - accuracy: 0.8249 - val_loss: 0.3325 - val_accuracy: 0.8505\n",
      "Epoch 24/100\n",
      "161/161 [==============================] - 1s 4ms/step - loss: 0.4063 - accuracy: 0.8190 - val_loss: 0.3287 - val_accuracy: 0.8489\n",
      "Epoch 25/100\n",
      "161/161 [==============================] - 1s 4ms/step - loss: 0.3963 - accuracy: 0.8183 - val_loss: 0.3118 - val_accuracy: 0.8583\n",
      "Epoch 26/100\n",
      "161/161 [==============================] - 1s 4ms/step - loss: 0.3984 - accuracy: 0.8190 - val_loss: 0.3237 - val_accuracy: 0.8536\n",
      "Epoch 27/100\n",
      "161/161 [==============================] - 1s 4ms/step - loss: 0.3914 - accuracy: 0.8198 - val_loss: 0.3133 - val_accuracy: 0.8427\n",
      "Epoch 28/100\n",
      "161/161 [==============================] - 1s 4ms/step - loss: 0.3737 - accuracy: 0.8264 - val_loss: 0.3189 - val_accuracy: 0.8614\n",
      "Epoch 29/100\n",
      "161/161 [==============================] - 1s 4ms/step - loss: 0.3885 - accuracy: 0.8214 - val_loss: 0.3245 - val_accuracy: 0.8551\n",
      "Epoch 30/100\n",
      "161/161 [==============================] - 1s 4ms/step - loss: 0.3814 - accuracy: 0.8385 - val_loss: 0.3196 - val_accuracy: 0.8505\n",
      "Epoch 31/100\n",
      "161/161 [==============================] - 1s 4ms/step - loss: 0.3775 - accuracy: 0.8241 - val_loss: 0.3132 - val_accuracy: 0.8583\n",
      "Epoch 32/100\n",
      "161/161 [==============================] - 1s 4ms/step - loss: 0.3844 - accuracy: 0.8237 - val_loss: 0.3168 - val_accuracy: 0.8474\n",
      "Epoch 33/100\n",
      "161/161 [==============================] - 1s 4ms/step - loss: 0.3892 - accuracy: 0.8249 - val_loss: 0.3280 - val_accuracy: 0.8364\n",
      "Epoch 34/100\n",
      "161/161 [==============================] - 1s 4ms/step - loss: 0.3810 - accuracy: 0.8225 - val_loss: 0.3115 - val_accuracy: 0.8583\n",
      "Epoch 35/100\n",
      "161/161 [==============================] - 1s 4ms/step - loss: 0.3813 - accuracy: 0.8229 - val_loss: 0.3131 - val_accuracy: 0.8583\n",
      "Epoch 36/100\n",
      "161/161 [==============================] - 1s 4ms/step - loss: 0.3588 - accuracy: 0.8475 - val_loss: 0.3297 - val_accuracy: 0.8458\n",
      "Epoch 37/100\n",
      "161/161 [==============================] - 1s 4ms/step - loss: 0.3761 - accuracy: 0.8288 - val_loss: 0.3152 - val_accuracy: 0.8583\n",
      "Epoch 38/100\n",
      "161/161 [==============================] - 1s 4ms/step - loss: 0.3462 - accuracy: 0.8385 - val_loss: 0.3304 - val_accuracy: 0.8411\n",
      "Epoch 39/100\n",
      "161/161 [==============================] - 1s 4ms/step - loss: 0.3795 - accuracy: 0.8323 - val_loss: 0.3057 - val_accuracy: 0.8629\n",
      "Epoch 40/100\n",
      "161/161 [==============================] - 1s 4ms/step - loss: 0.3619 - accuracy: 0.8350 - val_loss: 0.3222 - val_accuracy: 0.8520\n",
      "Epoch 41/100\n",
      "161/161 [==============================] - 1s 4ms/step - loss: 0.3688 - accuracy: 0.8307 - val_loss: 0.3130 - val_accuracy: 0.8583\n",
      "Epoch 42/100\n",
      "161/161 [==============================] - 1s 4ms/step - loss: 0.3712 - accuracy: 0.8214 - val_loss: 0.3239 - val_accuracy: 0.8349\n",
      "Epoch 43/100\n",
      "161/161 [==============================] - 1s 4ms/step - loss: 0.3686 - accuracy: 0.8272 - val_loss: 0.3075 - val_accuracy: 0.8660\n",
      "Epoch 44/100\n",
      "161/161 [==============================] - 1s 4ms/step - loss: 0.3576 - accuracy: 0.8389 - val_loss: 0.3124 - val_accuracy: 0.8505\n",
      "Epoch 45/100\n",
      "161/161 [==============================] - 1s 4ms/step - loss: 0.3790 - accuracy: 0.8261 - val_loss: 0.3196 - val_accuracy: 0.8442\n",
      "Epoch 46/100\n",
      "161/161 [==============================] - 1s 4ms/step - loss: 0.3752 - accuracy: 0.8393 - val_loss: 0.3046 - val_accuracy: 0.8567\n",
      "Epoch 47/100\n",
      "161/161 [==============================] - 1s 4ms/step - loss: 0.3714 - accuracy: 0.8296 - val_loss: 0.3090 - val_accuracy: 0.8614\n",
      "Epoch 48/100\n",
      "161/161 [==============================] - 1s 4ms/step - loss: 0.3618 - accuracy: 0.8307 - val_loss: 0.3273 - val_accuracy: 0.8442\n",
      "Epoch 49/100\n",
      "161/161 [==============================] - 1s 4ms/step - loss: 0.3672 - accuracy: 0.8327 - val_loss: 0.3140 - val_accuracy: 0.8536\n",
      "Epoch 50/100\n",
      "161/161 [==============================] - 1s 4ms/step - loss: 0.3624 - accuracy: 0.8331 - val_loss: 0.3356 - val_accuracy: 0.8598\n",
      "Epoch 51/100\n",
      "161/161 [==============================] - 1s 4ms/step - loss: 0.3571 - accuracy: 0.8440 - val_loss: 0.3357 - val_accuracy: 0.8287\n",
      "Epoch 52/100\n",
      "161/161 [==============================] - 1s 4ms/step - loss: 0.3525 - accuracy: 0.8424 - val_loss: 0.3342 - val_accuracy: 0.8396\n",
      "Epoch 53/100\n",
      "161/161 [==============================] - 1s 4ms/step - loss: 0.3663 - accuracy: 0.8315 - val_loss: 0.3129 - val_accuracy: 0.8583\n",
      "Epoch 54/100\n",
      "161/161 [==============================] - 1s 4ms/step - loss: 0.3650 - accuracy: 0.8303 - val_loss: 0.3108 - val_accuracy: 0.8676\n",
      "Epoch 55/100\n",
      "161/161 [==============================] - 1s 4ms/step - loss: 0.3618 - accuracy: 0.8405 - val_loss: 0.3070 - val_accuracy: 0.8520\n",
      "Epoch 56/100\n",
      "161/161 [==============================] - 1s 5ms/step - loss: 0.3684 - accuracy: 0.8331 - val_loss: 0.3185 - val_accuracy: 0.8583\n",
      "Epoch 57/100\n",
      "161/161 [==============================] - 1s 5ms/step - loss: 0.3607 - accuracy: 0.8350 - val_loss: 0.3156 - val_accuracy: 0.8598\n",
      "Epoch 58/100\n",
      "161/161 [==============================] - 1s 4ms/step - loss: 0.3511 - accuracy: 0.8409 - val_loss: 0.3330 - val_accuracy: 0.8349\n",
      "Epoch 59/100\n",
      "161/161 [==============================] - 1s 4ms/step - loss: 0.3499 - accuracy: 0.8456 - val_loss: 0.3184 - val_accuracy: 0.8598\n",
      "Epoch 60/100\n",
      "161/161 [==============================] - 1s 4ms/step - loss: 0.3655 - accuracy: 0.8393 - val_loss: 0.3157 - val_accuracy: 0.8505\n",
      "Epoch 61/100\n",
      "161/161 [==============================] - 1s 4ms/step - loss: 0.3559 - accuracy: 0.8339 - val_loss: 0.3282 - val_accuracy: 0.8583\n",
      "Epoch 62/100\n",
      "161/161 [==============================] - 1s 4ms/step - loss: 0.3595 - accuracy: 0.8354 - val_loss: 0.3333 - val_accuracy: 0.8458\n",
      "Epoch 63/100\n",
      "161/161 [==============================] - 1s 4ms/step - loss: 0.3512 - accuracy: 0.8467 - val_loss: 0.3050 - val_accuracy: 0.8692\n",
      "Epoch 64/100\n",
      "161/161 [==============================] - 1s 4ms/step - loss: 0.3585 - accuracy: 0.8424 - val_loss: 0.3080 - val_accuracy: 0.8660\n",
      "Epoch 65/100\n",
      "161/161 [==============================] - 1s 4ms/step - loss: 0.3588 - accuracy: 0.8424 - val_loss: 0.3091 - val_accuracy: 0.8567\n",
      "Epoch 66/100\n",
      "161/161 [==============================] - 1s 4ms/step - loss: 0.3612 - accuracy: 0.8405 - val_loss: 0.3089 - val_accuracy: 0.8567\n",
      "Epoch 67/100\n",
      "161/161 [==============================] - 1s 4ms/step - loss: 0.3637 - accuracy: 0.8303 - val_loss: 0.3021 - val_accuracy: 0.8629\n",
      "Epoch 68/100\n",
      "161/161 [==============================] - 1s 4ms/step - loss: 0.3503 - accuracy: 0.8448 - val_loss: 0.3110 - val_accuracy: 0.8551\n",
      "Epoch 69/100\n",
      "161/161 [==============================] - 1s 4ms/step - loss: 0.3554 - accuracy: 0.8354 - val_loss: 0.3070 - val_accuracy: 0.8629\n",
      "Epoch 70/100\n",
      "161/161 [==============================] - 1s 4ms/step - loss: 0.3389 - accuracy: 0.8487 - val_loss: 0.3121 - val_accuracy: 0.8474\n",
      "Epoch 71/100\n",
      "161/161 [==============================] - 1s 4ms/step - loss: 0.3694 - accuracy: 0.8358 - val_loss: 0.3031 - val_accuracy: 0.8676\n",
      "Epoch 72/100\n",
      "161/161 [==============================] - 1s 4ms/step - loss: 0.3611 - accuracy: 0.8339 - val_loss: 0.3411 - val_accuracy: 0.8629\n",
      "Epoch 73/100\n",
      "161/161 [==============================] - 1s 4ms/step - loss: 0.3577 - accuracy: 0.8436 - val_loss: 0.3088 - val_accuracy: 0.8567\n",
      "Epoch 74/100\n",
      "161/161 [==============================] - 1s 4ms/step - loss: 0.3505 - accuracy: 0.8385 - val_loss: 0.3226 - val_accuracy: 0.8380\n",
      "Epoch 75/100\n",
      "161/161 [==============================] - 1s 4ms/step - loss: 0.3502 - accuracy: 0.8366 - val_loss: 0.3109 - val_accuracy: 0.8551\n",
      "Epoch 76/100\n",
      "161/161 [==============================] - 1s 4ms/step - loss: 0.3366 - accuracy: 0.8534 - val_loss: 0.3112 - val_accuracy: 0.8660\n",
      "Epoch 77/100\n",
      "161/161 [==============================] - 1s 4ms/step - loss: 0.3545 - accuracy: 0.8366 - val_loss: 0.3012 - val_accuracy: 0.8676\n",
      "Epoch 78/100\n",
      "161/161 [==============================] - 1s 4ms/step - loss: 0.3524 - accuracy: 0.8444 - val_loss: 0.3145 - val_accuracy: 0.8489\n",
      "Epoch 79/100\n",
      "161/161 [==============================] - 1s 4ms/step - loss: 0.3463 - accuracy: 0.8475 - val_loss: 0.2908 - val_accuracy: 0.8645\n",
      "Epoch 80/100\n",
      "161/161 [==============================] - 1s 4ms/step - loss: 0.3460 - accuracy: 0.8495 - val_loss: 0.3128 - val_accuracy: 0.8567\n",
      "Epoch 81/100\n",
      "161/161 [==============================] - 1s 4ms/step - loss: 0.3647 - accuracy: 0.8413 - val_loss: 0.2979 - val_accuracy: 0.8692\n",
      "Epoch 82/100\n",
      "161/161 [==============================] - 1s 4ms/step - loss: 0.3466 - accuracy: 0.8514 - val_loss: 0.3080 - val_accuracy: 0.8536\n",
      "Epoch 83/100\n",
      "161/161 [==============================] - 1s 4ms/step - loss: 0.3529 - accuracy: 0.8463 - val_loss: 0.2966 - val_accuracy: 0.8707\n",
      "Epoch 84/100\n",
      "161/161 [==============================] - 1s 4ms/step - loss: 0.3360 - accuracy: 0.8537 - val_loss: 0.2928 - val_accuracy: 0.8660\n",
      "Epoch 85/100\n",
      "161/161 [==============================] - 1s 4ms/step - loss: 0.3309 - accuracy: 0.8549 - val_loss: 0.3061 - val_accuracy: 0.8567\n",
      "Epoch 86/100\n",
      "161/161 [==============================] - 1s 4ms/step - loss: 0.3466 - accuracy: 0.8405 - val_loss: 0.3081 - val_accuracy: 0.8567\n",
      "Epoch 87/100\n",
      "161/161 [==============================] - 1s 4ms/step - loss: 0.3594 - accuracy: 0.8479 - val_loss: 0.3113 - val_accuracy: 0.8536\n",
      "Epoch 88/100\n",
      "161/161 [==============================] - 1s 4ms/step - loss: 0.3433 - accuracy: 0.8475 - val_loss: 0.3138 - val_accuracy: 0.8567\n",
      "Epoch 89/100\n",
      "161/161 [==============================] - 1s 4ms/step - loss: 0.3449 - accuracy: 0.8483 - val_loss: 0.3086 - val_accuracy: 0.8692\n",
      "Epoch 90/100\n",
      "161/161 [==============================] - 1s 4ms/step - loss: 0.3555 - accuracy: 0.8374 - val_loss: 0.3091 - val_accuracy: 0.8707\n",
      "Epoch 91/100\n",
      "161/161 [==============================] - 1s 4ms/step - loss: 0.3355 - accuracy: 0.8467 - val_loss: 0.2957 - val_accuracy: 0.8785\n",
      "Epoch 92/100\n",
      "161/161 [==============================] - 1s 4ms/step - loss: 0.3535 - accuracy: 0.8335 - val_loss: 0.3165 - val_accuracy: 0.8427\n",
      "Epoch 93/100\n",
      "161/161 [==============================] - 1s 4ms/step - loss: 0.3402 - accuracy: 0.8452 - val_loss: 0.2926 - val_accuracy: 0.8723\n",
      "Epoch 94/100\n",
      "161/161 [==============================] - 1s 4ms/step - loss: 0.3492 - accuracy: 0.8436 - val_loss: 0.3261 - val_accuracy: 0.8364\n",
      "Epoch 95/100\n",
      "161/161 [==============================] - 1s 4ms/step - loss: 0.3521 - accuracy: 0.8409 - val_loss: 0.3128 - val_accuracy: 0.8676\n",
      "Epoch 96/100\n",
      "161/161 [==============================] - 1s 4ms/step - loss: 0.3403 - accuracy: 0.8502 - val_loss: 0.2961 - val_accuracy: 0.8785\n",
      "Epoch 97/100\n",
      "161/161 [==============================] - 1s 4ms/step - loss: 0.3460 - accuracy: 0.8475 - val_loss: 0.2939 - val_accuracy: 0.8645\n",
      "Epoch 98/100\n",
      "161/161 [==============================] - 1s 4ms/step - loss: 0.3493 - accuracy: 0.8420 - val_loss: 0.3054 - val_accuracy: 0.8629\n",
      "Epoch 99/100\n",
      "161/161 [==============================] - 1s 4ms/step - loss: 0.3345 - accuracy: 0.8456 - val_loss: 0.2949 - val_accuracy: 0.8692\n",
      "Epoch 100/100\n",
      "161/161 [==============================] - 1s 4ms/step - loss: 0.3463 - accuracy: 0.8491 - val_loss: 0.3076 - val_accuracy: 0.8645\n"
     ]
    }
   ],
   "source": [
    "# Define the neural network model\n",
    "model = Sequential([\n",
    "    Dense(128, activation='relu'),\n",
    "    Dropout(0.5),\n",
    "    Dense(64, activation='relu'),\n",
    "    Dropout(0.5),\n",
    "    Dense(64, activation='relu'),\n",
    "    Dropout(0.5),\n",
    "    Dense(32, activation='relu'),\n",
    "    Dropout(0.5),\n",
    "    Dense(1, activation='sigmoid')\n",
    "])\n",
    "\n",
    "# Compile the model\n",
    "model.compile(optimizer='adam',\n",
    "              loss='binary_crossentropy',\n",
    "              metrics=['accuracy'])\n",
    "\n",
    "\n",
    "\n",
    "# Train the model\n",
    "history = model.fit(X_train, y_train, epochs=100, batch_size=16, verbose=1, validation_split=0.2)"
   ]
  },
  {
   "cell_type": "markdown",
   "id": "48846b39",
   "metadata": {
    "papermill": {
     "duration": 0.147707,
     "end_time": "2024-04-25T02:01:10.580761",
     "exception": false,
     "start_time": "2024-04-25T02:01:10.433054",
     "status": "completed"
    },
    "tags": []
   },
   "source": [
    "## <font color=\"green\">performance metrics</font>"
   ]
  },
  {
   "cell_type": "code",
   "execution_count": 46,
   "id": "c950973a",
   "metadata": {
    "execution": {
     "iopub.execute_input": "2024-04-25T02:01:10.871458Z",
     "iopub.status.busy": "2024-04-25T02:01:10.871057Z",
     "iopub.status.idle": "2024-04-25T02:01:11.844281Z",
     "shell.execute_reply": "2024-04-25T02:01:11.843189Z"
    },
    "papermill": {
     "duration": 1.120203,
     "end_time": "2024-04-25T02:01:11.846348",
     "exception": false,
     "start_time": "2024-04-25T02:01:10.726145",
     "status": "completed"
    },
    "tags": []
   },
   "outputs": [
    {
     "data": {
      "image/png": "[encoded data removed]",
      "text/plain": [
       "<Figure size 640x480 with 1 Axes>"
      ]
     },
     "metadata": {},
     "output_type": "display_data"
    },
    {
     "name": "stdout",
     "output_type": "stream",
     "text": [
      "101/101 [==============================] - 0s 2ms/step - loss: 0.2851 - accuracy: 0.8659\n",
      "26/26 [==============================] - 0s 2ms/step - loss: 0.3056 - accuracy: 0.8865\n",
      "Training Loss: 0.28510215878486633\n",
      "Training Accuracy: 0.8658764958381653\n",
      "Testing Loss: 0.3055591285228729\n",
      "Testing Accuracy: 0.8865336775779724\n",
      "26/26 [==============================] - 0s 1ms/step\n",
      "\n",
      "Accuracy: 0.8865336658354115\n",
      "\n",
      "Classification Report:\n"
     ]
    },
    {
     "data": {
      "text/html": [
       "<div>\n",
       "<style scoped>\n",
       "    .dataframe tbody tr th:only-of-type {\n",
       "        vertical-align: middle;\n",
       "    }\n",
       "\n",
       "    .dataframe tbody tr th {\n",
       "        vertical-align: top;\n",
       "    }\n",
       "\n",
       "    .dataframe thead th {\n",
       "        text-align: right;\n",
       "    }\n",
       "</style>\n",
       "<table border=\"1\" class=\"dataframe\">\n",
       "  <thead>\n",
       "    <tr style=\"text-align: right;\">\n",
       "      <th></th>\n",
       "      <th>precision</th>\n",
       "      <th>recall</th>\n",
       "      <th>f1-score</th>\n",
       "      <th>support</th>\n",
       "    </tr>\n",
       "  </thead>\n",
       "  <tbody>\n",
       "    <tr>\n",
       "      <th>0</th>\n",
       "      <td>0.907357</td>\n",
       "      <td>0.853846</td>\n",
       "      <td>0.879789</td>\n",
       "      <td>390.000000</td>\n",
       "    </tr>\n",
       "    <tr>\n",
       "      <th>1</th>\n",
       "      <td>0.868966</td>\n",
       "      <td>0.917476</td>\n",
       "      <td>0.892562</td>\n",
       "      <td>412.000000</td>\n",
       "    </tr>\n",
       "    <tr>\n",
       "      <th>accuracy</th>\n",
       "      <td>0.886534</td>\n",
       "      <td>0.886534</td>\n",
       "      <td>0.886534</td>\n",
       "      <td>0.886534</td>\n",
       "    </tr>\n",
       "    <tr>\n",
       "      <th>macro avg</th>\n",
       "      <td>0.888161</td>\n",
       "      <td>0.885661</td>\n",
       "      <td>0.886175</td>\n",
       "      <td>802.000000</td>\n",
       "    </tr>\n",
       "    <tr>\n",
       "      <th>weighted avg</th>\n",
       "      <td>0.887635</td>\n",
       "      <td>0.886534</td>\n",
       "      <td>0.886351</td>\n",
       "      <td>802.000000</td>\n",
       "    </tr>\n",
       "  </tbody>\n",
       "</table>\n",
       "</div>"
      ],
      "text/plain": [
       "              precision    recall  f1-score     support\n",
       "0              0.907357  0.853846  0.879789  390.000000\n",
       "1              0.868966  0.917476  0.892562  412.000000\n",
       "accuracy       0.886534  0.886534  0.886534    0.886534\n",
       "macro avg      0.888161  0.885661  0.886175  802.000000\n",
       "weighted avg   0.887635  0.886534  0.886351  802.000000"
      ]
     },
     "metadata": {},
     "output_type": "display_data"
    },
    {
     "name": "stdout",
     "output_type": "stream",
     "text": [
      "\n",
      "Confusion Matrix:\n",
      "[[333  57]\n",
      " [ 34 378]]\n"
     ]
    }
   ],
   "source": [
    "# Plot training and validation loss curves\n",
    "plt.plot(history.history['loss'], label='Training Loss')\n",
    "plt.plot(history.history['val_loss'], label='Validation Loss')\n",
    "plt.xlabel('Epoch')\n",
    "plt.ylabel('Loss')\n",
    "plt.legend()\n",
    "plt.show()\n",
    "\n",
    "# Evaluate the model on the training and testing data\n",
    "train_loss, train_accuracy = model.evaluate(X_train, y_train)\n",
    "test_loss, test_accuracy = model.evaluate(X_test, y_test)\n",
    "\n",
    "print(\"Training Loss:\", train_loss)\n",
    "print(\"Training Accuracy:\", train_accuracy)\n",
    "print(\"Testing Loss:\", test_loss)\n",
    "print(\"Testing Accuracy:\", test_accuracy)\n",
    "\n",
    "# Evaluate the model on the testing data\n",
    "y_pred_NN = model.predict(X_test)\n",
    "\n",
    "NN_results, NN_accuracy = test_model(y_test, y_pred_NN, model_name=\"NN\")"
   ]
  },
  {
   "cell_type": "markdown",
   "id": "f01109bd",
   "metadata": {
    "papermill": {
     "duration": 0.145342,
     "end_time": "2024-04-25T02:01:12.138597",
     "exception": false,
     "start_time": "2024-04-25T02:01:11.993255",
     "status": "completed"
    },
    "tags": []
   },
   "source": [
    "## <font color=\"green\">ROC-AUC</font>"
   ]
  },
  {
   "cell_type": "code",
   "execution_count": 47,
   "id": "f716c923",
   "metadata": {
    "execution": {
     "iopub.execute_input": "2024-04-25T02:01:12.440111Z",
     "iopub.status.busy": "2024-04-25T02:01:12.439731Z",
     "iopub.status.idle": "2024-04-25T02:01:12.789574Z",
     "shell.execute_reply": "2024-04-25T02:01:12.788231Z"
    },
    "papermill": {
     "duration": 0.504347,
     "end_time": "2024-04-25T02:01:12.792437",
     "exception": false,
     "start_time": "2024-04-25T02:01:12.288090",
     "status": "completed"
    },
    "tags": []
   },
   "outputs": [
    {
     "name": "stdout",
     "output_type": "stream",
     "text": [
      "ROC AUC: 0.947504356484939\n"
     ]
    },
    {
     "data": {
      "image/png": "[encoded data removed]",
      "text/plain": [
       "<Figure size 800x600 with 1 Axes>"
      ]
     },
     "metadata": {},
     "output_type": "display_data"
    }
   ],
   "source": [
    "ROC_AUC(y_pred_NN, y_test)"
   ]
  },
  {
   "cell_type": "markdown",
   "id": "6985a883",
   "metadata": {
    "papermill": {
     "duration": 0.164847,
     "end_time": "2024-04-25T02:01:13.171598",
     "exception": false,
     "start_time": "2024-04-25T02:01:13.006751",
     "status": "completed"
    },
    "tags": []
   },
   "source": [
    "## <font color=\"green\">Neural Network, trained on data without outliers</font>"
   ]
  },
  {
   "cell_type": "code",
   "execution_count": 48,
   "id": "f7279d08",
   "metadata": {
    "execution": {
     "iopub.execute_input": "2024-04-25T02:01:13.487931Z",
     "iopub.status.busy": "2024-04-25T02:01:13.487100Z",
     "iopub.status.idle": "2024-04-25T02:02:36.521243Z",
     "shell.execute_reply": "2024-04-25T02:02:36.520377Z"
    },
    "papermill": {
     "duration": 83.196025,
     "end_time": "2024-04-25T02:02:36.523519",
     "exception": false,
     "start_time": "2024-04-25T02:01:13.327494",
     "status": "completed"
    },
    "scrolled": true,
    "tags": []
   },
   "outputs": [
    {
     "name": "stdout",
     "output_type": "stream",
     "text": [
      "Epoch 1/100\n",
      "160/160 [==============================] - 3s 5ms/step - loss: 0.6946 - accuracy: 0.5224 - val_loss: 0.6223 - val_accuracy: 0.7551\n",
      "Epoch 2/100\n",
      "160/160 [==============================] - 1s 4ms/step - loss: 0.5962 - accuracy: 0.6845 - val_loss: 0.4696 - val_accuracy: 0.7739\n",
      "Epoch 3/100\n",
      "160/160 [==============================] - 1s 4ms/step - loss: 0.4991 - accuracy: 0.7712 - val_loss: 0.3949 - val_accuracy: 0.8273\n",
      "Epoch 4/100\n",
      "160/160 [==============================] - 1s 4ms/step - loss: 0.4628 - accuracy: 0.7951 - val_loss: 0.3799 - val_accuracy: 0.8210\n",
      "Epoch 5/100\n",
      "160/160 [==============================] - 1s 4ms/step - loss: 0.4322 - accuracy: 0.8128 - val_loss: 0.3617 - val_accuracy: 0.8305\n",
      "Epoch 6/100\n",
      "160/160 [==============================] - 1s 4ms/step - loss: 0.4127 - accuracy: 0.8238 - val_loss: 0.3511 - val_accuracy: 0.8273\n",
      "Epoch 7/100\n",
      "160/160 [==============================] - 1s 4ms/step - loss: 0.4168 - accuracy: 0.8293 - val_loss: 0.3458 - val_accuracy: 0.8383\n",
      "Epoch 8/100\n",
      "160/160 [==============================] - 1s 4ms/step - loss: 0.3958 - accuracy: 0.8391 - val_loss: 0.3297 - val_accuracy: 0.8509\n",
      "Epoch 9/100\n",
      "160/160 [==============================] - 1s 4ms/step - loss: 0.3887 - accuracy: 0.8348 - val_loss: 0.3305 - val_accuracy: 0.8571\n",
      "Epoch 10/100\n",
      "160/160 [==============================] - 1s 4ms/step - loss: 0.3669 - accuracy: 0.8497 - val_loss: 0.3216 - val_accuracy: 0.8556\n",
      "Epoch 11/100\n",
      "160/160 [==============================] - 1s 4ms/step - loss: 0.3661 - accuracy: 0.8395 - val_loss: 0.3216 - val_accuracy: 0.8571\n",
      "Epoch 12/100\n",
      "160/160 [==============================] - 1s 4ms/step - loss: 0.3632 - accuracy: 0.8465 - val_loss: 0.3218 - val_accuracy: 0.8540\n",
      "Epoch 13/100\n",
      "160/160 [==============================] - 1s 4ms/step - loss: 0.3557 - accuracy: 0.8509 - val_loss: 0.3177 - val_accuracy: 0.8666\n",
      "Epoch 14/100\n",
      "160/160 [==============================] - 1s 4ms/step - loss: 0.3584 - accuracy: 0.8556 - val_loss: 0.3129 - val_accuracy: 0.8697\n",
      "Epoch 15/100\n",
      "160/160 [==============================] - 1s 4ms/step - loss: 0.3569 - accuracy: 0.8622 - val_loss: 0.3181 - val_accuracy: 0.8571\n",
      "Epoch 16/100\n",
      "160/160 [==============================] - 1s 4ms/step - loss: 0.3597 - accuracy: 0.8548 - val_loss: 0.3118 - val_accuracy: 0.8697\n",
      "Epoch 17/100\n",
      "160/160 [==============================] - 1s 4ms/step - loss: 0.3457 - accuracy: 0.8599 - val_loss: 0.3116 - val_accuracy: 0.8650\n",
      "Epoch 18/100\n",
      "160/160 [==============================] - 1s 4ms/step - loss: 0.3417 - accuracy: 0.8646 - val_loss: 0.3080 - val_accuracy: 0.8634\n",
      "Epoch 19/100\n",
      "160/160 [==============================] - 1s 4ms/step - loss: 0.3326 - accuracy: 0.8626 - val_loss: 0.3137 - val_accuracy: 0.8619\n",
      "Epoch 20/100\n",
      "160/160 [==============================] - 1s 4ms/step - loss: 0.3225 - accuracy: 0.8717 - val_loss: 0.3087 - val_accuracy: 0.8760\n",
      "Epoch 21/100\n",
      "160/160 [==============================] - 1s 4ms/step - loss: 0.3209 - accuracy: 0.8634 - val_loss: 0.3075 - val_accuracy: 0.8823\n",
      "Epoch 22/100\n",
      "160/160 [==============================] - 1s 4ms/step - loss: 0.3314 - accuracy: 0.8717 - val_loss: 0.2951 - val_accuracy: 0.8760\n",
      "Epoch 23/100\n",
      "160/160 [==============================] - 1s 4ms/step - loss: 0.3312 - accuracy: 0.8650 - val_loss: 0.3065 - val_accuracy: 0.8697\n",
      "Epoch 24/100\n",
      "160/160 [==============================] - 1s 4ms/step - loss: 0.3144 - accuracy: 0.8787 - val_loss: 0.2998 - val_accuracy: 0.8760\n",
      "Epoch 25/100\n",
      "160/160 [==============================] - 1s 4ms/step - loss: 0.3210 - accuracy: 0.8732 - val_loss: 0.3061 - val_accuracy: 0.8744\n",
      "Epoch 26/100\n",
      "160/160 [==============================] - 1s 4ms/step - loss: 0.3113 - accuracy: 0.8689 - val_loss: 0.2943 - val_accuracy: 0.8776\n",
      "Epoch 27/100\n",
      "160/160 [==============================] - 1s 4ms/step - loss: 0.3046 - accuracy: 0.8803 - val_loss: 0.2867 - val_accuracy: 0.8838\n",
      "Epoch 28/100\n",
      "160/160 [==============================] - 1s 4ms/step - loss: 0.3043 - accuracy: 0.8728 - val_loss: 0.2906 - val_accuracy: 0.8854\n",
      "Epoch 29/100\n",
      "160/160 [==============================] - 1s 4ms/step - loss: 0.2984 - accuracy: 0.8811 - val_loss: 0.2825 - val_accuracy: 0.8870\n",
      "Epoch 30/100\n",
      "160/160 [==============================] - 1s 4ms/step - loss: 0.3129 - accuracy: 0.8799 - val_loss: 0.2915 - val_accuracy: 0.8776\n",
      "Epoch 31/100\n",
      "160/160 [==============================] - 1s 4ms/step - loss: 0.2959 - accuracy: 0.8842 - val_loss: 0.2907 - val_accuracy: 0.8728\n",
      "Epoch 32/100\n",
      "160/160 [==============================] - 1s 4ms/step - loss: 0.3046 - accuracy: 0.8807 - val_loss: 0.2917 - val_accuracy: 0.8776\n",
      "Epoch 33/100\n",
      "160/160 [==============================] - 1s 4ms/step - loss: 0.2867 - accuracy: 0.8858 - val_loss: 0.2946 - val_accuracy: 0.8760\n",
      "Epoch 34/100\n",
      "160/160 [==============================] - 1s 4ms/step - loss: 0.2930 - accuracy: 0.8866 - val_loss: 0.2850 - val_accuracy: 0.8776\n",
      "Epoch 35/100\n",
      "160/160 [==============================] - 1s 4ms/step - loss: 0.2921 - accuracy: 0.8823 - val_loss: 0.2787 - val_accuracy: 0.8791\n",
      "Epoch 36/100\n",
      "160/160 [==============================] - 1s 4ms/step - loss: 0.2858 - accuracy: 0.8932 - val_loss: 0.2740 - val_accuracy: 0.8854\n",
      "Epoch 37/100\n",
      "160/160 [==============================] - 1s 4ms/step - loss: 0.2887 - accuracy: 0.8936 - val_loss: 0.2711 - val_accuracy: 0.8807\n",
      "Epoch 38/100\n",
      "160/160 [==============================] - 1s 4ms/step - loss: 0.2675 - accuracy: 0.8960 - val_loss: 0.2779 - val_accuracy: 0.8854\n",
      "Epoch 39/100\n",
      "160/160 [==============================] - 1s 4ms/step - loss: 0.2765 - accuracy: 0.8917 - val_loss: 0.2726 - val_accuracy: 0.8854\n",
      "Epoch 40/100\n",
      "160/160 [==============================] - 1s 4ms/step - loss: 0.2696 - accuracy: 0.8972 - val_loss: 0.2726 - val_accuracy: 0.8885\n",
      "Epoch 41/100\n",
      "160/160 [==============================] - 1s 4ms/step - loss: 0.2761 - accuracy: 0.8936 - val_loss: 0.2649 - val_accuracy: 0.8948\n",
      "Epoch 42/100\n",
      "160/160 [==============================] - 1s 4ms/step - loss: 0.2789 - accuracy: 0.8948 - val_loss: 0.2669 - val_accuracy: 0.8932\n",
      "Epoch 43/100\n",
      "160/160 [==============================] - 1s 4ms/step - loss: 0.2676 - accuracy: 0.9031 - val_loss: 0.2698 - val_accuracy: 0.8917\n",
      "Epoch 44/100\n",
      "160/160 [==============================] - 1s 5ms/step - loss: 0.2628 - accuracy: 0.8960 - val_loss: 0.2670 - val_accuracy: 0.8917\n",
      "Epoch 45/100\n",
      "160/160 [==============================] - 1s 5ms/step - loss: 0.2552 - accuracy: 0.9019 - val_loss: 0.2568 - val_accuracy: 0.8948\n",
      "Epoch 46/100\n",
      "160/160 [==============================] - 1s 4ms/step - loss: 0.2593 - accuracy: 0.8948 - val_loss: 0.2615 - val_accuracy: 0.8932\n",
      "Epoch 47/100\n",
      "160/160 [==============================] - 1s 4ms/step - loss: 0.2587 - accuracy: 0.9015 - val_loss: 0.2594 - val_accuracy: 0.9011\n",
      "Epoch 48/100\n",
      "160/160 [==============================] - 1s 4ms/step - loss: 0.2507 - accuracy: 0.9050 - val_loss: 0.2634 - val_accuracy: 0.8932\n",
      "Epoch 49/100\n",
      "160/160 [==============================] - 1s 4ms/step - loss: 0.2553 - accuracy: 0.9031 - val_loss: 0.2582 - val_accuracy: 0.8980\n",
      "Epoch 50/100\n",
      "160/160 [==============================] - 1s 4ms/step - loss: 0.2556 - accuracy: 0.9023 - val_loss: 0.2557 - val_accuracy: 0.8980\n",
      "Epoch 51/100\n",
      "160/160 [==============================] - 1s 4ms/step - loss: 0.2500 - accuracy: 0.9042 - val_loss: 0.2484 - val_accuracy: 0.9105\n",
      "Epoch 52/100\n",
      "160/160 [==============================] - 1s 4ms/step - loss: 0.2554 - accuracy: 0.8987 - val_loss: 0.2531 - val_accuracy: 0.9042\n",
      "Epoch 53/100\n",
      "160/160 [==============================] - 1s 4ms/step - loss: 0.2538 - accuracy: 0.9046 - val_loss: 0.2456 - val_accuracy: 0.9152\n",
      "Epoch 54/100\n",
      "160/160 [==============================] - 1s 4ms/step - loss: 0.2504 - accuracy: 0.9121 - val_loss: 0.2506 - val_accuracy: 0.9011\n",
      "Epoch 55/100\n",
      "160/160 [==============================] - 1s 4ms/step - loss: 0.2742 - accuracy: 0.8948 - val_loss: 0.2495 - val_accuracy: 0.8964\n",
      "Epoch 56/100\n",
      "160/160 [==============================] - 1s 4ms/step - loss: 0.2401 - accuracy: 0.9121 - val_loss: 0.2510 - val_accuracy: 0.9058\n",
      "Epoch 57/100\n",
      "160/160 [==============================] - 1s 4ms/step - loss: 0.2564 - accuracy: 0.9038 - val_loss: 0.2585 - val_accuracy: 0.9011\n",
      "Epoch 58/100\n",
      "160/160 [==============================] - 1s 4ms/step - loss: 0.2511 - accuracy: 0.9046 - val_loss: 0.2529 - val_accuracy: 0.8917\n",
      "Epoch 59/100\n",
      "160/160 [==============================] - 1s 4ms/step - loss: 0.2554 - accuracy: 0.9019 - val_loss: 0.2503 - val_accuracy: 0.8995\n",
      "Epoch 60/100\n",
      "160/160 [==============================] - 1s 4ms/step - loss: 0.2464 - accuracy: 0.9074 - val_loss: 0.2463 - val_accuracy: 0.9058\n",
      "Epoch 61/100\n",
      "160/160 [==============================] - 1s 4ms/step - loss: 0.2426 - accuracy: 0.9168 - val_loss: 0.2449 - val_accuracy: 0.9027\n",
      "Epoch 62/100\n",
      "160/160 [==============================] - 1s 4ms/step - loss: 0.2467 - accuracy: 0.9097 - val_loss: 0.2443 - val_accuracy: 0.8948\n",
      "Epoch 63/100\n",
      "160/160 [==============================] - 1s 4ms/step - loss: 0.2425 - accuracy: 0.9109 - val_loss: 0.2407 - val_accuracy: 0.9042\n",
      "Epoch 64/100\n",
      "160/160 [==============================] - 1s 4ms/step - loss: 0.2364 - accuracy: 0.9089 - val_loss: 0.2571 - val_accuracy: 0.8917\n",
      "Epoch 65/100\n",
      "160/160 [==============================] - 1s 4ms/step - loss: 0.2376 - accuracy: 0.9141 - val_loss: 0.2506 - val_accuracy: 0.9011\n",
      "Epoch 66/100\n",
      "160/160 [==============================] - 1s 4ms/step - loss: 0.2154 - accuracy: 0.9152 - val_loss: 0.2433 - val_accuracy: 0.9011\n",
      "Epoch 67/100\n",
      "160/160 [==============================] - 1s 4ms/step - loss: 0.2311 - accuracy: 0.9093 - val_loss: 0.2470 - val_accuracy: 0.9027\n",
      "Epoch 68/100\n",
      "160/160 [==============================] - 1s 4ms/step - loss: 0.2333 - accuracy: 0.9129 - val_loss: 0.2421 - val_accuracy: 0.9058\n",
      "Epoch 69/100\n",
      "160/160 [==============================] - 1s 4ms/step - loss: 0.2359 - accuracy: 0.9129 - val_loss: 0.2419 - val_accuracy: 0.9089\n",
      "Epoch 70/100\n",
      "160/160 [==============================] - 1s 4ms/step - loss: 0.2291 - accuracy: 0.9180 - val_loss: 0.2523 - val_accuracy: 0.9011\n",
      "Epoch 71/100\n",
      "160/160 [==============================] - 1s 4ms/step - loss: 0.2231 - accuracy: 0.9137 - val_loss: 0.2495 - val_accuracy: 0.9058\n",
      "Epoch 72/100\n",
      "160/160 [==============================] - 1s 4ms/step - loss: 0.2260 - accuracy: 0.9180 - val_loss: 0.2405 - val_accuracy: 0.9089\n",
      "Epoch 73/100\n",
      "160/160 [==============================] - 1s 4ms/step - loss: 0.2270 - accuracy: 0.9184 - val_loss: 0.2440 - val_accuracy: 0.9058\n",
      "Epoch 74/100\n",
      "160/160 [==============================] - 1s 4ms/step - loss: 0.2343 - accuracy: 0.9148 - val_loss: 0.2500 - val_accuracy: 0.9042\n",
      "Epoch 75/100\n",
      "160/160 [==============================] - 1s 4ms/step - loss: 0.2297 - accuracy: 0.9195 - val_loss: 0.2534 - val_accuracy: 0.9105\n",
      "Epoch 76/100\n",
      "160/160 [==============================] - 1s 4ms/step - loss: 0.2320 - accuracy: 0.9105 - val_loss: 0.2421 - val_accuracy: 0.9089\n",
      "Epoch 77/100\n",
      "160/160 [==============================] - 1s 4ms/step - loss: 0.2166 - accuracy: 0.9113 - val_loss: 0.2386 - val_accuracy: 0.9137\n",
      "Epoch 78/100\n",
      "160/160 [==============================] - 1s 4ms/step - loss: 0.2118 - accuracy: 0.9219 - val_loss: 0.2489 - val_accuracy: 0.8995\n",
      "Epoch 79/100\n",
      "160/160 [==============================] - 1s 4ms/step - loss: 0.2178 - accuracy: 0.9188 - val_loss: 0.2430 - val_accuracy: 0.9105\n",
      "Epoch 80/100\n",
      "160/160 [==============================] - 1s 4ms/step - loss: 0.2168 - accuracy: 0.9129 - val_loss: 0.2434 - val_accuracy: 0.9137\n",
      "Epoch 81/100\n",
      "160/160 [==============================] - 1s 4ms/step - loss: 0.2180 - accuracy: 0.9239 - val_loss: 0.2403 - val_accuracy: 0.9089\n",
      "Epoch 82/100\n",
      "160/160 [==============================] - 1s 4ms/step - loss: 0.2153 - accuracy: 0.9180 - val_loss: 0.2350 - val_accuracy: 0.9152\n",
      "Epoch 83/100\n",
      "160/160 [==============================] - 1s 4ms/step - loss: 0.2191 - accuracy: 0.9211 - val_loss: 0.2289 - val_accuracy: 0.9184\n",
      "Epoch 84/100\n",
      "160/160 [==============================] - 1s 4ms/step - loss: 0.2297 - accuracy: 0.9188 - val_loss: 0.2297 - val_accuracy: 0.9184\n",
      "Epoch 85/100\n",
      "160/160 [==============================] - 1s 4ms/step - loss: 0.2135 - accuracy: 0.9180 - val_loss: 0.2323 - val_accuracy: 0.9089\n",
      "Epoch 86/100\n",
      "160/160 [==============================] - 1s 4ms/step - loss: 0.2254 - accuracy: 0.9156 - val_loss: 0.2378 - val_accuracy: 0.9105\n",
      "Epoch 87/100\n",
      "160/160 [==============================] - 1s 4ms/step - loss: 0.2186 - accuracy: 0.9199 - val_loss: 0.2408 - val_accuracy: 0.9121\n",
      "Epoch 88/100\n",
      "160/160 [==============================] - 1s 4ms/step - loss: 0.2266 - accuracy: 0.9160 - val_loss: 0.2417 - val_accuracy: 0.9121\n",
      "Epoch 89/100\n",
      "160/160 [==============================] - 1s 4ms/step - loss: 0.2225 - accuracy: 0.9168 - val_loss: 0.2340 - val_accuracy: 0.9074\n",
      "Epoch 90/100\n",
      "160/160 [==============================] - 1s 4ms/step - loss: 0.2204 - accuracy: 0.9137 - val_loss: 0.2379 - val_accuracy: 0.9137\n",
      "Epoch 91/100\n",
      "160/160 [==============================] - 1s 4ms/step - loss: 0.2265 - accuracy: 0.9133 - val_loss: 0.2448 - val_accuracy: 0.9137\n",
      "Epoch 92/100\n",
      "160/160 [==============================] - 1s 4ms/step - loss: 0.2034 - accuracy: 0.9235 - val_loss: 0.2400 - val_accuracy: 0.9089\n",
      "Epoch 93/100\n",
      "160/160 [==============================] - 1s 5ms/step - loss: 0.2273 - accuracy: 0.9133 - val_loss: 0.2356 - val_accuracy: 0.9121\n",
      "Epoch 94/100\n",
      "160/160 [==============================] - 1s 4ms/step - loss: 0.2046 - accuracy: 0.9188 - val_loss: 0.2409 - val_accuracy: 0.9152\n",
      "Epoch 95/100\n",
      "160/160 [==============================] - 1s 4ms/step - loss: 0.2040 - accuracy: 0.9231 - val_loss: 0.2461 - val_accuracy: 0.9042\n",
      "Epoch 96/100\n",
      "160/160 [==============================] - 1s 4ms/step - loss: 0.2049 - accuracy: 0.9278 - val_loss: 0.2294 - val_accuracy: 0.9184\n",
      "Epoch 97/100\n",
      "160/160 [==============================] - 1s 4ms/step - loss: 0.2099 - accuracy: 0.9195 - val_loss: 0.2373 - val_accuracy: 0.9137\n",
      "Epoch 98/100\n",
      "160/160 [==============================] - 1s 4ms/step - loss: 0.2124 - accuracy: 0.9211 - val_loss: 0.2459 - val_accuracy: 0.9058\n",
      "Epoch 99/100\n",
      "160/160 [==============================] - 1s 4ms/step - loss: 0.2138 - accuracy: 0.9254 - val_loss: 0.2449 - val_accuracy: 0.9089\n",
      "Epoch 100/100\n",
      "160/160 [==============================] - 1s 4ms/step - loss: 0.1987 - accuracy: 0.9246 - val_loss: 0.2477 - val_accuracy: 0.9215\n"
     ]
    }
   ],
   "source": [
    "# Define the neural network model\n",
    "model = Sequential([\n",
    "    Dense(128, activation='relu'),\n",
    "    Dropout(0.5),\n",
    "    Dense(64, activation='relu'),\n",
    "    Dropout(0.5),\n",
    "    Dense(64, activation='relu'),\n",
    "    Dropout(0.5),\n",
    "    Dense(32, activation='relu'),\n",
    "    Dropout(0.5),\n",
    "    Dense(1, activation='sigmoid')\n",
    "])\n",
    "\n",
    "# Compile the model\n",
    "model.compile(optimizer='adam',\n",
    "              loss='binary_crossentropy',\n",
    "              metrics=['accuracy'])\n",
    "\n",
    "\n",
    "\n",
    "# Train the model\n",
    "history = model.fit(X_train_clean, y_train_clean, epochs=100, batch_size=16, verbose=1, validation_split=0.2)"
   ]
  },
  {
   "cell_type": "markdown",
   "id": "734b1f3a",
   "metadata": {
    "papermill": {
     "duration": 0.25758,
     "end_time": "2024-04-25T02:02:37.039135",
     "exception": false,
     "start_time": "2024-04-25T02:02:36.781555",
     "status": "completed"
    },
    "tags": []
   },
   "source": [
    "## <font color=\"green\">performance metrics</font>"
   ]
  },
  {
   "cell_type": "code",
   "execution_count": 49,
   "id": "0dc37fae",
   "metadata": {
    "execution": {
     "iopub.execute_input": "2024-04-25T02:02:37.550204Z",
     "iopub.status.busy": "2024-04-25T02:02:37.549257Z",
     "iopub.status.idle": "2024-04-25T02:02:38.499556Z",
     "shell.execute_reply": "2024-04-25T02:02:38.498486Z"
    },
    "papermill": {
     "duration": 1.208975,
     "end_time": "2024-04-25T02:02:38.501771",
     "exception": false,
     "start_time": "2024-04-25T02:02:37.292796",
     "status": "completed"
    },
    "tags": []
   },
   "outputs": [
    {
     "data": {
      "image/png": "[encoded data removed]",
      "text/plain": [
       "<Figure size 640x480 with 1 Axes>"
      ]
     },
     "metadata": {},
     "output_type": "display_data"
    },
    {
     "name": "stdout",
     "output_type": "stream",
     "text": [
      "100/100 [==============================] - 0s 2ms/step - loss: 0.1529 - accuracy: 0.9482\n",
      "25/25 [==============================] - 0s 2ms/step - loss: 0.2304 - accuracy: 0.9184\n",
      "Training Loss: 0.15286117792129517\n",
      "Training Accuracy: 0.948194682598114\n",
      "Testing Loss: 0.2304317206144333\n",
      "Testing Accuracy: 0.9184441566467285\n",
      "25/25 [==============================] - 0s 1ms/step\n",
      "\n",
      "Accuracy: 0.918444165621079\n",
      "\n",
      "Classification Report:\n"
     ]
    },
    {
     "data": {
      "text/html": [
       "<div>\n",
       "<style scoped>\n",
       "    .dataframe tbody tr th:only-of-type {\n",
       "        vertical-align: middle;\n",
       "    }\n",
       "\n",
       "    .dataframe tbody tr th {\n",
       "        vertical-align: top;\n",
       "    }\n",
       "\n",
       "    .dataframe thead th {\n",
       "        text-align: right;\n",
       "    }\n",
       "</style>\n",
       "<table border=\"1\" class=\"dataframe\">\n",
       "  <thead>\n",
       "    <tr style=\"text-align: right;\">\n",
       "      <th></th>\n",
       "      <th>precision</th>\n",
       "      <th>recall</th>\n",
       "      <th>f1-score</th>\n",
       "      <th>support</th>\n",
       "    </tr>\n",
       "  </thead>\n",
       "  <tbody>\n",
       "    <tr>\n",
       "      <th>0</th>\n",
       "      <td>0.927136</td>\n",
       "      <td>0.911111</td>\n",
       "      <td>0.919054</td>\n",
       "      <td>405.000000</td>\n",
       "    </tr>\n",
       "    <tr>\n",
       "      <th>1</th>\n",
       "      <td>0.909774</td>\n",
       "      <td>0.926020</td>\n",
       "      <td>0.917826</td>\n",
       "      <td>392.000000</td>\n",
       "    </tr>\n",
       "    <tr>\n",
       "      <th>accuracy</th>\n",
       "      <td>0.918444</td>\n",
       "      <td>0.918444</td>\n",
       "      <td>0.918444</td>\n",
       "      <td>0.918444</td>\n",
       "    </tr>\n",
       "    <tr>\n",
       "      <th>macro avg</th>\n",
       "      <td>0.918455</td>\n",
       "      <td>0.918566</td>\n",
       "      <td>0.918440</td>\n",
       "      <td>797.000000</td>\n",
       "    </tr>\n",
       "    <tr>\n",
       "      <th>weighted avg</th>\n",
       "      <td>0.918597</td>\n",
       "      <td>0.918444</td>\n",
       "      <td>0.918450</td>\n",
       "      <td>797.000000</td>\n",
       "    </tr>\n",
       "  </tbody>\n",
       "</table>\n",
       "</div>"
      ],
      "text/plain": [
       "              precision    recall  f1-score     support\n",
       "0              0.927136  0.911111  0.919054  405.000000\n",
       "1              0.909774  0.926020  0.917826  392.000000\n",
       "accuracy       0.918444  0.918444  0.918444    0.918444\n",
       "macro avg      0.918455  0.918566  0.918440  797.000000\n",
       "weighted avg   0.918597  0.918444  0.918450  797.000000"
      ]
     },
     "metadata": {},
     "output_type": "display_data"
    },
    {
     "name": "stdout",
     "output_type": "stream",
     "text": [
      "\n",
      "Confusion Matrix:\n",
      "[[369  36]\n",
      " [ 29 363]]\n"
     ]
    }
   ],
   "source": [
    "# Plot training and validation loss curves\n",
    "plt.plot(history.history['loss'], label='Training Loss')\n",
    "plt.plot(history.history['val_loss'], label='Validation Loss')\n",
    "plt.xlabel('Epoch')\n",
    "plt.ylabel('Loss')\n",
    "plt.legend()\n",
    "plt.show()\n",
    "\n",
    "# Evaluate the model on the training and testing data\n",
    "train_loss, train_accuracy = model.evaluate(X_train_clean, y_train_clean)\n",
    "test_loss, test_accuracy = model.evaluate(X_test_clean, y_test_clean)\n",
    "\n",
    "print(\"Training Loss:\", train_loss)\n",
    "print(\"Training Accuracy:\", train_accuracy)\n",
    "print(\"Testing Loss:\", test_loss)\n",
    "print(\"Testing Accuracy:\", test_accuracy)\n",
    "\n",
    "# Evaluate the model on the testing data\n",
    "y_pred_NN_clean = model.predict(X_test_clean)\n",
    "\n",
    "NN_results_no_outl, NN_accuracy_no_outl = test_model(y_test_clean, y_pred_NN_clean, model_name=\"NN\")"
   ]
  },
  {
   "cell_type": "markdown",
   "id": "8ea6a0a1",
   "metadata": {
    "papermill": {
     "duration": 0.255329,
     "end_time": "2024-04-25T02:02:39.070611",
     "exception": false,
     "start_time": "2024-04-25T02:02:38.815282",
     "status": "completed"
    },
    "tags": []
   },
   "source": [
    "## <font color=\"green\">ROC-AUC</font>"
   ]
  },
  {
   "cell_type": "code",
   "execution_count": 50,
   "id": "f78636ab",
   "metadata": {
    "execution": {
     "iopub.execute_input": "2024-04-25T02:02:39.585197Z",
     "iopub.status.busy": "2024-04-25T02:02:39.584828Z",
     "iopub.status.idle": "2024-04-25T02:02:39.822651Z",
     "shell.execute_reply": "2024-04-25T02:02:39.821752Z"
    },
    "papermill": {
     "duration": 0.497309,
     "end_time": "2024-04-25T02:02:39.824665",
     "exception": false,
     "start_time": "2024-04-25T02:02:39.327356",
     "status": "completed"
    },
    "tags": []
   },
   "outputs": [
    {
     "name": "stdout",
     "output_type": "stream",
     "text": [
      "ROC AUC: 0.9709309649785841\n"
     ]
    },
    {
     "data": {
      "image/png": "[encoded data removed]",
      "text/plain": [
       "<Figure size 800x600 with 1 Axes>"
      ]
     },
     "metadata": {},
     "output_type": "display_data"
    }
   ],
   "source": [
    "ROC_AUC(y_pred_NN_clean, y_test_clean)"
   ]
  },
  {
   "cell_type": "markdown",
   "id": "f59704d6",
   "metadata": {
    "papermill": {
     "duration": 0.260603,
     "end_time": "2024-04-25T02:02:40.340493",
     "exception": false,
     "start_time": "2024-04-25T02:02:40.079890",
     "status": "completed"
    },
    "tags": []
   },
   "source": [
    "## <font color=\"green\">Logistic Regression, trained on data scaled with Robust Scaler</font>"
   ]
  },
  {
   "cell_type": "markdown",
   "id": "dce00832",
   "metadata": {
    "papermill": {
     "duration": 0.26062,
     "end_time": "2024-04-25T02:02:40.858402",
     "exception": false,
     "start_time": "2024-04-25T02:02:40.597782",
     "status": "completed"
    },
    "tags": []
   },
   "source": [
    "Talking Points\n",
    "\n",
    "- Pipeline combines feature scaling and logistic regression.\n",
    "- Hyperparameters grid defined for logistic regression.\n",
    "- Grid search with cross-validation for parameter tuning.\n",
    "- Best model selected based on F1 score.\n",
    "- Model's performance evaluated on test set.\n",
    "- Best hyperparameters extracted for further analysis."
   ]
  },
  {
   "cell_type": "code",
   "execution_count": 51,
   "id": "1c1f614b",
   "metadata": {
    "execution": {
     "iopub.execute_input": "2024-04-25T02:02:41.375478Z",
     "iopub.status.busy": "2024-04-25T02:02:41.374624Z",
     "iopub.status.idle": "2024-04-25T02:02:41.662253Z",
     "shell.execute_reply": "2024-04-25T02:02:41.661315Z"
    },
    "papermill": {
     "duration": 0.551602,
     "end_time": "2024-04-25T02:02:41.664484",
     "exception": false,
     "start_time": "2024-04-25T02:02:41.112882",
     "status": "completed"
    },
    "tags": []
   },
   "outputs": [
    {
     "name": "stdout",
     "output_type": "stream",
     "text": [
      "{'log_reg__solver': 'liblinear', 'log_reg__penalty': 'l1', 'log_reg__max_iter': 200, 'log_reg__C': 0.1}\n"
     ]
    }
   ],
   "source": [
    "# using pipeline with feature scaling and lr\n",
    "pipeline = Pipeline([\n",
    "    ('scaler', StandardScaler()),  # Feature scaling step\n",
    "    ('log_reg', LogisticRegression())\n",
    "])\n",
    "\n",
    "# hyperparameters \n",
    "param_grid = {\n",
    "    'log_reg__C': [0.001, 0.01, 0.1, 1, 10, 100],  # Regularization parameter\n",
    "    'log_reg__penalty': ['l1', 'l2'],               # Using L1 and L2 as penalties\n",
    "    'log_reg__solver': ['liblinear', 'saga'],       # Solvers for logistic regression\n",
    "    'log_reg__max_iter': [100, 200, 300],           # Maximum number of iterations\n",
    "}\n",
    "\n",
    "# gridsearch with cross validation\n",
    "randomized_search_LR = RandomizedSearchCV(pipeline, param_distributions=param_grid, cv=5, scoring='accuracy', random_state=42, n_jobs=-1)\n",
    "randomized_search_LR.fit(X_train, y_train)\n",
    "\n",
    "# best model using grid_search\n",
    "best_model = randomized_search_LR.best_estimator_\n",
    "\n",
    "best_LR_params = randomized_search_LR.best_params_\n",
    "print(best_LR_params)\n",
    "\n",
    "# look for best model\n",
    "y_pred_LR = best_model.predict(X_test)"
   ]
  },
  {
   "cell_type": "markdown",
   "id": "b24e0d47",
   "metadata": {
    "papermill": {
     "duration": 0.254973,
     "end_time": "2024-04-25T02:02:42.218334",
     "exception": false,
     "start_time": "2024-04-25T02:02:41.963361",
     "status": "completed"
    },
    "tags": []
   },
   "source": [
    "## <font color=\"green\">performance metrics</font>"
   ]
  },
  {
   "cell_type": "code",
   "execution_count": 52,
   "id": "e1d743ce",
   "metadata": {
    "execution": {
     "iopub.execute_input": "2024-04-25T02:02:42.760868Z",
     "iopub.status.busy": "2024-04-25T02:02:42.760356Z",
     "iopub.status.idle": "2024-04-25T02:02:42.785977Z",
     "shell.execute_reply": "2024-04-25T02:02:42.785058Z"
    },
    "papermill": {
     "duration": 0.310249,
     "end_time": "2024-04-25T02:02:42.788052",
     "exception": false,
     "start_time": "2024-04-25T02:02:42.477803",
     "status": "completed"
    },
    "tags": []
   },
   "outputs": [
    {
     "name": "stdout",
     "output_type": "stream",
     "text": [
      "\n",
      "Accuracy: 0.7443890274314214\n",
      "\n",
      "Classification Report:\n"
     ]
    },
    {
     "data": {
      "text/html": [
       "<div>\n",
       "<style scoped>\n",
       "    .dataframe tbody tr th:only-of-type {\n",
       "        vertical-align: middle;\n",
       "    }\n",
       "\n",
       "    .dataframe tbody tr th {\n",
       "        vertical-align: top;\n",
       "    }\n",
       "\n",
       "    .dataframe thead th {\n",
       "        text-align: right;\n",
       "    }\n",
       "</style>\n",
       "<table border=\"1\" class=\"dataframe\">\n",
       "  <thead>\n",
       "    <tr style=\"text-align: right;\">\n",
       "      <th></th>\n",
       "      <th>precision</th>\n",
       "      <th>recall</th>\n",
       "      <th>f1-score</th>\n",
       "      <th>support</th>\n",
       "    </tr>\n",
       "  </thead>\n",
       "  <tbody>\n",
       "    <tr>\n",
       "      <th>0</th>\n",
       "      <td>0.730673</td>\n",
       "      <td>0.751282</td>\n",
       "      <td>0.740834</td>\n",
       "      <td>390.000000</td>\n",
       "    </tr>\n",
       "    <tr>\n",
       "      <th>1</th>\n",
       "      <td>0.758105</td>\n",
       "      <td>0.737864</td>\n",
       "      <td>0.747847</td>\n",
       "      <td>412.000000</td>\n",
       "    </tr>\n",
       "    <tr>\n",
       "      <th>accuracy</th>\n",
       "      <td>0.744389</td>\n",
       "      <td>0.744389</td>\n",
       "      <td>0.744389</td>\n",
       "      <td>0.744389</td>\n",
       "    </tr>\n",
       "    <tr>\n",
       "      <th>macro avg</th>\n",
       "      <td>0.744389</td>\n",
       "      <td>0.744573</td>\n",
       "      <td>0.744341</td>\n",
       "      <td>802.000000</td>\n",
       "    </tr>\n",
       "    <tr>\n",
       "      <th>weighted avg</th>\n",
       "      <td>0.744765</td>\n",
       "      <td>0.744389</td>\n",
       "      <td>0.744437</td>\n",
       "      <td>802.000000</td>\n",
       "    </tr>\n",
       "  </tbody>\n",
       "</table>\n",
       "</div>"
      ],
      "text/plain": [
       "              precision    recall  f1-score     support\n",
       "0              0.730673  0.751282  0.740834  390.000000\n",
       "1              0.758105  0.737864  0.747847  412.000000\n",
       "accuracy       0.744389  0.744389  0.744389    0.744389\n",
       "macro avg      0.744389  0.744573  0.744341  802.000000\n",
       "weighted avg   0.744765  0.744389  0.744437  802.000000"
      ]
     },
     "metadata": {},
     "output_type": "display_data"
    },
    {
     "name": "stdout",
     "output_type": "stream",
     "text": [
      "\n",
      "Confusion Matrix:\n",
      "[[293  97]\n",
      " [108 304]]\n"
     ]
    }
   ],
   "source": [
    "#Get performance metrics\n",
    "LR_results, LR_accuracy = test_model(y_test, y_pred_LR)"
   ]
  },
  {
   "cell_type": "markdown",
   "id": "ebfd9b99",
   "metadata": {
    "papermill": {
     "duration": 0.255906,
     "end_time": "2024-04-25T02:02:43.307778",
     "exception": false,
     "start_time": "2024-04-25T02:02:43.051872",
     "status": "completed"
    },
    "tags": []
   },
   "source": [
    "## <font color=\"green\">Logistic Regression, trained on data without outliers</font>"
   ]
  },
  {
   "cell_type": "code",
   "execution_count": 53,
   "id": "5d91c0e9",
   "metadata": {
    "execution": {
     "iopub.execute_input": "2024-04-25T02:02:43.824248Z",
     "iopub.status.busy": "2024-04-25T02:02:43.823557Z",
     "iopub.status.idle": "2024-04-25T02:02:44.109112Z",
     "shell.execute_reply": "2024-04-25T02:02:44.108167Z"
    },
    "papermill": {
     "duration": 0.545913,
     "end_time": "2024-04-25T02:02:44.111579",
     "exception": false,
     "start_time": "2024-04-25T02:02:43.565666",
     "status": "completed"
    },
    "tags": []
   },
   "outputs": [
    {
     "name": "stdout",
     "output_type": "stream",
     "text": [
      "{'log_reg__solver': 'liblinear', 'log_reg__penalty': 'l2', 'log_reg__max_iter': 100, 'log_reg__C': 100}\n"
     ]
    }
   ],
   "source": [
    "# using pipeline with feature scaling and lr\n",
    "pipeline = Pipeline([\n",
    "    ('scaler', StandardScaler()),  # Feature scaling step\n",
    "    ('log_reg', LogisticRegression())\n",
    "])\n",
    "\n",
    "# hyperparameters \n",
    "LR_grid_clean = {\n",
    "    'log_reg__C': [0.001, 0.01, 0.1, 1, 10, 100],  # Regularization parameter\n",
    "    'log_reg__penalty': ['l1', 'l2'],               # Using L1 and L2 as penalties\n",
    "    'log_reg__solver': ['liblinear', 'saga'],       # Solvers for logistic regression\n",
    "    'log_reg__max_iter': [100, 200, 300],           # Maximum number of iterations\n",
    "}\n",
    "\n",
    "randomized_search_LR_Clean = RandomizedSearchCV(pipeline, param_distributions=LR_grid_clean, cv=5, scoring='accuracy', random_state=42, n_jobs=-1)\n",
    "randomized_search_LR_Clean.fit(X_train_clean, y_train_clean)\n",
    "\n",
    "# best model using grid_search\n",
    "best_model_clean = randomized_search_LR_Clean.best_estimator_\n",
    "\n",
    "best_LR_params_clean = randomized_search_LR_Clean.best_params_\n",
    "print(best_LR_params_clean)\n",
    "\n",
    "# look for best model\n",
    "y_pred_LR_clean = best_model_clean.predict(X_test_clean)\n",
    "LR_accuracy_clean = accuracy_score(y_test_clean, y_pred_LR_clean)\n",
    "LR_acc_score_clean = accuracy_score(y_test_clean, y_pred_LR_clean)"
   ]
  },
  {
   "cell_type": "markdown",
   "id": "5b4913bc",
   "metadata": {
    "papermill": {
     "duration": 0.254542,
     "end_time": "2024-04-25T02:02:44.641325",
     "exception": false,
     "start_time": "2024-04-25T02:02:44.386783",
     "status": "completed"
    },
    "tags": []
   },
   "source": [
    "## <font color=\"green\">performance metrics</font>"
   ]
  },
  {
   "cell_type": "code",
   "execution_count": 54,
   "id": "c5fb75d3",
   "metadata": {
    "execution": {
     "iopub.execute_input": "2024-04-25T02:02:45.153489Z",
     "iopub.status.busy": "2024-04-25T02:02:45.152799Z",
     "iopub.status.idle": "2024-04-25T02:02:45.177937Z",
     "shell.execute_reply": "2024-04-25T02:02:45.176762Z"
    },
    "papermill": {
     "duration": 0.284313,
     "end_time": "2024-04-25T02:02:45.179969",
     "exception": false,
     "start_time": "2024-04-25T02:02:44.895656",
     "status": "completed"
    },
    "tags": []
   },
   "outputs": [
    {
     "name": "stdout",
     "output_type": "stream",
     "text": [
      "\n",
      "Accuracy: 0.7302383939774153\n",
      "\n",
      "Classification Report:\n"
     ]
    },
    {
     "data": {
      "text/html": [
       "<div>\n",
       "<style scoped>\n",
       "    .dataframe tbody tr th:only-of-type {\n",
       "        vertical-align: middle;\n",
       "    }\n",
       "\n",
       "    .dataframe tbody tr th {\n",
       "        vertical-align: top;\n",
       "    }\n",
       "\n",
       "    .dataframe thead th {\n",
       "        text-align: right;\n",
       "    }\n",
       "</style>\n",
       "<table border=\"1\" class=\"dataframe\">\n",
       "  <thead>\n",
       "    <tr style=\"text-align: right;\">\n",
       "      <th></th>\n",
       "      <th>precision</th>\n",
       "      <th>recall</th>\n",
       "      <th>f1-score</th>\n",
       "      <th>support</th>\n",
       "    </tr>\n",
       "  </thead>\n",
       "  <tbody>\n",
       "    <tr>\n",
       "      <th>0</th>\n",
       "      <td>0.724057</td>\n",
       "      <td>0.758025</td>\n",
       "      <td>0.740651</td>\n",
       "      <td>405.000000</td>\n",
       "    </tr>\n",
       "    <tr>\n",
       "      <th>1</th>\n",
       "      <td>0.737265</td>\n",
       "      <td>0.701531</td>\n",
       "      <td>0.718954</td>\n",
       "      <td>392.000000</td>\n",
       "    </tr>\n",
       "    <tr>\n",
       "      <th>accuracy</th>\n",
       "      <td>0.730238</td>\n",
       "      <td>0.730238</td>\n",
       "      <td>0.730238</td>\n",
       "      <td>0.730238</td>\n",
       "    </tr>\n",
       "    <tr>\n",
       "      <th>macro avg</th>\n",
       "      <td>0.730661</td>\n",
       "      <td>0.729778</td>\n",
       "      <td>0.729803</td>\n",
       "      <td>797.000000</td>\n",
       "    </tr>\n",
       "    <tr>\n",
       "      <th>weighted avg</th>\n",
       "      <td>0.730553</td>\n",
       "      <td>0.730238</td>\n",
       "      <td>0.729980</td>\n",
       "      <td>797.000000</td>\n",
       "    </tr>\n",
       "  </tbody>\n",
       "</table>\n",
       "</div>"
      ],
      "text/plain": [
       "              precision    recall  f1-score     support\n",
       "0              0.724057  0.758025  0.740651  405.000000\n",
       "1              0.737265  0.701531  0.718954  392.000000\n",
       "accuracy       0.730238  0.730238  0.730238    0.730238\n",
       "macro avg      0.730661  0.729778  0.729803  797.000000\n",
       "weighted avg   0.730553  0.730238  0.729980  797.000000"
      ]
     },
     "metadata": {},
     "output_type": "display_data"
    },
    {
     "name": "stdout",
     "output_type": "stream",
     "text": [
      "\n",
      "Confusion Matrix:\n",
      "[[307  98]\n",
      " [117 275]]\n"
     ]
    }
   ],
   "source": [
    "LR_results_no_outl, LR_accuracy_no_outl = test_model(y_test_clean, y_pred_LR_clean)"
   ]
  },
  {
   "cell_type": "markdown",
   "id": "102392a6",
   "metadata": {
    "papermill": {
     "duration": 0.255501,
     "end_time": "2024-04-25T02:02:45.705202",
     "exception": false,
     "start_time": "2024-04-25T02:02:45.449701",
     "status": "completed"
    },
    "tags": []
   },
   "source": [
    "## <font color=\"green\">AdaBoost, trained on data without outliers</font>"
   ]
  },
  {
   "cell_type": "markdown",
   "id": "5a1c087e",
   "metadata": {
    "papermill": {
     "duration": 0.29845,
     "end_time": "2024-04-25T02:02:46.261120",
     "exception": false,
     "start_time": "2024-04-25T02:02:45.962670",
     "status": "completed"
    },
    "tags": []
   },
   "source": [
    "Talking Points\n",
    "- Hyperparameter grid defined for AdaBoost.\n",
    "- Randomized search conducted to optimize hyperparameters.\n",
    "- Cross-validation used for evaluation.\n",
    "- Scoring metric set to accuracy.\n",
    "- Best hyperparameters extracted.\n",
    "- Best AdaBoost model obtained.\n",
    "- Model evaluated on test data.\n",
    "- Performance metrics calculated and stored."
   ]
  },
  {
   "cell_type": "code",
   "execution_count": 55,
   "id": "21d1cf26",
   "metadata": {
    "execution": {
     "iopub.execute_input": "2024-04-25T02:02:46.784727Z",
     "iopub.status.busy": "2024-04-25T02:02:46.783786Z",
     "iopub.status.idle": "2024-04-25T02:03:03.524895Z",
     "shell.execute_reply": "2024-04-25T02:03:03.523778Z"
    },
    "papermill": {
     "duration": 17.01005,
     "end_time": "2024-04-25T02:03:03.527024",
     "exception": false,
     "start_time": "2024-04-25T02:02:46.516974",
     "status": "completed"
    },
    "tags": []
   },
   "outputs": [
    {
     "name": "stdout",
     "output_type": "stream",
     "text": [
      "Best Hyperparameters: {'n_estimators': 150, 'learning_rate': 0.5}\n"
     ]
    }
   ],
   "source": [
    "Ada_param_grid = {\n",
    "    'n_estimators': [50, 100, 150, 200, 250],\n",
    "    'learning_rate': [0.01, 0.05, 0.1, 0.5, 1.0, 1.5]\n",
    "}\n",
    "\n",
    "adaBoost_model_clean = AdaBoostClassifier()\n",
    "\n",
    "randomized_search_clean = RandomizedSearchCV(adaBoost_model_clean, param_distributions=Ada_param_grid, n_iter=10,\\\n",
    "                                             cv=5, scoring='accuracy', random_state=42, n_jobs=-1)\n",
    "\n",
    "randomized_search_clean.fit(X_train_clean, y_train_clean)\n",
    "\n",
    "best_ADA_params_clean = randomized_search_clean.best_params_\n",
    "print(f\"Best Hyperparameters: {best_ADA_params_clean}\")\n",
    "\n",
    "best_ADA_model_clean = randomized_search_clean.best_estimator_\n",
    "y_pred_ADA_clean = best_ADA_model_clean.predict(X_test_clean)\n",
    "\n",
    "ADA_acc_score = accuracy_score(y_test_clean, y_pred_ADA_clean)"
   ]
  },
  {
   "cell_type": "markdown",
   "id": "baf071cb",
   "metadata": {
    "papermill": {
     "duration": 0.257879,
     "end_time": "2024-04-25T02:03:04.041808",
     "exception": false,
     "start_time": "2024-04-25T02:03:03.783929",
     "status": "completed"
    },
    "tags": []
   },
   "source": [
    "## <font color=\"green\">performance metrics</font>"
   ]
  },
  {
   "cell_type": "code",
   "execution_count": 56,
   "id": "6587a1ef",
   "metadata": {
    "execution": {
     "iopub.execute_input": "2024-04-25T02:03:04.555192Z",
     "iopub.status.busy": "2024-04-25T02:03:04.554317Z",
     "iopub.status.idle": "2024-04-25T02:03:04.579152Z",
     "shell.execute_reply": "2024-04-25T02:03:04.577885Z"
    },
    "papermill": {
     "duration": 0.284033,
     "end_time": "2024-04-25T02:03:04.581084",
     "exception": false,
     "start_time": "2024-04-25T02:03:04.297051",
     "status": "completed"
    },
    "tags": []
   },
   "outputs": [
    {
     "name": "stdout",
     "output_type": "stream",
     "text": [
      "\n",
      "Accuracy: 0.7553324968632371\n",
      "\n",
      "Classification Report:\n"
     ]
    },
    {
     "data": {
      "text/html": [
       "<div>\n",
       "<style scoped>\n",
       "    .dataframe tbody tr th:only-of-type {\n",
       "        vertical-align: middle;\n",
       "    }\n",
       "\n",
       "    .dataframe tbody tr th {\n",
       "        vertical-align: top;\n",
       "    }\n",
       "\n",
       "    .dataframe thead th {\n",
       "        text-align: right;\n",
       "    }\n",
       "</style>\n",
       "<table border=\"1\" class=\"dataframe\">\n",
       "  <thead>\n",
       "    <tr style=\"text-align: right;\">\n",
       "      <th></th>\n",
       "      <th>precision</th>\n",
       "      <th>recall</th>\n",
       "      <th>f1-score</th>\n",
       "      <th>support</th>\n",
       "    </tr>\n",
       "  </thead>\n",
       "  <tbody>\n",
       "    <tr>\n",
       "      <th>0</th>\n",
       "      <td>0.746479</td>\n",
       "      <td>0.785185</td>\n",
       "      <td>0.765343</td>\n",
       "      <td>405.000000</td>\n",
       "    </tr>\n",
       "    <tr>\n",
       "      <th>1</th>\n",
       "      <td>0.765499</td>\n",
       "      <td>0.724490</td>\n",
       "      <td>0.744430</td>\n",
       "      <td>392.000000</td>\n",
       "    </tr>\n",
       "    <tr>\n",
       "      <th>accuracy</th>\n",
       "      <td>0.755332</td>\n",
       "      <td>0.755332</td>\n",
       "      <td>0.755332</td>\n",
       "      <td>0.755332</td>\n",
       "    </tr>\n",
       "    <tr>\n",
       "      <th>macro avg</th>\n",
       "      <td>0.755989</td>\n",
       "      <td>0.754837</td>\n",
       "      <td>0.754886</td>\n",
       "      <td>797.000000</td>\n",
       "    </tr>\n",
       "    <tr>\n",
       "      <th>weighted avg</th>\n",
       "      <td>0.755834</td>\n",
       "      <td>0.755332</td>\n",
       "      <td>0.755057</td>\n",
       "      <td>797.000000</td>\n",
       "    </tr>\n",
       "  </tbody>\n",
       "</table>\n",
       "</div>"
      ],
      "text/plain": [
       "              precision    recall  f1-score     support\n",
       "0              0.746479  0.785185  0.765343  405.000000\n",
       "1              0.765499  0.724490  0.744430  392.000000\n",
       "accuracy       0.755332  0.755332  0.755332    0.755332\n",
       "macro avg      0.755989  0.754837  0.754886  797.000000\n",
       "weighted avg   0.755834  0.755332  0.755057  797.000000"
      ]
     },
     "metadata": {},
     "output_type": "display_data"
    },
    {
     "name": "stdout",
     "output_type": "stream",
     "text": [
      "\n",
      "Confusion Matrix:\n",
      "[[318  87]\n",
      " [108 284]]\n"
     ]
    }
   ],
   "source": [
    "ADA_results_no_outl,ADA_accuracy_no_outl = test_model(y_test_clean, y_pred_ADA_clean)"
   ]
  },
  {
   "cell_type": "markdown",
   "id": "e48e5095",
   "metadata": {
    "papermill": {
     "duration": 0.256383,
     "end_time": "2024-04-25T02:03:05.096499",
     "exception": false,
     "start_time": "2024-04-25T02:03:04.840116",
     "status": "completed"
    },
    "tags": []
   },
   "source": [
    "## <font color=\"green\">AdaBoost trained on data scaled with Robust Scaler</font>"
   ]
  },
  {
   "cell_type": "code",
   "execution_count": 57,
   "id": "2c58bb5c",
   "metadata": {
    "execution": {
     "iopub.execute_input": "2024-04-25T02:03:05.675755Z",
     "iopub.status.busy": "2024-04-25T02:03:05.674944Z",
     "iopub.status.idle": "2024-04-25T02:03:22.523968Z",
     "shell.execute_reply": "2024-04-25T02:03:22.522748Z"
    },
    "papermill": {
     "duration": 17.171534,
     "end_time": "2024-04-25T02:03:22.527178",
     "exception": false,
     "start_time": "2024-04-25T02:03:05.355644",
     "status": "completed"
    },
    "tags": []
   },
   "outputs": [
    {
     "name": "stdout",
     "output_type": "stream",
     "text": [
      "Best Hyperparameters: {'n_estimators': 150, 'learning_rate': 0.5}\n"
     ]
    }
   ],
   "source": [
    "Ada_param_grid = {\n",
    "    'n_estimators': [50, 100, 150, 200, 250],\n",
    "    'learning_rate': [0.01, 0.05, 0.1, 0.5, 1.0, 1.5]\n",
    "}\n",
    "\n",
    "adaBoost_model = AdaBoostClassifier()\n",
    "\n",
    "randomized_search = RandomizedSearchCV(adaBoost_model, param_distributions=Ada_param_grid, n_iter=10,\\\n",
    "                                       cv=5, scoring='accuracy', random_state=42, n_jobs=-1)\n",
    "\n",
    "randomized_search.fit(X_train, y_train)\n",
    "\n",
    "best_ADA_params = randomized_search.best_params_\n",
    "print(f\"Best Hyperparameters: {best_ADA_params}\")\n",
    "best_ADA_model = randomized_search.best_estimator_\n",
    "y_pred_ADA = best_ADA_model.predict(X_test)"
   ]
  },
  {
   "cell_type": "markdown",
   "id": "2ecb328d",
   "metadata": {
    "papermill": {
     "duration": 0.259377,
     "end_time": "2024-04-25T02:03:23.076186",
     "exception": false,
     "start_time": "2024-04-25T02:03:22.816809",
     "status": "completed"
    },
    "tags": []
   },
   "source": [
    "## <font color=\"green\">performance metrics</font>"
   ]
  },
  {
   "cell_type": "code",
   "execution_count": 58,
   "id": "93523f66",
   "metadata": {
    "execution": {
     "iopub.execute_input": "2024-04-25T02:03:23.605833Z",
     "iopub.status.busy": "2024-04-25T02:03:23.605095Z",
     "iopub.status.idle": "2024-04-25T02:03:23.630447Z",
     "shell.execute_reply": "2024-04-25T02:03:23.629268Z"
    },
    "papermill": {
     "duration": 0.29492,
     "end_time": "2024-04-25T02:03:23.632533",
     "exception": false,
     "start_time": "2024-04-25T02:03:23.337613",
     "status": "completed"
    },
    "tags": []
   },
   "outputs": [
    {
     "name": "stdout",
     "output_type": "stream",
     "text": [
      "\n",
      "Accuracy: 0.7743142144638404\n",
      "\n",
      "Classification Report:\n"
     ]
    },
    {
     "data": {
      "text/html": [
       "<div>\n",
       "<style scoped>\n",
       "    .dataframe tbody tr th:only-of-type {\n",
       "        vertical-align: middle;\n",
       "    }\n",
       "\n",
       "    .dataframe tbody tr th {\n",
       "        vertical-align: top;\n",
       "    }\n",
       "\n",
       "    .dataframe thead th {\n",
       "        text-align: right;\n",
       "    }\n",
       "</style>\n",
       "<table border=\"1\" class=\"dataframe\">\n",
       "  <thead>\n",
       "    <tr style=\"text-align: right;\">\n",
       "      <th></th>\n",
       "      <th>precision</th>\n",
       "      <th>recall</th>\n",
       "      <th>f1-score</th>\n",
       "      <th>support</th>\n",
       "    </tr>\n",
       "  </thead>\n",
       "  <tbody>\n",
       "    <tr>\n",
       "      <th>0</th>\n",
       "      <td>0.753027</td>\n",
       "      <td>0.797436</td>\n",
       "      <td>0.774595</td>\n",
       "      <td>390.000000</td>\n",
       "    </tr>\n",
       "    <tr>\n",
       "      <th>1</th>\n",
       "      <td>0.796915</td>\n",
       "      <td>0.752427</td>\n",
       "      <td>0.774032</td>\n",
       "      <td>412.000000</td>\n",
       "    </tr>\n",
       "    <tr>\n",
       "      <th>accuracy</th>\n",
       "      <td>0.774314</td>\n",
       "      <td>0.774314</td>\n",
       "      <td>0.774314</td>\n",
       "      <td>0.774314</td>\n",
       "    </tr>\n",
       "    <tr>\n",
       "      <th>macro avg</th>\n",
       "      <td>0.774971</td>\n",
       "      <td>0.774932</td>\n",
       "      <td>0.774314</td>\n",
       "      <td>802.000000</td>\n",
       "    </tr>\n",
       "    <tr>\n",
       "      <th>weighted avg</th>\n",
       "      <td>0.775573</td>\n",
       "      <td>0.774314</td>\n",
       "      <td>0.774306</td>\n",
       "      <td>802.000000</td>\n",
       "    </tr>\n",
       "  </tbody>\n",
       "</table>\n",
       "</div>"
      ],
      "text/plain": [
       "              precision    recall  f1-score     support\n",
       "0              0.753027  0.797436  0.774595  390.000000\n",
       "1              0.796915  0.752427  0.774032  412.000000\n",
       "accuracy       0.774314  0.774314  0.774314    0.774314\n",
       "macro avg      0.774971  0.774932  0.774314  802.000000\n",
       "weighted avg   0.775573  0.774314  0.774306  802.000000"
      ]
     },
     "metadata": {},
     "output_type": "display_data"
    },
    {
     "name": "stdout",
     "output_type": "stream",
     "text": [
      "\n",
      "Confusion Matrix:\n",
      "[[311  79]\n",
      " [102 310]]\n"
     ]
    }
   ],
   "source": [
    "ADA_results, ADA_accuracy = test_model(y_test, y_pred_ADA)"
   ]
  },
  {
   "cell_type": "markdown",
   "id": "228fde38",
   "metadata": {
    "papermill": {
     "duration": 0.259128,
     "end_time": "2024-04-25T02:03:24.168077",
     "exception": false,
     "start_time": "2024-04-25T02:03:23.908949",
     "status": "completed"
    },
    "tags": []
   },
   "source": [
    "# <font color=\"blue\">Results</font>"
   ]
  },
  {
   "cell_type": "markdown",
   "id": "cd4d9888",
   "metadata": {
    "papermill": {
     "duration": 0.259183,
     "end_time": "2024-04-25T02:03:24.689328",
     "exception": false,
     "start_time": "2024-04-25T02:03:24.430145",
     "status": "completed"
    },
    "tags": []
   },
   "source": [
    "Merge all performance metric values from all models into a single dataframe"
   ]
  },
  {
   "cell_type": "code",
   "execution_count": 59,
   "id": "a84253b5",
   "metadata": {
    "execution": {
     "iopub.execute_input": "2024-04-25T02:03:25.259106Z",
     "iopub.status.busy": "2024-04-25T02:03:25.258732Z",
     "iopub.status.idle": "2024-04-25T02:03:25.273938Z",
     "shell.execute_reply": "2024-04-25T02:03:25.273055Z"
    },
    "papermill": {
     "duration": 0.323208,
     "end_time": "2024-04-25T02:03:25.275956",
     "exception": false,
     "start_time": "2024-04-25T02:03:24.952748",
     "status": "completed"
    },
    "tags": []
   },
   "outputs": [],
   "source": [
    "df_results_KNN = pd.DataFrame(pd.concat([KNN_results.iloc[-1, :], KNN_results_no_outl.iloc[-1, :]], axis=1))\n",
    "# Set the column names\n",
    "df_results_KNN.columns = [\"KNN - Robust_scaled\", \"KNN - No Outl\"]\n",
    "\n",
    "\n",
    "df_results_SVM = pd.DataFrame(pd.concat([SVM_results.iloc[-1, :], SVM_results_no_outl.iloc[-1, :]], axis=1))\n",
    "# Set the column names\n",
    "df_results_SVM.columns = [\"SVM - Robust_scaled\", \"SVM - No Outl\"]\n",
    "\n",
    "\n",
    "df_results_ADA = pd.DataFrame(pd.concat([ADA_results.iloc[-1, :], ADA_results_no_outl.iloc[-1, :]], axis=1))\n",
    "# Set the column names\n",
    "df_results_ADA.columns = [\"ADA - Robust_scaled\", \"ADA - No Outl\"]\n",
    "\n",
    "\n",
    "df_results_RF = pd.DataFrame(pd.concat([RF_results.iloc[-1, :], RF_results_no_outl.iloc[-1, :]], axis=1))\n",
    "# Set the column names\n",
    "df_results_RF.columns = [\"RF - Robust_scaled\", \"RF - No Outl\"]\n",
    "\n",
    "\n",
    "df_results_LR = pd.DataFrame(pd.concat([LR_results.iloc[-1, :], LR_results_no_outl.iloc[-1, :]], axis=1))\n",
    "# Set the column names\n",
    "df_results_LR.columns = [\"LR - Robust_scaled\", \"LR - No Outl\"]\n",
    "\n",
    "\n",
    "df_results_NN = pd.DataFrame(pd.concat([NN_results.iloc[-1, :], NN_results_no_outl.iloc[-1, :]], axis=1))\n",
    "# Set the column names\n",
    "df_results_NN.columns = [\"NN - Robust_scaled\", \"NN - No Outl\"]\n"
   ]
  },
  {
   "cell_type": "code",
   "execution_count": 60,
   "id": "d5ab32ed",
   "metadata": {
    "execution": {
     "iopub.execute_input": "2024-04-25T02:03:25.791202Z",
     "iopub.status.busy": "2024-04-25T02:03:25.790835Z",
     "iopub.status.idle": "2024-04-25T02:03:25.795917Z",
     "shell.execute_reply": "2024-04-25T02:03:25.795013Z"
    },
    "papermill": {
     "duration": 0.263124,
     "end_time": "2024-04-25T02:03:25.797806",
     "exception": false,
     "start_time": "2024-04-25T02:03:25.534682",
     "status": "completed"
    },
    "tags": []
   },
   "outputs": [],
   "source": [
    "accuracy_array = np.array([SVM_accuracy, SVM_accuracy_no_outl,NN_accuracy, NN_accuracy_no_outl,KNN_accuracy, \\\n",
    "                           KNN_accuracy_no_outl,ADA_accuracy, ADA_accuracy_no_outl,RF_accuracy, RF_accuracy_no_outl,LR_accuracy, LR_accuracy_no_outl])\n",
    "accuracy_array = accuracy_array.reshape(12,1)\n",
    "# accuracy_array"
   ]
  },
  {
   "cell_type": "markdown",
   "id": "47be384d",
   "metadata": {
    "papermill": {
     "duration": 0.276077,
     "end_time": "2024-04-25T02:03:26.333034",
     "exception": false,
     "start_time": "2024-04-25T02:03:26.056957",
     "status": "completed"
    },
    "tags": []
   },
   "source": [
    "## <font color=\"blue\">Performance Metrics</font>\n",
    "- Precision measures the proportion of correctly predicted positive instances among all instances predicted as positive, indicating the model's ability to avoid false positives. \n",
    "- Recall quantifies the proportion of correctly predicted positive instances among all actual positive instances, indicating the model's ability to capture all positive instances without missing any. \n",
    "- F1 combines precision and recall into a single metric, providing a harmonic mean that balances both metrics, useful for situations where precision and recall are both important and need to be considered simultaneously.\n",
    "- Accuracy: calculates as the ratio of the number of correct predictions to the total number of predictions.\n",
    "- The ROC (Receiver Operating Characteristic) curve is a graphical representation of the true positive rate against the false positive rate at various threshold settings. The AUC is the area under this curve, ranging from 0 to 1."
   ]
  },
  {
   "cell_type": "code",
   "execution_count": 61,
   "id": "f00135c8",
   "metadata": {
    "execution": {
     "iopub.execute_input": "2024-04-25T02:03:26.867488Z",
     "iopub.status.busy": "2024-04-25T02:03:26.867111Z",
     "iopub.status.idle": "2024-04-25T02:03:26.881982Z",
     "shell.execute_reply": "2024-04-25T02:03:26.881108Z"
    },
    "papermill": {
     "duration": 0.280154,
     "end_time": "2024-04-25T02:03:26.884143",
     "exception": false,
     "start_time": "2024-04-25T02:03:26.603989",
     "status": "completed"
    },
    "tags": []
   },
   "outputs": [
    {
     "data": {
      "text/html": [
       "<div>\n",
       "<style scoped>\n",
       "    .dataframe tbody tr th:only-of-type {\n",
       "        vertical-align: middle;\n",
       "    }\n",
       "\n",
       "    .dataframe tbody tr th {\n",
       "        vertical-align: top;\n",
       "    }\n",
       "\n",
       "    .dataframe thead th {\n",
       "        text-align: right;\n",
       "    }\n",
       "</style>\n",
       "<table border=\"1\" class=\"dataframe\">\n",
       "  <thead>\n",
       "    <tr style=\"text-align: right;\">\n",
       "      <th></th>\n",
       "      <th>precision</th>\n",
       "      <th>recall</th>\n",
       "      <th>f1-score</th>\n",
       "      <th>Accuracy</th>\n",
       "    </tr>\n",
       "  </thead>\n",
       "  <tbody>\n",
       "    <tr>\n",
       "      <th>SVM - Robust_scaled</th>\n",
       "      <td>0.915528</td>\n",
       "      <td>0.915212</td>\n",
       "      <td>0.915228</td>\n",
       "      <td>0.915212</td>\n",
       "    </tr>\n",
       "    <tr>\n",
       "      <th>SVM - No Outl</th>\n",
       "      <td>0.886447</td>\n",
       "      <td>0.885822</td>\n",
       "      <td>0.885730</td>\n",
       "      <td>0.885822</td>\n",
       "    </tr>\n",
       "    <tr>\n",
       "      <th>NN - Robust_scaled</th>\n",
       "      <td>0.887635</td>\n",
       "      <td>0.886534</td>\n",
       "      <td>0.886351</td>\n",
       "      <td>0.886534</td>\n",
       "    </tr>\n",
       "    <tr>\n",
       "      <th>NN - No Outl</th>\n",
       "      <td>0.918597</td>\n",
       "      <td>0.918444</td>\n",
       "      <td>0.918450</td>\n",
       "      <td>0.918444</td>\n",
       "    </tr>\n",
       "    <tr>\n",
       "      <th>KNN - Robust_scaled</th>\n",
       "      <td>0.889126</td>\n",
       "      <td>0.889027</td>\n",
       "      <td>0.889042</td>\n",
       "      <td>0.889027</td>\n",
       "    </tr>\n",
       "    <tr>\n",
       "      <th>KNN - No Outl</th>\n",
       "      <td>0.875818</td>\n",
       "      <td>0.875784</td>\n",
       "      <td>0.875767</td>\n",
       "      <td>0.875784</td>\n",
       "    </tr>\n",
       "    <tr>\n",
       "      <th>ADA - Robust_scaled</th>\n",
       "      <td>0.775573</td>\n",
       "      <td>0.774314</td>\n",
       "      <td>0.774306</td>\n",
       "      <td>0.774314</td>\n",
       "    </tr>\n",
       "    <tr>\n",
       "      <th>ADA - No Outl</th>\n",
       "      <td>0.755834</td>\n",
       "      <td>0.755332</td>\n",
       "      <td>0.755057</td>\n",
       "      <td>0.755332</td>\n",
       "    </tr>\n",
       "    <tr>\n",
       "      <th>RF - Robust_scaled</th>\n",
       "      <td>0.890274</td>\n",
       "      <td>0.890274</td>\n",
       "      <td>0.890274</td>\n",
       "      <td>0.890274</td>\n",
       "    </tr>\n",
       "    <tr>\n",
       "      <th>RF - No Outl</th>\n",
       "      <td>0.875869</td>\n",
       "      <td>0.875784</td>\n",
       "      <td>0.875792</td>\n",
       "      <td>0.875784</td>\n",
       "    </tr>\n",
       "    <tr>\n",
       "      <th>LR - Robust_scaled</th>\n",
       "      <td>0.744765</td>\n",
       "      <td>0.744389</td>\n",
       "      <td>0.744437</td>\n",
       "      <td>0.744389</td>\n",
       "    </tr>\n",
       "    <tr>\n",
       "      <th>LR - No Outl</th>\n",
       "      <td>0.730553</td>\n",
       "      <td>0.730238</td>\n",
       "      <td>0.729980</td>\n",
       "      <td>0.730238</td>\n",
       "    </tr>\n",
       "  </tbody>\n",
       "</table>\n",
       "</div>"
      ],
      "text/plain": [
       "                     precision    recall  f1-score  Accuracy\n",
       "SVM - Robust_scaled   0.915528  0.915212  0.915228  0.915212\n",
       "SVM - No Outl         0.886447  0.885822  0.885730  0.885822\n",
       "NN - Robust_scaled    0.887635  0.886534  0.886351  0.886534\n",
       "NN - No Outl          0.918597  0.918444  0.918450  0.918444\n",
       "KNN - Robust_scaled   0.889126  0.889027  0.889042  0.889027\n",
       "KNN - No Outl         0.875818  0.875784  0.875767  0.875784\n",
       "ADA - Robust_scaled   0.775573  0.774314  0.774306  0.774314\n",
       "ADA - No Outl         0.755834  0.755332  0.755057  0.755332\n",
       "RF - Robust_scaled    0.890274  0.890274  0.890274  0.890274\n",
       "RF - No Outl          0.875869  0.875784  0.875792  0.875784\n",
       "LR - Robust_scaled    0.744765  0.744389  0.744437  0.744389\n",
       "LR - No Outl          0.730553  0.730238  0.729980  0.730238"
      ]
     },
     "execution_count": 61,
     "metadata": {},
     "output_type": "execute_result"
    }
   ],
   "source": [
    "df_results_final = pd.concat([df_results_SVM, df_results_NN, df_results_KNN, df_results_ADA, df_results_RF, df_results_LR], axis=1)\n",
    "df_results_final = df_results_final.iloc[:-1, :].T\n",
    "df_results_final['Accuracy'] = accuracy_array\n",
    "df_results_final"
   ]
  },
  {
   "cell_type": "markdown",
   "id": "93ae7c0a",
   "metadata": {
    "papermill": {
     "duration": 0.261652,
     "end_time": "2024-04-25T02:03:27.424044",
     "exception": false,
     "start_time": "2024-04-25T02:03:27.162392",
     "status": "completed"
    },
    "tags": []
   },
   "source": [
    "## NN ROC-AUC"
   ]
  },
  {
   "cell_type": "code",
   "execution_count": 62,
   "id": "ed14f103",
   "metadata": {
    "execution": {
     "iopub.execute_input": "2024-04-25T02:03:27.945320Z",
     "iopub.status.busy": "2024-04-25T02:03:27.944917Z",
     "iopub.status.idle": "2024-04-25T02:03:28.264226Z",
     "shell.execute_reply": "2024-04-25T02:03:28.263318Z"
    },
    "papermill": {
     "duration": 0.584752,
     "end_time": "2024-04-25T02:03:28.266163",
     "exception": false,
     "start_time": "2024-04-25T02:03:27.681411",
     "status": "completed"
    },
    "tags": []
   },
   "outputs": [
    {
     "name": "stdout",
     "output_type": "stream",
     "text": [
      "ROC AUC: 0.9709309649785841\n"
     ]
    },
    {
     "data": {
      "image/png": "[encoded data removed]",
      "text/plain": [
       "<Figure size 800x600 with 1 Axes>"
      ]
     },
     "metadata": {},
     "output_type": "display_data"
    }
   ],
   "source": [
    "ROC_AUC(y_pred_NN_clean, y_test_clean)"
   ]
  },
  {
   "cell_type": "markdown",
   "id": "d383961e",
   "metadata": {
    "papermill": {
     "duration": 0.26213,
     "end_time": "2024-04-25T02:03:28.836126",
     "exception": false,
     "start_time": "2024-04-25T02:03:28.573996",
     "status": "completed"
    },
    "tags": []
   },
   "source": [
    "## Final Remarks:\n",
    "In conclusion, the NN has proven to be the best-performing model, with accuracy and F1 of 92% and 92% respectively, when trained on the dataset without outliers. The project successfully developed a binary classification model for apple quality that outperformed the accuracy set by Nukman Hakim’s SVM model on the dataset without outliers; with the Robust scaled dataset the performance of the NN and SVM is very close (88.6% Vs 91.5%). The comparison of different outlier-handling methods provided valuable insights into model performance, indicating the importance of robust preprocessing techniques in improving model generalization and performance metrics. Further analysis, including feature importance, scaling techniques, model interpretation, and hyperparameter tuning, could provide additional insights and improvements for continued enhancement of the model's predictive capabilities.\n"
   ]
  }
 ],
 "metadata": {
  "kaggle": {
   "accelerator": "nvidiaTeslaT4",
   "dataSources": [
    {
     "datasetId": 4291772,
     "sourceId": 7384155,
     "sourceType": "datasetVersion"
    }
   ],
   "dockerImageVersionId": 30635,
   "isGpuEnabled": true,
   "isInternetEnabled": true,
   "language": "python",
   "sourceType": "notebook"
  },
  "kernelspec": {
   "display_name": "Python 3",
   "language": "python",
   "name": "python3"
  },
  "language_info": {
   "codemirror_mode": {
    "name": "ipython",
    "version": 3
   },
   "file_extension": ".py",
   "mimetype": "text/x-python",
   "name": "python",
   "nbconvert_exporter": "python",
   "pygments_lexer": "ipython3",
   "version": "3.10.12"
  },
  "papermill": {
   "default_parameters": {},
   "duration": 362.62225,
   "end_time": "2024-04-25T02:03:31.818810",
   "environment_variables": {},
   "exception": null,
   "input_path": "__notebook__.ipynb",
   "output_path": "__notebook__.ipynb",
   "parameters": {},
   "start_time": "2024-04-25T01:57:29.196560",
   "version": "2.4.0"
  }
 },
 "nbformat": 4,
 "nbformat_minor": 5
}
